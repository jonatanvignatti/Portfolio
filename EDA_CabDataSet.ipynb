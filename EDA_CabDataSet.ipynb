{
 "cells": [
  {
   "cell_type": "code",
   "execution_count": 1,
   "id": "10daf766",
   "metadata": {},
   "outputs": [],
   "source": [
    "import pandas as pd\n",
    "import seaborn as sns\n",
    "import matplotlib.pyplot as plt\n",
    "import numpy as np"
   ]
  },
  {
   "cell_type": "markdown",
   "id": "447b9a01",
   "metadata": {},
   "source": [
    "### First we need to reed the datasets."
   ]
  },
  {
   "cell_type": "code",
   "execution_count": 2,
   "id": "502cd9d6",
   "metadata": {},
   "outputs": [
    {
     "data": {
      "text/html": [
       "<div>\n",
       "<style scoped>\n",
       "    .dataframe tbody tr th:only-of-type {\n",
       "        vertical-align: middle;\n",
       "    }\n",
       "\n",
       "    .dataframe tbody tr th {\n",
       "        vertical-align: top;\n",
       "    }\n",
       "\n",
       "    .dataframe thead th {\n",
       "        text-align: right;\n",
       "    }\n",
       "</style>\n",
       "<table border=\"1\" class=\"dataframe\">\n",
       "  <thead>\n",
       "    <tr style=\"text-align: right;\">\n",
       "      <th></th>\n",
       "      <th>Transaction ID</th>\n",
       "      <th>Date of Travel</th>\n",
       "      <th>Company</th>\n",
       "      <th>City</th>\n",
       "      <th>KM Travelled</th>\n",
       "      <th>Price Charged</th>\n",
       "      <th>Cost of Trip</th>\n",
       "    </tr>\n",
       "  </thead>\n",
       "  <tbody>\n",
       "    <tr>\n",
       "      <th>0</th>\n",
       "      <td>10000011</td>\n",
       "      <td>42377</td>\n",
       "      <td>Pink Cab</td>\n",
       "      <td>ATLANTA GA</td>\n",
       "      <td>30.45</td>\n",
       "      <td>370.95</td>\n",
       "      <td>313.635</td>\n",
       "    </tr>\n",
       "    <tr>\n",
       "      <th>1</th>\n",
       "      <td>10000012</td>\n",
       "      <td>42375</td>\n",
       "      <td>Pink Cab</td>\n",
       "      <td>ATLANTA GA</td>\n",
       "      <td>28.62</td>\n",
       "      <td>358.52</td>\n",
       "      <td>334.854</td>\n",
       "    </tr>\n",
       "    <tr>\n",
       "      <th>2</th>\n",
       "      <td>10000013</td>\n",
       "      <td>42371</td>\n",
       "      <td>Pink Cab</td>\n",
       "      <td>ATLANTA GA</td>\n",
       "      <td>9.04</td>\n",
       "      <td>125.20</td>\n",
       "      <td>97.632</td>\n",
       "    </tr>\n",
       "    <tr>\n",
       "      <th>3</th>\n",
       "      <td>10000014</td>\n",
       "      <td>42376</td>\n",
       "      <td>Pink Cab</td>\n",
       "      <td>ATLANTA GA</td>\n",
       "      <td>33.17</td>\n",
       "      <td>377.40</td>\n",
       "      <td>351.602</td>\n",
       "    </tr>\n",
       "    <tr>\n",
       "      <th>4</th>\n",
       "      <td>10000015</td>\n",
       "      <td>42372</td>\n",
       "      <td>Pink Cab</td>\n",
       "      <td>ATLANTA GA</td>\n",
       "      <td>8.73</td>\n",
       "      <td>114.62</td>\n",
       "      <td>97.776</td>\n",
       "    </tr>\n",
       "  </tbody>\n",
       "</table>\n",
       "</div>"
      ],
      "text/plain": [
       "   Transaction ID  Date of Travel   Company        City  KM Travelled  \\\n",
       "0        10000011           42377  Pink Cab  ATLANTA GA         30.45   \n",
       "1        10000012           42375  Pink Cab  ATLANTA GA         28.62   \n",
       "2        10000013           42371  Pink Cab  ATLANTA GA          9.04   \n",
       "3        10000014           42376  Pink Cab  ATLANTA GA         33.17   \n",
       "4        10000015           42372  Pink Cab  ATLANTA GA          8.73   \n",
       "\n",
       "   Price Charged  Cost of Trip  \n",
       "0         370.95       313.635  \n",
       "1         358.52       334.854  \n",
       "2         125.20        97.632  \n",
       "3         377.40       351.602  \n",
       "4         114.62        97.776  "
      ]
     },
     "execution_count": 2,
     "metadata": {},
     "output_type": "execute_result"
    }
   ],
   "source": [
    "df1 = pd.read_csv('Cab_Data.csv')\n",
    "df1.head()"
   ]
  },
  {
   "cell_type": "code",
   "execution_count": 3,
   "id": "7ca9748b",
   "metadata": {},
   "outputs": [
    {
     "data": {
      "text/html": [
       "<div>\n",
       "<style scoped>\n",
       "    .dataframe tbody tr th:only-of-type {\n",
       "        vertical-align: middle;\n",
       "    }\n",
       "\n",
       "    .dataframe tbody tr th {\n",
       "        vertical-align: top;\n",
       "    }\n",
       "\n",
       "    .dataframe thead th {\n",
       "        text-align: right;\n",
       "    }\n",
       "</style>\n",
       "<table border=\"1\" class=\"dataframe\">\n",
       "  <thead>\n",
       "    <tr style=\"text-align: right;\">\n",
       "      <th></th>\n",
       "      <th>City</th>\n",
       "      <th>Population</th>\n",
       "      <th>Users</th>\n",
       "    </tr>\n",
       "  </thead>\n",
       "  <tbody>\n",
       "    <tr>\n",
       "      <th>0</th>\n",
       "      <td>NEW YORK NY</td>\n",
       "      <td>8,405,837</td>\n",
       "      <td>302,149</td>\n",
       "    </tr>\n",
       "    <tr>\n",
       "      <th>1</th>\n",
       "      <td>CHICAGO IL</td>\n",
       "      <td>1,955,130</td>\n",
       "      <td>164,468</td>\n",
       "    </tr>\n",
       "    <tr>\n",
       "      <th>2</th>\n",
       "      <td>LOS ANGELES CA</td>\n",
       "      <td>1,595,037</td>\n",
       "      <td>144,132</td>\n",
       "    </tr>\n",
       "    <tr>\n",
       "      <th>3</th>\n",
       "      <td>MIAMI FL</td>\n",
       "      <td>1,339,155</td>\n",
       "      <td>17,675</td>\n",
       "    </tr>\n",
       "    <tr>\n",
       "      <th>4</th>\n",
       "      <td>SILICON VALLEY</td>\n",
       "      <td>1,177,609</td>\n",
       "      <td>27,247</td>\n",
       "    </tr>\n",
       "  </tbody>\n",
       "</table>\n",
       "</div>"
      ],
      "text/plain": [
       "             City   Population      Users\n",
       "0     NEW YORK NY   8,405,837    302,149 \n",
       "1      CHICAGO IL   1,955,130    164,468 \n",
       "2  LOS ANGELES CA   1,595,037    144,132 \n",
       "3        MIAMI FL   1,339,155     17,675 \n",
       "4  SILICON VALLEY   1,177,609     27,247 "
      ]
     },
     "execution_count": 3,
     "metadata": {},
     "output_type": "execute_result"
    }
   ],
   "source": [
    "df2 = pd.read_csv('City.csv')\n",
    "df2.head()"
   ]
  },
  {
   "cell_type": "code",
   "execution_count": 4,
   "id": "2c64c882",
   "metadata": {},
   "outputs": [
    {
     "data": {
      "text/html": [
       "<div>\n",
       "<style scoped>\n",
       "    .dataframe tbody tr th:only-of-type {\n",
       "        vertical-align: middle;\n",
       "    }\n",
       "\n",
       "    .dataframe tbody tr th {\n",
       "        vertical-align: top;\n",
       "    }\n",
       "\n",
       "    .dataframe thead th {\n",
       "        text-align: right;\n",
       "    }\n",
       "</style>\n",
       "<table border=\"1\" class=\"dataframe\">\n",
       "  <thead>\n",
       "    <tr style=\"text-align: right;\">\n",
       "      <th></th>\n",
       "      <th>Customer ID</th>\n",
       "      <th>Gender</th>\n",
       "      <th>Age</th>\n",
       "      <th>Income (USD/Month)</th>\n",
       "    </tr>\n",
       "  </thead>\n",
       "  <tbody>\n",
       "    <tr>\n",
       "      <th>0</th>\n",
       "      <td>29290</td>\n",
       "      <td>Male</td>\n",
       "      <td>28</td>\n",
       "      <td>10813</td>\n",
       "    </tr>\n",
       "    <tr>\n",
       "      <th>1</th>\n",
       "      <td>27703</td>\n",
       "      <td>Male</td>\n",
       "      <td>27</td>\n",
       "      <td>9237</td>\n",
       "    </tr>\n",
       "    <tr>\n",
       "      <th>2</th>\n",
       "      <td>28712</td>\n",
       "      <td>Male</td>\n",
       "      <td>53</td>\n",
       "      <td>11242</td>\n",
       "    </tr>\n",
       "    <tr>\n",
       "      <th>3</th>\n",
       "      <td>28020</td>\n",
       "      <td>Male</td>\n",
       "      <td>23</td>\n",
       "      <td>23327</td>\n",
       "    </tr>\n",
       "    <tr>\n",
       "      <th>4</th>\n",
       "      <td>27182</td>\n",
       "      <td>Male</td>\n",
       "      <td>33</td>\n",
       "      <td>8536</td>\n",
       "    </tr>\n",
       "  </tbody>\n",
       "</table>\n",
       "</div>"
      ],
      "text/plain": [
       "   Customer ID Gender  Age  Income (USD/Month)\n",
       "0        29290   Male   28               10813\n",
       "1        27703   Male   27                9237\n",
       "2        28712   Male   53               11242\n",
       "3        28020   Male   23               23327\n",
       "4        27182   Male   33                8536"
      ]
     },
     "execution_count": 4,
     "metadata": {},
     "output_type": "execute_result"
    }
   ],
   "source": [
    "df3 = pd.read_csv('Customer_ID.csv')\n",
    "df3.head()"
   ]
  },
  {
   "cell_type": "code",
   "execution_count": 5,
   "id": "f5bacfbd",
   "metadata": {
    "scrolled": true
   },
   "outputs": [
    {
     "data": {
      "text/html": [
       "<div>\n",
       "<style scoped>\n",
       "    .dataframe tbody tr th:only-of-type {\n",
       "        vertical-align: middle;\n",
       "    }\n",
       "\n",
       "    .dataframe tbody tr th {\n",
       "        vertical-align: top;\n",
       "    }\n",
       "\n",
       "    .dataframe thead th {\n",
       "        text-align: right;\n",
       "    }\n",
       "</style>\n",
       "<table border=\"1\" class=\"dataframe\">\n",
       "  <thead>\n",
       "    <tr style=\"text-align: right;\">\n",
       "      <th></th>\n",
       "      <th>Transaction ID</th>\n",
       "      <th>Customer ID</th>\n",
       "      <th>Payment_Mode</th>\n",
       "    </tr>\n",
       "  </thead>\n",
       "  <tbody>\n",
       "    <tr>\n",
       "      <th>0</th>\n",
       "      <td>10000011</td>\n",
       "      <td>29290</td>\n",
       "      <td>Card</td>\n",
       "    </tr>\n",
       "    <tr>\n",
       "      <th>1</th>\n",
       "      <td>10000012</td>\n",
       "      <td>27703</td>\n",
       "      <td>Card</td>\n",
       "    </tr>\n",
       "    <tr>\n",
       "      <th>2</th>\n",
       "      <td>10000013</td>\n",
       "      <td>28712</td>\n",
       "      <td>Cash</td>\n",
       "    </tr>\n",
       "    <tr>\n",
       "      <th>3</th>\n",
       "      <td>10000014</td>\n",
       "      <td>28020</td>\n",
       "      <td>Cash</td>\n",
       "    </tr>\n",
       "    <tr>\n",
       "      <th>4</th>\n",
       "      <td>10000015</td>\n",
       "      <td>27182</td>\n",
       "      <td>Card</td>\n",
       "    </tr>\n",
       "  </tbody>\n",
       "</table>\n",
       "</div>"
      ],
      "text/plain": [
       "   Transaction ID  Customer ID Payment_Mode\n",
       "0        10000011        29290         Card\n",
       "1        10000012        27703         Card\n",
       "2        10000013        28712         Cash\n",
       "3        10000014        28020         Cash\n",
       "4        10000015        27182         Card"
      ]
     },
     "execution_count": 5,
     "metadata": {},
     "output_type": "execute_result"
    }
   ],
   "source": [
    "df4 = pd.read_csv('Transaction_ID.csv')\n",
    "df4.head()"
   ]
  },
  {
   "cell_type": "markdown",
   "id": "8091f7f4",
   "metadata": {},
   "source": [
    "### Merging everything but with order"
   ]
  },
  {
   "cell_type": "code",
   "execution_count": 6,
   "id": "040f21f4",
   "metadata": {},
   "outputs": [
    {
     "data": {
      "text/html": [
       "<div>\n",
       "<style scoped>\n",
       "    .dataframe tbody tr th:only-of-type {\n",
       "        vertical-align: middle;\n",
       "    }\n",
       "\n",
       "    .dataframe tbody tr th {\n",
       "        vertical-align: top;\n",
       "    }\n",
       "\n",
       "    .dataframe thead th {\n",
       "        text-align: right;\n",
       "    }\n",
       "</style>\n",
       "<table border=\"1\" class=\"dataframe\">\n",
       "  <thead>\n",
       "    <tr style=\"text-align: right;\">\n",
       "      <th></th>\n",
       "      <th>Customer ID</th>\n",
       "      <th>Gender</th>\n",
       "      <th>Age</th>\n",
       "      <th>Income (USD/Month)</th>\n",
       "      <th>Transaction ID</th>\n",
       "      <th>Payment_Mode</th>\n",
       "    </tr>\n",
       "  </thead>\n",
       "  <tbody>\n",
       "    <tr>\n",
       "      <th>0</th>\n",
       "      <td>29290</td>\n",
       "      <td>Male</td>\n",
       "      <td>28</td>\n",
       "      <td>10813</td>\n",
       "      <td>10000011</td>\n",
       "      <td>Card</td>\n",
       "    </tr>\n",
       "    <tr>\n",
       "      <th>1</th>\n",
       "      <td>29290</td>\n",
       "      <td>Male</td>\n",
       "      <td>28</td>\n",
       "      <td>10813</td>\n",
       "      <td>10351127</td>\n",
       "      <td>Cash</td>\n",
       "    </tr>\n",
       "    <tr>\n",
       "      <th>2</th>\n",
       "      <td>29290</td>\n",
       "      <td>Male</td>\n",
       "      <td>28</td>\n",
       "      <td>10813</td>\n",
       "      <td>10412921</td>\n",
       "      <td>Card</td>\n",
       "    </tr>\n",
       "    <tr>\n",
       "      <th>3</th>\n",
       "      <td>27703</td>\n",
       "      <td>Male</td>\n",
       "      <td>27</td>\n",
       "      <td>9237</td>\n",
       "      <td>10000012</td>\n",
       "      <td>Card</td>\n",
       "    </tr>\n",
       "    <tr>\n",
       "      <th>4</th>\n",
       "      <td>27703</td>\n",
       "      <td>Male</td>\n",
       "      <td>27</td>\n",
       "      <td>9237</td>\n",
       "      <td>10320494</td>\n",
       "      <td>Card</td>\n",
       "    </tr>\n",
       "  </tbody>\n",
       "</table>\n",
       "</div>"
      ],
      "text/plain": [
       "   Customer ID Gender  Age  Income (USD/Month)  Transaction ID Payment_Mode\n",
       "0        29290   Male   28               10813        10000011         Card\n",
       "1        29290   Male   28               10813        10351127         Cash\n",
       "2        29290   Male   28               10813        10412921         Card\n",
       "3        27703   Male   27                9237        10000012         Card\n",
       "4        27703   Male   27                9237        10320494         Card"
      ]
     },
     "execution_count": 6,
     "metadata": {},
     "output_type": "execute_result"
    }
   ],
   "source": [
    "dfa = pd.merge(df3, df4)\n",
    "dfa.head()"
   ]
  },
  {
   "cell_type": "code",
   "execution_count": 7,
   "id": "57a90fc6",
   "metadata": {},
   "outputs": [
    {
     "data": {
      "text/html": [
       "<div>\n",
       "<style scoped>\n",
       "    .dataframe tbody tr th:only-of-type {\n",
       "        vertical-align: middle;\n",
       "    }\n",
       "\n",
       "    .dataframe tbody tr th {\n",
       "        vertical-align: top;\n",
       "    }\n",
       "\n",
       "    .dataframe thead th {\n",
       "        text-align: right;\n",
       "    }\n",
       "</style>\n",
       "<table border=\"1\" class=\"dataframe\">\n",
       "  <thead>\n",
       "    <tr style=\"text-align: right;\">\n",
       "      <th></th>\n",
       "      <th>Transaction ID</th>\n",
       "      <th>Date of Travel</th>\n",
       "      <th>Company</th>\n",
       "      <th>City</th>\n",
       "      <th>KM Travelled</th>\n",
       "      <th>Price Charged</th>\n",
       "      <th>Cost of Trip</th>\n",
       "      <th>Customer ID</th>\n",
       "      <th>Payment_Mode</th>\n",
       "    </tr>\n",
       "  </thead>\n",
       "  <tbody>\n",
       "    <tr>\n",
       "      <th>0</th>\n",
       "      <td>10000011</td>\n",
       "      <td>42377</td>\n",
       "      <td>Pink Cab</td>\n",
       "      <td>ATLANTA GA</td>\n",
       "      <td>30.45</td>\n",
       "      <td>370.95</td>\n",
       "      <td>313.635</td>\n",
       "      <td>29290</td>\n",
       "      <td>Card</td>\n",
       "    </tr>\n",
       "    <tr>\n",
       "      <th>1</th>\n",
       "      <td>10000012</td>\n",
       "      <td>42375</td>\n",
       "      <td>Pink Cab</td>\n",
       "      <td>ATLANTA GA</td>\n",
       "      <td>28.62</td>\n",
       "      <td>358.52</td>\n",
       "      <td>334.854</td>\n",
       "      <td>27703</td>\n",
       "      <td>Card</td>\n",
       "    </tr>\n",
       "    <tr>\n",
       "      <th>2</th>\n",
       "      <td>10000013</td>\n",
       "      <td>42371</td>\n",
       "      <td>Pink Cab</td>\n",
       "      <td>ATLANTA GA</td>\n",
       "      <td>9.04</td>\n",
       "      <td>125.20</td>\n",
       "      <td>97.632</td>\n",
       "      <td>28712</td>\n",
       "      <td>Cash</td>\n",
       "    </tr>\n",
       "    <tr>\n",
       "      <th>3</th>\n",
       "      <td>10000014</td>\n",
       "      <td>42376</td>\n",
       "      <td>Pink Cab</td>\n",
       "      <td>ATLANTA GA</td>\n",
       "      <td>33.17</td>\n",
       "      <td>377.40</td>\n",
       "      <td>351.602</td>\n",
       "      <td>28020</td>\n",
       "      <td>Cash</td>\n",
       "    </tr>\n",
       "    <tr>\n",
       "      <th>4</th>\n",
       "      <td>10000015</td>\n",
       "      <td>42372</td>\n",
       "      <td>Pink Cab</td>\n",
       "      <td>ATLANTA GA</td>\n",
       "      <td>8.73</td>\n",
       "      <td>114.62</td>\n",
       "      <td>97.776</td>\n",
       "      <td>27182</td>\n",
       "      <td>Card</td>\n",
       "    </tr>\n",
       "  </tbody>\n",
       "</table>\n",
       "</div>"
      ],
      "text/plain": [
       "   Transaction ID  Date of Travel   Company        City  KM Travelled  \\\n",
       "0        10000011           42377  Pink Cab  ATLANTA GA         30.45   \n",
       "1        10000012           42375  Pink Cab  ATLANTA GA         28.62   \n",
       "2        10000013           42371  Pink Cab  ATLANTA GA          9.04   \n",
       "3        10000014           42376  Pink Cab  ATLANTA GA         33.17   \n",
       "4        10000015           42372  Pink Cab  ATLANTA GA          8.73   \n",
       "\n",
       "   Price Charged  Cost of Trip  Customer ID Payment_Mode  \n",
       "0         370.95       313.635        29290         Card  \n",
       "1         358.52       334.854        27703         Card  \n",
       "2         125.20        97.632        28712         Cash  \n",
       "3         377.40       351.602        28020         Cash  \n",
       "4         114.62        97.776        27182         Card  "
      ]
     },
     "execution_count": 7,
     "metadata": {},
     "output_type": "execute_result"
    }
   ],
   "source": [
    "dfb = pd.merge(df1, df4)\n",
    "dfb.head()"
   ]
  },
  {
   "cell_type": "code",
   "execution_count": 8,
   "id": "50a9c0fd",
   "metadata": {
    "scrolled": true
   },
   "outputs": [
    {
     "data": {
      "text/html": [
       "<div>\n",
       "<style scoped>\n",
       "    .dataframe tbody tr th:only-of-type {\n",
       "        vertical-align: middle;\n",
       "    }\n",
       "\n",
       "    .dataframe tbody tr th {\n",
       "        vertical-align: top;\n",
       "    }\n",
       "\n",
       "    .dataframe thead th {\n",
       "        text-align: right;\n",
       "    }\n",
       "</style>\n",
       "<table border=\"1\" class=\"dataframe\">\n",
       "  <thead>\n",
       "    <tr style=\"text-align: right;\">\n",
       "      <th></th>\n",
       "      <th>Customer ID</th>\n",
       "      <th>Gender</th>\n",
       "      <th>Age</th>\n",
       "      <th>Income (USD/Month)</th>\n",
       "      <th>Transaction ID</th>\n",
       "      <th>Payment_Mode</th>\n",
       "      <th>Date of Travel</th>\n",
       "      <th>Company</th>\n",
       "      <th>City</th>\n",
       "      <th>KM Travelled</th>\n",
       "      <th>Price Charged</th>\n",
       "      <th>Cost of Trip</th>\n",
       "    </tr>\n",
       "  </thead>\n",
       "  <tbody>\n",
       "    <tr>\n",
       "      <th>0</th>\n",
       "      <td>29290</td>\n",
       "      <td>Male</td>\n",
       "      <td>28</td>\n",
       "      <td>10813</td>\n",
       "      <td>10000011</td>\n",
       "      <td>Card</td>\n",
       "      <td>42377</td>\n",
       "      <td>Pink Cab</td>\n",
       "      <td>ATLANTA GA</td>\n",
       "      <td>30.45</td>\n",
       "      <td>370.95</td>\n",
       "      <td>313.6350</td>\n",
       "    </tr>\n",
       "    <tr>\n",
       "      <th>1</th>\n",
       "      <td>29290</td>\n",
       "      <td>Male</td>\n",
       "      <td>28</td>\n",
       "      <td>10813</td>\n",
       "      <td>10351127</td>\n",
       "      <td>Cash</td>\n",
       "      <td>43302</td>\n",
       "      <td>Yellow Cab</td>\n",
       "      <td>ATLANTA GA</td>\n",
       "      <td>26.19</td>\n",
       "      <td>598.70</td>\n",
       "      <td>317.4228</td>\n",
       "    </tr>\n",
       "    <tr>\n",
       "      <th>2</th>\n",
       "      <td>29290</td>\n",
       "      <td>Male</td>\n",
       "      <td>28</td>\n",
       "      <td>10813</td>\n",
       "      <td>10412921</td>\n",
       "      <td>Card</td>\n",
       "      <td>43427</td>\n",
       "      <td>Yellow Cab</td>\n",
       "      <td>ATLANTA GA</td>\n",
       "      <td>42.55</td>\n",
       "      <td>792.05</td>\n",
       "      <td>597.4020</td>\n",
       "    </tr>\n",
       "    <tr>\n",
       "      <th>3</th>\n",
       "      <td>27703</td>\n",
       "      <td>Male</td>\n",
       "      <td>27</td>\n",
       "      <td>9237</td>\n",
       "      <td>10000012</td>\n",
       "      <td>Card</td>\n",
       "      <td>42375</td>\n",
       "      <td>Pink Cab</td>\n",
       "      <td>ATLANTA GA</td>\n",
       "      <td>28.62</td>\n",
       "      <td>358.52</td>\n",
       "      <td>334.8540</td>\n",
       "    </tr>\n",
       "    <tr>\n",
       "      <th>4</th>\n",
       "      <td>27703</td>\n",
       "      <td>Male</td>\n",
       "      <td>27</td>\n",
       "      <td>9237</td>\n",
       "      <td>10320494</td>\n",
       "      <td>Card</td>\n",
       "      <td>43211</td>\n",
       "      <td>Yellow Cab</td>\n",
       "      <td>ATLANTA GA</td>\n",
       "      <td>36.38</td>\n",
       "      <td>721.10</td>\n",
       "      <td>467.1192</td>\n",
       "    </tr>\n",
       "  </tbody>\n",
       "</table>\n",
       "</div>"
      ],
      "text/plain": [
       "   Customer ID Gender  Age  Income (USD/Month)  Transaction ID Payment_Mode  \\\n",
       "0        29290   Male   28               10813        10000011         Card   \n",
       "1        29290   Male   28               10813        10351127         Cash   \n",
       "2        29290   Male   28               10813        10412921         Card   \n",
       "3        27703   Male   27                9237        10000012         Card   \n",
       "4        27703   Male   27                9237        10320494         Card   \n",
       "\n",
       "   Date of Travel     Company        City  KM Travelled  Price Charged  \\\n",
       "0           42377    Pink Cab  ATLANTA GA         30.45         370.95   \n",
       "1           43302  Yellow Cab  ATLANTA GA         26.19         598.70   \n",
       "2           43427  Yellow Cab  ATLANTA GA         42.55         792.05   \n",
       "3           42375    Pink Cab  ATLANTA GA         28.62         358.52   \n",
       "4           43211  Yellow Cab  ATLANTA GA         36.38         721.10   \n",
       "\n",
       "   Cost of Trip  \n",
       "0      313.6350  \n",
       "1      317.4228  \n",
       "2      597.4020  \n",
       "3      334.8540  \n",
       "4      467.1192  "
      ]
     },
     "execution_count": 8,
     "metadata": {},
     "output_type": "execute_result"
    }
   ],
   "source": [
    "new_df = pd.merge(dfa, dfb)\n",
    "new_df.head()"
   ]
  },
  {
   "cell_type": "code",
   "execution_count": 9,
   "id": "fe9ba196",
   "metadata": {
    "scrolled": true
   },
   "outputs": [
    {
     "data": {
      "text/html": [
       "<div>\n",
       "<style scoped>\n",
       "    .dataframe tbody tr th:only-of-type {\n",
       "        vertical-align: middle;\n",
       "    }\n",
       "\n",
       "    .dataframe tbody tr th {\n",
       "        vertical-align: top;\n",
       "    }\n",
       "\n",
       "    .dataframe thead th {\n",
       "        text-align: right;\n",
       "    }\n",
       "</style>\n",
       "<table border=\"1\" class=\"dataframe\">\n",
       "  <thead>\n",
       "    <tr style=\"text-align: right;\">\n",
       "      <th></th>\n",
       "      <th>Customer ID</th>\n",
       "      <th>Gender</th>\n",
       "      <th>Age</th>\n",
       "      <th>Income (USD/Month)</th>\n",
       "      <th>Transaction ID</th>\n",
       "      <th>Payment_Mode</th>\n",
       "      <th>Date of Travel</th>\n",
       "      <th>Company</th>\n",
       "      <th>City</th>\n",
       "      <th>KM Travelled</th>\n",
       "      <th>Price Charged</th>\n",
       "      <th>Cost of Trip</th>\n",
       "      <th>Population</th>\n",
       "      <th>Users</th>\n",
       "    </tr>\n",
       "  </thead>\n",
       "  <tbody>\n",
       "    <tr>\n",
       "      <th>0</th>\n",
       "      <td>29290</td>\n",
       "      <td>Male</td>\n",
       "      <td>28</td>\n",
       "      <td>10813</td>\n",
       "      <td>10000011</td>\n",
       "      <td>Card</td>\n",
       "      <td>42377</td>\n",
       "      <td>Pink Cab</td>\n",
       "      <td>ATLANTA GA</td>\n",
       "      <td>30.45</td>\n",
       "      <td>370.95</td>\n",
       "      <td>313.6350</td>\n",
       "      <td>814,885</td>\n",
       "      <td>24,701</td>\n",
       "    </tr>\n",
       "    <tr>\n",
       "      <th>1</th>\n",
       "      <td>29290</td>\n",
       "      <td>Male</td>\n",
       "      <td>28</td>\n",
       "      <td>10813</td>\n",
       "      <td>10351127</td>\n",
       "      <td>Cash</td>\n",
       "      <td>43302</td>\n",
       "      <td>Yellow Cab</td>\n",
       "      <td>ATLANTA GA</td>\n",
       "      <td>26.19</td>\n",
       "      <td>598.70</td>\n",
       "      <td>317.4228</td>\n",
       "      <td>814,885</td>\n",
       "      <td>24,701</td>\n",
       "    </tr>\n",
       "    <tr>\n",
       "      <th>2</th>\n",
       "      <td>29290</td>\n",
       "      <td>Male</td>\n",
       "      <td>28</td>\n",
       "      <td>10813</td>\n",
       "      <td>10412921</td>\n",
       "      <td>Card</td>\n",
       "      <td>43427</td>\n",
       "      <td>Yellow Cab</td>\n",
       "      <td>ATLANTA GA</td>\n",
       "      <td>42.55</td>\n",
       "      <td>792.05</td>\n",
       "      <td>597.4020</td>\n",
       "      <td>814,885</td>\n",
       "      <td>24,701</td>\n",
       "    </tr>\n",
       "    <tr>\n",
       "      <th>3</th>\n",
       "      <td>27703</td>\n",
       "      <td>Male</td>\n",
       "      <td>27</td>\n",
       "      <td>9237</td>\n",
       "      <td>10000012</td>\n",
       "      <td>Card</td>\n",
       "      <td>42375</td>\n",
       "      <td>Pink Cab</td>\n",
       "      <td>ATLANTA GA</td>\n",
       "      <td>28.62</td>\n",
       "      <td>358.52</td>\n",
       "      <td>334.8540</td>\n",
       "      <td>814,885</td>\n",
       "      <td>24,701</td>\n",
       "    </tr>\n",
       "    <tr>\n",
       "      <th>4</th>\n",
       "      <td>27703</td>\n",
       "      <td>Male</td>\n",
       "      <td>27</td>\n",
       "      <td>9237</td>\n",
       "      <td>10320494</td>\n",
       "      <td>Card</td>\n",
       "      <td>43211</td>\n",
       "      <td>Yellow Cab</td>\n",
       "      <td>ATLANTA GA</td>\n",
       "      <td>36.38</td>\n",
       "      <td>721.10</td>\n",
       "      <td>467.1192</td>\n",
       "      <td>814,885</td>\n",
       "      <td>24,701</td>\n",
       "    </tr>\n",
       "  </tbody>\n",
       "</table>\n",
       "</div>"
      ],
      "text/plain": [
       "   Customer ID Gender  Age  Income (USD/Month)  Transaction ID Payment_Mode  \\\n",
       "0        29290   Male   28               10813        10000011         Card   \n",
       "1        29290   Male   28               10813        10351127         Cash   \n",
       "2        29290   Male   28               10813        10412921         Card   \n",
       "3        27703   Male   27                9237        10000012         Card   \n",
       "4        27703   Male   27                9237        10320494         Card   \n",
       "\n",
       "   Date of Travel     Company        City  KM Travelled  Price Charged  \\\n",
       "0           42377    Pink Cab  ATLANTA GA         30.45         370.95   \n",
       "1           43302  Yellow Cab  ATLANTA GA         26.19         598.70   \n",
       "2           43427  Yellow Cab  ATLANTA GA         42.55         792.05   \n",
       "3           42375    Pink Cab  ATLANTA GA         28.62         358.52   \n",
       "4           43211  Yellow Cab  ATLANTA GA         36.38         721.10   \n",
       "\n",
       "   Cost of Trip Population     Users  \n",
       "0      313.6350   814,885    24,701   \n",
       "1      317.4228   814,885    24,701   \n",
       "2      597.4020   814,885    24,701   \n",
       "3      334.8540   814,885    24,701   \n",
       "4      467.1192   814,885    24,701   "
      ]
     },
     "execution_count": 9,
     "metadata": {},
     "output_type": "execute_result"
    }
   ],
   "source": [
    "df = pd.merge(new_df, df2)\n",
    "df.head()"
   ]
  },
  {
   "cell_type": "code",
   "execution_count": 10,
   "id": "61acf014",
   "metadata": {},
   "outputs": [
    {
     "data": {
      "text/plain": [
       "(359392, 14)"
      ]
     },
     "execution_count": 10,
     "metadata": {},
     "output_type": "execute_result"
    }
   ],
   "source": [
    "df.shape"
   ]
  },
  {
   "cell_type": "code",
   "execution_count": 11,
   "id": "5331530d",
   "metadata": {
    "scrolled": true
   },
   "outputs": [
    {
     "name": "stdout",
     "output_type": "stream",
     "text": [
      "<class 'pandas.core.frame.DataFrame'>\n",
      "Int64Index: 359392 entries, 0 to 359391\n",
      "Data columns (total 14 columns):\n",
      " #   Column              Non-Null Count   Dtype  \n",
      "---  ------              --------------   -----  \n",
      " 0   Customer ID         359392 non-null  int64  \n",
      " 1   Gender              359392 non-null  object \n",
      " 2   Age                 359392 non-null  int64  \n",
      " 3   Income (USD/Month)  359392 non-null  int64  \n",
      " 4   Transaction ID      359392 non-null  int64  \n",
      " 5   Payment_Mode        359392 non-null  object \n",
      " 6   Date of Travel      359392 non-null  int64  \n",
      " 7   Company             359392 non-null  object \n",
      " 8   City                359392 non-null  object \n",
      " 9   KM Travelled        359392 non-null  float64\n",
      " 10  Price Charged       359392 non-null  float64\n",
      " 11  Cost of Trip        359392 non-null  float64\n",
      " 12  Population          359392 non-null  object \n",
      " 13  Users               359392 non-null  object \n",
      "dtypes: float64(3), int64(5), object(6)\n",
      "memory usage: 41.1+ MB\n"
     ]
    }
   ],
   "source": [
    "df.info()"
   ]
  },
  {
   "cell_type": "markdown",
   "id": "cb8ac8c4",
   "metadata": {},
   "source": [
    "### Some Statistics"
   ]
  },
  {
   "cell_type": "code",
   "execution_count": 12,
   "id": "f46364f7",
   "metadata": {},
   "outputs": [
    {
     "data": {
      "text/html": [
       "<div>\n",
       "<style scoped>\n",
       "    .dataframe tbody tr th:only-of-type {\n",
       "        vertical-align: middle;\n",
       "    }\n",
       "\n",
       "    .dataframe tbody tr th {\n",
       "        vertical-align: top;\n",
       "    }\n",
       "\n",
       "    .dataframe thead th {\n",
       "        text-align: right;\n",
       "    }\n",
       "</style>\n",
       "<table border=\"1\" class=\"dataframe\">\n",
       "  <thead>\n",
       "    <tr style=\"text-align: right;\">\n",
       "      <th></th>\n",
       "      <th>Customer ID</th>\n",
       "      <th>Age</th>\n",
       "      <th>Income (USD/Month)</th>\n",
       "      <th>Transaction ID</th>\n",
       "      <th>Date of Travel</th>\n",
       "      <th>KM Travelled</th>\n",
       "      <th>Price Charged</th>\n",
       "      <th>Cost of Trip</th>\n",
       "    </tr>\n",
       "  </thead>\n",
       "  <tbody>\n",
       "    <tr>\n",
       "      <th>count</th>\n",
       "      <td>359392.000000</td>\n",
       "      <td>359392.000000</td>\n",
       "      <td>359392.000000</td>\n",
       "      <td>3.593920e+05</td>\n",
       "      <td>359392.000000</td>\n",
       "      <td>359392.000000</td>\n",
       "      <td>359392.000000</td>\n",
       "      <td>359392.000000</td>\n",
       "    </tr>\n",
       "    <tr>\n",
       "      <th>mean</th>\n",
       "      <td>19191.652115</td>\n",
       "      <td>35.336705</td>\n",
       "      <td>15048.822937</td>\n",
       "      <td>1.022076e+07</td>\n",
       "      <td>42964.067998</td>\n",
       "      <td>22.567254</td>\n",
       "      <td>423.443311</td>\n",
       "      <td>286.190113</td>\n",
       "    </tr>\n",
       "    <tr>\n",
       "      <th>std</th>\n",
       "      <td>21012.412463</td>\n",
       "      <td>12.594234</td>\n",
       "      <td>7969.409482</td>\n",
       "      <td>1.268058e+05</td>\n",
       "      <td>307.467197</td>\n",
       "      <td>12.233526</td>\n",
       "      <td>274.378911</td>\n",
       "      <td>157.993661</td>\n",
       "    </tr>\n",
       "    <tr>\n",
       "      <th>min</th>\n",
       "      <td>1.000000</td>\n",
       "      <td>18.000000</td>\n",
       "      <td>2000.000000</td>\n",
       "      <td>1.000001e+07</td>\n",
       "      <td>42371.000000</td>\n",
       "      <td>1.900000</td>\n",
       "      <td>15.600000</td>\n",
       "      <td>19.000000</td>\n",
       "    </tr>\n",
       "    <tr>\n",
       "      <th>25%</th>\n",
       "      <td>2705.000000</td>\n",
       "      <td>25.000000</td>\n",
       "      <td>8424.000000</td>\n",
       "      <td>1.011081e+07</td>\n",
       "      <td>42697.000000</td>\n",
       "      <td>12.000000</td>\n",
       "      <td>206.437500</td>\n",
       "      <td>151.200000</td>\n",
       "    </tr>\n",
       "    <tr>\n",
       "      <th>50%</th>\n",
       "      <td>7459.000000</td>\n",
       "      <td>33.000000</td>\n",
       "      <td>14685.000000</td>\n",
       "      <td>1.022104e+07</td>\n",
       "      <td>42988.000000</td>\n",
       "      <td>22.440000</td>\n",
       "      <td>386.360000</td>\n",
       "      <td>282.480000</td>\n",
       "    </tr>\n",
       "    <tr>\n",
       "      <th>75%</th>\n",
       "      <td>36078.000000</td>\n",
       "      <td>42.000000</td>\n",
       "      <td>21035.000000</td>\n",
       "      <td>1.033094e+07</td>\n",
       "      <td>43232.000000</td>\n",
       "      <td>32.960000</td>\n",
       "      <td>583.660000</td>\n",
       "      <td>413.683200</td>\n",
       "    </tr>\n",
       "    <tr>\n",
       "      <th>max</th>\n",
       "      <td>60000.000000</td>\n",
       "      <td>65.000000</td>\n",
       "      <td>35000.000000</td>\n",
       "      <td>1.044011e+07</td>\n",
       "      <td>43465.000000</td>\n",
       "      <td>48.000000</td>\n",
       "      <td>2048.030000</td>\n",
       "      <td>691.200000</td>\n",
       "    </tr>\n",
       "  </tbody>\n",
       "</table>\n",
       "</div>"
      ],
      "text/plain": [
       "         Customer ID            Age  Income (USD/Month)  Transaction ID  \\\n",
       "count  359392.000000  359392.000000       359392.000000    3.593920e+05   \n",
       "mean    19191.652115      35.336705        15048.822937    1.022076e+07   \n",
       "std     21012.412463      12.594234         7969.409482    1.268058e+05   \n",
       "min         1.000000      18.000000         2000.000000    1.000001e+07   \n",
       "25%      2705.000000      25.000000         8424.000000    1.011081e+07   \n",
       "50%      7459.000000      33.000000        14685.000000    1.022104e+07   \n",
       "75%     36078.000000      42.000000        21035.000000    1.033094e+07   \n",
       "max     60000.000000      65.000000        35000.000000    1.044011e+07   \n",
       "\n",
       "       Date of Travel   KM Travelled  Price Charged   Cost of Trip  \n",
       "count   359392.000000  359392.000000  359392.000000  359392.000000  \n",
       "mean     42964.067998      22.567254     423.443311     286.190113  \n",
       "std        307.467197      12.233526     274.378911     157.993661  \n",
       "min      42371.000000       1.900000      15.600000      19.000000  \n",
       "25%      42697.000000      12.000000     206.437500     151.200000  \n",
       "50%      42988.000000      22.440000     386.360000     282.480000  \n",
       "75%      43232.000000      32.960000     583.660000     413.683200  \n",
       "max      43465.000000      48.000000    2048.030000     691.200000  "
      ]
     },
     "execution_count": 12,
     "metadata": {},
     "output_type": "execute_result"
    }
   ],
   "source": [
    "df.describe()"
   ]
  },
  {
   "cell_type": "markdown",
   "id": "fc7a35e4",
   "metadata": {},
   "source": [
    "We look for null variables"
   ]
  },
  {
   "cell_type": "code",
   "execution_count": 13,
   "id": "2de7296e",
   "metadata": {},
   "outputs": [
    {
     "data": {
      "text/plain": [
       "Customer ID           0.0\n",
       "Gender                  0\n",
       "Age                   0.0\n",
       "Income (USD/Month)    0.0\n",
       "Transaction ID        0.0\n",
       "Payment_Mode            0\n",
       "Date of Travel        0.0\n",
       "Company                 0\n",
       "City                    0\n",
       "KM Travelled          0.0\n",
       "Price Charged         0.0\n",
       "Cost of Trip          0.0\n",
       "Population              0\n",
       "Users                   0\n",
       "dtype: object"
      ]
     },
     "execution_count": 13,
     "metadata": {},
     "output_type": "execute_result"
    }
   ],
   "source": [
    "df[df.isnull()].sum()"
   ]
  },
  {
   "cell_type": "markdown",
   "id": "e41a93a9",
   "metadata": {},
   "source": [
    "Looking for duplicated varables."
   ]
  },
  {
   "cell_type": "code",
   "execution_count": 14,
   "id": "1c281983",
   "metadata": {},
   "outputs": [
    {
     "data": {
      "text/plain": [
       "0"
      ]
     },
     "execution_count": 14,
     "metadata": {},
     "output_type": "execute_result"
    }
   ],
   "source": [
    "sum(df.duplicated())"
   ]
  },
  {
   "cell_type": "markdown",
   "id": "2e5e3c8e",
   "metadata": {},
   "source": [
    "### Splitting up Companies"
   ]
  },
  {
   "cell_type": "markdown",
   "id": "1a40cffb",
   "metadata": {},
   "source": [
    "#### Pink Cab Company"
   ]
  },
  {
   "cell_type": "code",
   "execution_count": 15,
   "id": "f3f69c24",
   "metadata": {},
   "outputs": [
    {
     "data": {
      "text/html": [
       "<div>\n",
       "<style scoped>\n",
       "    .dataframe tbody tr th:only-of-type {\n",
       "        vertical-align: middle;\n",
       "    }\n",
       "\n",
       "    .dataframe tbody tr th {\n",
       "        vertical-align: top;\n",
       "    }\n",
       "\n",
       "    .dataframe thead th {\n",
       "        text-align: right;\n",
       "    }\n",
       "</style>\n",
       "<table border=\"1\" class=\"dataframe\">\n",
       "  <thead>\n",
       "    <tr style=\"text-align: right;\">\n",
       "      <th></th>\n",
       "      <th>Customer ID</th>\n",
       "      <th>Gender</th>\n",
       "      <th>Age</th>\n",
       "      <th>Income (USD/Month)</th>\n",
       "      <th>Transaction ID</th>\n",
       "      <th>Payment_Mode</th>\n",
       "      <th>Date of Travel</th>\n",
       "      <th>Company</th>\n",
       "      <th>City</th>\n",
       "      <th>KM Travelled</th>\n",
       "      <th>Price Charged</th>\n",
       "      <th>Cost of Trip</th>\n",
       "      <th>Population</th>\n",
       "      <th>Users</th>\n",
       "    </tr>\n",
       "  </thead>\n",
       "  <tbody>\n",
       "    <tr>\n",
       "      <th>0</th>\n",
       "      <td>29290</td>\n",
       "      <td>Male</td>\n",
       "      <td>28</td>\n",
       "      <td>10813</td>\n",
       "      <td>10000011</td>\n",
       "      <td>Card</td>\n",
       "      <td>42377</td>\n",
       "      <td>Pink Cab</td>\n",
       "      <td>ATLANTA GA</td>\n",
       "      <td>30.45</td>\n",
       "      <td>370.95</td>\n",
       "      <td>313.635</td>\n",
       "      <td>814,885</td>\n",
       "      <td>24,701</td>\n",
       "    </tr>\n",
       "    <tr>\n",
       "      <th>3</th>\n",
       "      <td>27703</td>\n",
       "      <td>Male</td>\n",
       "      <td>27</td>\n",
       "      <td>9237</td>\n",
       "      <td>10000012</td>\n",
       "      <td>Card</td>\n",
       "      <td>42375</td>\n",
       "      <td>Pink Cab</td>\n",
       "      <td>ATLANTA GA</td>\n",
       "      <td>28.62</td>\n",
       "      <td>358.52</td>\n",
       "      <td>334.854</td>\n",
       "      <td>814,885</td>\n",
       "      <td>24,701</td>\n",
       "    </tr>\n",
       "    <tr>\n",
       "      <th>6</th>\n",
       "      <td>27703</td>\n",
       "      <td>Male</td>\n",
       "      <td>27</td>\n",
       "      <td>9237</td>\n",
       "      <td>10395626</td>\n",
       "      <td>Card</td>\n",
       "      <td>43400</td>\n",
       "      <td>Pink Cab</td>\n",
       "      <td>ATLANTA GA</td>\n",
       "      <td>13.39</td>\n",
       "      <td>167.03</td>\n",
       "      <td>141.934</td>\n",
       "      <td>814,885</td>\n",
       "      <td>24,701</td>\n",
       "    </tr>\n",
       "    <tr>\n",
       "      <th>7</th>\n",
       "      <td>28712</td>\n",
       "      <td>Male</td>\n",
       "      <td>53</td>\n",
       "      <td>11242</td>\n",
       "      <td>10000013</td>\n",
       "      <td>Cash</td>\n",
       "      <td>42371</td>\n",
       "      <td>Pink Cab</td>\n",
       "      <td>ATLANTA GA</td>\n",
       "      <td>9.04</td>\n",
       "      <td>125.20</td>\n",
       "      <td>97.632</td>\n",
       "      <td>814,885</td>\n",
       "      <td>24,701</td>\n",
       "    </tr>\n",
       "    <tr>\n",
       "      <th>11</th>\n",
       "      <td>28020</td>\n",
       "      <td>Male</td>\n",
       "      <td>23</td>\n",
       "      <td>23327</td>\n",
       "      <td>10000014</td>\n",
       "      <td>Cash</td>\n",
       "      <td>42376</td>\n",
       "      <td>Pink Cab</td>\n",
       "      <td>ATLANTA GA</td>\n",
       "      <td>33.17</td>\n",
       "      <td>377.40</td>\n",
       "      <td>351.602</td>\n",
       "      <td>814,885</td>\n",
       "      <td>24,701</td>\n",
       "    </tr>\n",
       "  </tbody>\n",
       "</table>\n",
       "</div>"
      ],
      "text/plain": [
       "    Customer ID Gender  Age  Income (USD/Month)  Transaction ID Payment_Mode  \\\n",
       "0         29290   Male   28               10813        10000011         Card   \n",
       "3         27703   Male   27                9237        10000012         Card   \n",
       "6         27703   Male   27                9237        10395626         Card   \n",
       "7         28712   Male   53               11242        10000013         Cash   \n",
       "11        28020   Male   23               23327        10000014         Cash   \n",
       "\n",
       "    Date of Travel   Company        City  KM Travelled  Price Charged  \\\n",
       "0            42377  Pink Cab  ATLANTA GA         30.45         370.95   \n",
       "3            42375  Pink Cab  ATLANTA GA         28.62         358.52   \n",
       "6            43400  Pink Cab  ATLANTA GA         13.39         167.03   \n",
       "7            42371  Pink Cab  ATLANTA GA          9.04         125.20   \n",
       "11           42376  Pink Cab  ATLANTA GA         33.17         377.40   \n",
       "\n",
       "    Cost of Trip Population     Users  \n",
       "0        313.635   814,885    24,701   \n",
       "3        334.854   814,885    24,701   \n",
       "6        141.934   814,885    24,701   \n",
       "7         97.632   814,885    24,701   \n",
       "11       351.602   814,885    24,701   "
      ]
     },
     "execution_count": 15,
     "metadata": {},
     "output_type": "execute_result"
    }
   ],
   "source": [
    "Pink_Cab = df[df['Company']=='Pink Cab']\n",
    "Pink_Cab.head()"
   ]
  },
  {
   "cell_type": "markdown",
   "id": "06b9f6a6",
   "metadata": {},
   "source": [
    "#### Yellow Cab Company"
   ]
  },
  {
   "cell_type": "code",
   "execution_count": 16,
   "id": "66d63cbc",
   "metadata": {
    "scrolled": true
   },
   "outputs": [
    {
     "data": {
      "text/html": [
       "<div>\n",
       "<style scoped>\n",
       "    .dataframe tbody tr th:only-of-type {\n",
       "        vertical-align: middle;\n",
       "    }\n",
       "\n",
       "    .dataframe tbody tr th {\n",
       "        vertical-align: top;\n",
       "    }\n",
       "\n",
       "    .dataframe thead th {\n",
       "        text-align: right;\n",
       "    }\n",
       "</style>\n",
       "<table border=\"1\" class=\"dataframe\">\n",
       "  <thead>\n",
       "    <tr style=\"text-align: right;\">\n",
       "      <th></th>\n",
       "      <th>Customer ID</th>\n",
       "      <th>Gender</th>\n",
       "      <th>Age</th>\n",
       "      <th>Income (USD/Month)</th>\n",
       "      <th>Transaction ID</th>\n",
       "      <th>Payment_Mode</th>\n",
       "      <th>Date of Travel</th>\n",
       "      <th>Company</th>\n",
       "      <th>City</th>\n",
       "      <th>KM Travelled</th>\n",
       "      <th>Price Charged</th>\n",
       "      <th>Cost of Trip</th>\n",
       "      <th>Population</th>\n",
       "      <th>Users</th>\n",
       "    </tr>\n",
       "  </thead>\n",
       "  <tbody>\n",
       "    <tr>\n",
       "      <th>1</th>\n",
       "      <td>29290</td>\n",
       "      <td>Male</td>\n",
       "      <td>28</td>\n",
       "      <td>10813</td>\n",
       "      <td>10351127</td>\n",
       "      <td>Cash</td>\n",
       "      <td>43302</td>\n",
       "      <td>Yellow Cab</td>\n",
       "      <td>ATLANTA GA</td>\n",
       "      <td>26.19</td>\n",
       "      <td>598.70</td>\n",
       "      <td>317.4228</td>\n",
       "      <td>814,885</td>\n",
       "      <td>24,701</td>\n",
       "    </tr>\n",
       "    <tr>\n",
       "      <th>2</th>\n",
       "      <td>29290</td>\n",
       "      <td>Male</td>\n",
       "      <td>28</td>\n",
       "      <td>10813</td>\n",
       "      <td>10412921</td>\n",
       "      <td>Card</td>\n",
       "      <td>43427</td>\n",
       "      <td>Yellow Cab</td>\n",
       "      <td>ATLANTA GA</td>\n",
       "      <td>42.55</td>\n",
       "      <td>792.05</td>\n",
       "      <td>597.4020</td>\n",
       "      <td>814,885</td>\n",
       "      <td>24,701</td>\n",
       "    </tr>\n",
       "    <tr>\n",
       "      <th>4</th>\n",
       "      <td>27703</td>\n",
       "      <td>Male</td>\n",
       "      <td>27</td>\n",
       "      <td>9237</td>\n",
       "      <td>10320494</td>\n",
       "      <td>Card</td>\n",
       "      <td>43211</td>\n",
       "      <td>Yellow Cab</td>\n",
       "      <td>ATLANTA GA</td>\n",
       "      <td>36.38</td>\n",
       "      <td>721.10</td>\n",
       "      <td>467.1192</td>\n",
       "      <td>814,885</td>\n",
       "      <td>24,701</td>\n",
       "    </tr>\n",
       "    <tr>\n",
       "      <th>5</th>\n",
       "      <td>27703</td>\n",
       "      <td>Male</td>\n",
       "      <td>27</td>\n",
       "      <td>9237</td>\n",
       "      <td>10324737</td>\n",
       "      <td>Cash</td>\n",
       "      <td>43224</td>\n",
       "      <td>Yellow Cab</td>\n",
       "      <td>ATLANTA GA</td>\n",
       "      <td>6.18</td>\n",
       "      <td>138.40</td>\n",
       "      <td>87.5088</td>\n",
       "      <td>814,885</td>\n",
       "      <td>24,701</td>\n",
       "    </tr>\n",
       "    <tr>\n",
       "      <th>8</th>\n",
       "      <td>28712</td>\n",
       "      <td>Male</td>\n",
       "      <td>53</td>\n",
       "      <td>11242</td>\n",
       "      <td>10079404</td>\n",
       "      <td>Card</td>\n",
       "      <td>42634</td>\n",
       "      <td>Yellow Cab</td>\n",
       "      <td>ATLANTA GA</td>\n",
       "      <td>39.60</td>\n",
       "      <td>704.30</td>\n",
       "      <td>494.2080</td>\n",
       "      <td>814,885</td>\n",
       "      <td>24,701</td>\n",
       "    </tr>\n",
       "  </tbody>\n",
       "</table>\n",
       "</div>"
      ],
      "text/plain": [
       "   Customer ID Gender  Age  Income (USD/Month)  Transaction ID Payment_Mode  \\\n",
       "1        29290   Male   28               10813        10351127         Cash   \n",
       "2        29290   Male   28               10813        10412921         Card   \n",
       "4        27703   Male   27                9237        10320494         Card   \n",
       "5        27703   Male   27                9237        10324737         Cash   \n",
       "8        28712   Male   53               11242        10079404         Card   \n",
       "\n",
       "   Date of Travel     Company        City  KM Travelled  Price Charged  \\\n",
       "1           43302  Yellow Cab  ATLANTA GA         26.19         598.70   \n",
       "2           43427  Yellow Cab  ATLANTA GA         42.55         792.05   \n",
       "4           43211  Yellow Cab  ATLANTA GA         36.38         721.10   \n",
       "5           43224  Yellow Cab  ATLANTA GA          6.18         138.40   \n",
       "8           42634  Yellow Cab  ATLANTA GA         39.60         704.30   \n",
       "\n",
       "   Cost of Trip Population     Users  \n",
       "1      317.4228   814,885    24,701   \n",
       "2      597.4020   814,885    24,701   \n",
       "4      467.1192   814,885    24,701   \n",
       "5       87.5088   814,885    24,701   \n",
       "8      494.2080   814,885    24,701   "
      ]
     },
     "execution_count": 16,
     "metadata": {},
     "output_type": "execute_result"
    }
   ],
   "source": [
    "Yellow_Cab = df[df['Company']=='Yellow Cab']\n",
    "Yellow_Cab.head()"
   ]
  },
  {
   "cell_type": "markdown",
   "id": "9d9ad062",
   "metadata": {},
   "source": [
    "### Analysis of the price charged by both companies in roder to see which charged less."
   ]
  },
  {
   "cell_type": "markdown",
   "id": "b248b7d1",
   "metadata": {},
   "source": [
    "We also see the that the numbers of Users in Pink Cab Company are 84711 and for Yellow Company are the majority of Users, 274681."
   ]
  },
  {
   "cell_type": "code",
   "execution_count": 17,
   "id": "03ef8d7c",
   "metadata": {
    "scrolled": true
   },
   "outputs": [
    {
     "data": {
      "text/plain": [
       "84711"
      ]
     },
     "execution_count": 17,
     "metadata": {},
     "output_type": "execute_result"
    }
   ],
   "source": [
    "Pink_price = (Pink_Cab['Price Charged']/Pink_Cab['KM Travelled'])\n",
    "Pink_price.shape[0]"
   ]
  },
  {
   "cell_type": "code",
   "execution_count": 18,
   "id": "d9eb46b9",
   "metadata": {},
   "outputs": [
    {
     "data": {
      "text/plain": [
       "274681"
      ]
     },
     "execution_count": 18,
     "metadata": {},
     "output_type": "execute_result"
    }
   ],
   "source": [
    "Yellow_price = (Yellow_Cab['Price Charged']/Yellow_Cab['KM Travelled'])\n",
    "Yellow_price.shape[0]"
   ]
  },
  {
   "cell_type": "markdown",
   "id": "7bb001b0",
   "metadata": {},
   "source": [
    "### Distribution of the price for each company."
   ]
  },
  {
   "cell_type": "code",
   "execution_count": 19,
   "id": "5a172919",
   "metadata": {
    "scrolled": true
   },
   "outputs": [
    {
     "data": {
      "image/png": "[encoded data removed]",
      "text/plain": [
       "<Figure size 432x288 with 1 Axes>"
      ]
     },
     "metadata": {
      "needs_background": "light"
     },
     "output_type": "display_data"
    }
   ],
   "source": [
    "plt.hist(Pink_price);"
   ]
  },
  {
   "cell_type": "code",
   "execution_count": 20,
   "id": "c1d70351",
   "metadata": {
    "scrolled": false
   },
   "outputs": [
    {
     "data": {
      "image/png": "[encoded data removed]",
      "text/plain": [
       "<Figure size 432x288 with 1 Axes>"
      ]
     },
     "metadata": {
      "needs_background": "light"
     },
     "output_type": "display_data"
    }
   ],
   "source": [
    "plt.hist(Yellow_price);"
   ]
  },
  {
   "cell_type": "markdown",
   "id": "03f347ea",
   "metadata": {},
   "source": [
    "### One of the most important characteristic of this data is"
   ]
  },
  {
   "cell_type": "markdown",
   "id": "de0e6e93",
   "metadata": {},
   "source": [
    "Because of them we can see that Pink Cab company charged less than Yellow Cab company, this could be crusial for the investment in this company. "
   ]
  },
  {
   "cell_type": "code",
   "execution_count": 21,
   "id": "a739a195",
   "metadata": {},
   "outputs": [
    {
     "data": {
      "text/plain": [
       "13.768510007062694"
      ]
     },
     "execution_count": 21,
     "metadata": {},
     "output_type": "execute_result"
    }
   ],
   "source": [
    "Pink_price.mean()"
   ]
  },
  {
   "cell_type": "code",
   "execution_count": 22,
   "id": "f96c392c",
   "metadata": {},
   "outputs": [
    {
     "data": {
      "text/plain": [
       "20.3060726817884"
      ]
     },
     "execution_count": 22,
     "metadata": {},
     "output_type": "execute_result"
    }
   ],
   "source": [
    "Yellow_price.mean()"
   ]
  },
  {
   "cell_type": "markdown",
   "id": "f1280f94",
   "metadata": {},
   "source": [
    "### Correlation between prices charged of Pink Cab and Yellow Cab companies."
   ]
  },
  {
   "cell_type": "code",
   "execution_count": 23,
   "id": "90fa429f",
   "metadata": {
    "scrolled": false
   },
   "outputs": [
    {
     "data": {
      "text/plain": [
       "<matplotlib.collections.PathCollection at 0x7fa78152f130>"
      ]
     },
     "execution_count": 23,
     "metadata": {},
     "output_type": "execute_result"
    },
    {
     "data": {
      "image/png": "[encoded data removed]",
      "text/plain": [
       "<Figure size 432x288 with 1 Axes>"
      ]
     },
     "metadata": {
      "needs_background": "light"
     },
     "output_type": "display_data"
    }
   ],
   "source": [
    "plt.scatter(Pink_price.head(84711), Yellow_price.head(84711))"
   ]
  },
  {
   "cell_type": "code",
   "execution_count": 24,
   "id": "2984d1cd",
   "metadata": {},
   "outputs": [],
   "source": [
    "#import seaborn as sn\n",
    "#sn.pairplot(Yellow_Cab, kind='scatter')\n"
   ]
  },
  {
   "cell_type": "code",
   "execution_count": 25,
   "id": "2c3da54c",
   "metadata": {
    "scrolled": true
   },
   "outputs": [],
   "source": [
    "#sn.pairplot(Pink_Cab, kind='scatter')"
   ]
  },
  {
   "cell_type": "markdown",
   "id": "9b7db6ba",
   "metadata": {},
   "source": [
    "### Comparing the Payment Mode between both companies."
   ]
  },
  {
   "cell_type": "code",
   "execution_count": 26,
   "id": "064cfb15",
   "metadata": {
    "scrolled": true
   },
   "outputs": [
    {
     "data": {
      "image/png": "[encoded data removed]",
      "text/plain": [
       "<Figure size 449x360 with 1 Axes>"
      ]
     },
     "metadata": {
      "needs_background": "light"
     },
     "output_type": "display_data"
    }
   ],
   "source": [
    "import seaborn as sns\n",
    "sns.catplot(x=\"Payment_Mode\", y=\"Price Charged\", hue=\"Company\", kind=\"bar\", data=df);"
   ]
  },
  {
   "cell_type": "code",
   "execution_count": 27,
   "id": "aec1a846",
   "metadata": {
    "scrolled": false
   },
   "outputs": [
    {
     "data": {
      "image/png": "[encoded data removed]",
      "text/plain": [
       "<Figure size 449x360 with 1 Axes>"
      ]
     },
     "metadata": {
      "needs_background": "light"
     },
     "output_type": "display_data"
    }
   ],
   "source": [
    "import seaborn as sns\n",
    "sns.catplot(x=\"Payment_Mode\", y=\"Cost of Trip\", hue=\"Company\", kind=\"bar\", data=df);"
   ]
  },
  {
   "cell_type": "markdown",
   "id": "09206ae5",
   "metadata": {},
   "source": [
    "We see that the companies have proportionally divided the number of card and cash when charged."
   ]
  },
  {
   "cell_type": "markdown",
   "id": "8d87aa3f",
   "metadata": {},
   "source": [
    "But we oberve that this is not the same tendency when each company charged, they have charged around 1.5 more by Card than is for Cash."
   ]
  },
  {
   "cell_type": "code",
   "execution_count": 28,
   "id": "695c2dc7",
   "metadata": {},
   "outputs": [
    {
     "data": {
      "text/plain": [
       "1.4994631287762976"
      ]
     },
     "execution_count": 28,
     "metadata": {},
     "output_type": "execute_result"
    }
   ],
   "source": [
    "Yellow_Cab[Yellow_Cab['Payment_Mode']=='Card'].shape[0]/Yellow_Cab[Yellow_Cab['Payment_Mode']=='Cash'].shape[0]"
   ]
  },
  {
   "cell_type": "code",
   "execution_count": 29,
   "id": "59e64f29",
   "metadata": {
    "scrolled": true
   },
   "outputs": [
    {
     "data": {
      "text/plain": [
       "1.4920863732642975"
      ]
     },
     "execution_count": 29,
     "metadata": {},
     "output_type": "execute_result"
    }
   ],
   "source": [
    "Pink_Cab[Pink_Cab['Payment_Mode']=='Card'].shape[0]/Pink_Cab[Pink_Cab['Payment_Mode']=='Cash'].shape[0]"
   ]
  },
  {
   "cell_type": "markdown",
   "id": "25bd8908",
   "metadata": {},
   "source": [
    "### Distribution between male and female"
   ]
  },
  {
   "cell_type": "markdown",
   "id": "31d4db22",
   "metadata": {},
   "source": [
    "We see that both male and female have the same distribution from the point of view of the Price Charged for each company."
   ]
  },
  {
   "cell_type": "code",
   "execution_count": 30,
   "id": "9f93376e",
   "metadata": {},
   "outputs": [
    {
     "data": {
      "text/plain": [
       "<seaborn.axisgrid.FacetGrid at 0x7fa73159d3d0>"
      ]
     },
     "execution_count": 30,
     "metadata": {},
     "output_type": "execute_result"
    },
    {
     "data": {
      "image/png": "[encoded data removed]",
      "text/plain": [
       "<Figure size 483.25x360 with 1 Axes>"
      ]
     },
     "metadata": {
      "needs_background": "light"
     },
     "output_type": "display_data"
    }
   ],
   "source": [
    "import seaborn as sns\n",
    "sns.catplot(x=\"Gender\", y=\"Price Charged\", hue=\"City\", kind=\"bar\", data=Pink_Cab)"
   ]
  },
  {
   "cell_type": "code",
   "execution_count": 31,
   "id": "bfb03af1",
   "metadata": {
    "scrolled": true
   },
   "outputs": [
    {
     "data": {
      "text/plain": [
       "<seaborn.axisgrid.FacetGrid at 0x7fa7a449f6a0>"
      ]
     },
     "execution_count": 31,
     "metadata": {},
     "output_type": "execute_result"
    },
    {
     "data": {
      "image/png": "[encoded data removed]",
      "text/plain": [
       "<Figure size 483.25x360 with 1 Axes>"
      ]
     },
     "metadata": {
      "needs_background": "light"
     },
     "output_type": "display_data"
    }
   ],
   "source": [
    "import seaborn as sns\n",
    "sns.catplot(x=\"Gender\", y=\"Price Charged\", hue=\"City\", kind=\"bar\", data=Yellow_Cab)"
   ]
  },
  {
   "cell_type": "markdown",
   "id": "7b553c8a",
   "metadata": {},
   "source": [
    "Both male and female have same Income (USD/Month)"
   ]
  },
  {
   "cell_type": "code",
   "execution_count": 32,
   "id": "8c724147",
   "metadata": {
    "scrolled": true
   },
   "outputs": [
    {
     "data": {
      "text/plain": [
       "<seaborn.axisgrid.FacetGrid at 0x7fa782063af0>"
      ]
     },
     "execution_count": 32,
     "metadata": {},
     "output_type": "execute_result"
    },
    {
     "data": {
      "image/png": "[encoded data removed]",
      "text/plain": [
       "<Figure size 443.625x360 with 1 Axes>"
      ]
     },
     "metadata": {
      "needs_background": "light"
     },
     "output_type": "display_data"
    }
   ],
   "source": [
    "sns.catplot(x=\"Gender\", y=\"Income (USD/Month)\", hue=\"Payment_Mode\", kind=\"bar\", data=df)"
   ]
  },
  {
   "cell_type": "markdown",
   "id": "353b9d15",
   "metadata": {},
   "source": [
    "The number of male and female in the dataset"
   ]
  },
  {
   "cell_type": "code",
   "execution_count": 33,
   "id": "ba3f30d4",
   "metadata": {},
   "outputs": [
    {
     "data": {
      "text/plain": [
       "205912"
      ]
     },
     "execution_count": 33,
     "metadata": {},
     "output_type": "execute_result"
    }
   ],
   "source": [
    "male =  df['Gender']=='Male'\n",
    "sum(male)"
   ]
  },
  {
   "cell_type": "code",
   "execution_count": 34,
   "id": "ee17880a",
   "metadata": {},
   "outputs": [
    {
     "data": {
      "text/plain": [
       "153480"
      ]
     },
     "execution_count": 34,
     "metadata": {},
     "output_type": "execute_result"
    }
   ],
   "source": [
    "female =  df['Gender']=='Female'\n",
    "sum(female)"
   ]
  },
  {
   "cell_type": "markdown",
   "id": "bb25efaa",
   "metadata": {},
   "source": [
    "## Making some numbers"
   ]
  },
  {
   "cell_type": "markdown",
   "id": "7584c106",
   "metadata": {},
   "source": [
    "#### 57.3% are male"
   ]
  },
  {
   "cell_type": "code",
   "execution_count": 35,
   "id": "7e02fa48",
   "metadata": {},
   "outputs": [
    {
     "data": {
      "text/plain": [
       "0.572945418929748"
      ]
     },
     "execution_count": 35,
     "metadata": {},
     "output_type": "execute_result"
    }
   ],
   "source": [
    "sum(male)/new_df.shape[0]"
   ]
  },
  {
   "cell_type": "markdown",
   "id": "8fa96f33",
   "metadata": {},
   "source": [
    "#### 42.7% are female"
   ]
  },
  {
   "cell_type": "code",
   "execution_count": 36,
   "id": "15b38270",
   "metadata": {
    "scrolled": true
   },
   "outputs": [
    {
     "data": {
      "text/plain": [
       "0.42705458107025196"
      ]
     },
     "execution_count": 36,
     "metadata": {},
     "output_type": "execute_result"
    }
   ],
   "source": [
    "sum(female)/new_df.shape[0]"
   ]
  },
  {
   "cell_type": "markdown",
   "id": "d571efc0",
   "metadata": {},
   "source": [
    "### The mean Price Charged for each company and for city"
   ]
  },
  {
   "cell_type": "code",
   "execution_count": 37,
   "id": "b269ffa6",
   "metadata": {
    "scrolled": true
   },
   "outputs": [
    {
     "data": {
      "text/plain": [
       "City            Company   \n",
       "ATLANTA GA      Pink Cab      302.131555\n",
       "                Yellow Cab    422.413446\n",
       "AUSTIN TX       Pink Cab      320.435070\n",
       "                Yellow Cab    422.248940\n",
       "BOSTON MA       Pink Cab      300.551489\n",
       "                Yellow Cab    359.140431\n",
       "CHICAGO IL      Pink Cab      281.613731\n",
       "                Yellow Cab    364.021927\n",
       "DALLAS TX       Pink Cab      260.025652\n",
       "                Yellow Cab    493.807790\n",
       "DENVER CO       Pink Cab      276.202453\n",
       "                Yellow Cab    443.235413\n",
       "LOS ANGELES CA  Pink Cab      305.624252\n",
       "                Yellow Cab    416.231136\n",
       "MIAMI FL        Pink Cab      326.006309\n",
       "                Yellow Cab    432.944872\n",
       "NASHVILLE TN    Pink Cab      282.062493\n",
       "                Yellow Cab    376.245577\n",
       "NEW YORK NY     Pink Cab      357.074129\n",
       "                Yellow Cab    604.841911\n",
       "ORANGE COUNTY   Pink Cab      312.026874\n",
       "                Yellow Cab    438.548623\n",
       "PHOENIX AZ      Pink Cab      280.321458\n",
       "                Yellow Cab    428.737417\n",
       "PITTSBURGH PA   Pink Cab      273.879355\n",
       "                Yellow Cab    405.313661\n",
       "SACRAMENTO CA   Pink Cab      290.110810\n",
       "                Yellow Cab    362.637106\n",
       "SAN DIEGO CA    Pink Cab      307.938193\n",
       "                Yellow Cab    392.223328\n",
       "SEATTLE WA      Pink Cab      291.223898\n",
       "                Yellow Cab    391.014733\n",
       "SILICON VALLEY  Pink Cab      340.377008\n",
       "                Yellow Cab    506.499502\n",
       "TUCSON AZ       Pink Cab      323.213554\n",
       "                Yellow Cab    366.018224\n",
       "WASHINGTON DC   Pink Cab      299.974561\n",
       "                Yellow Cab    381.051261\n",
       "Name: Price Charged, dtype: float64"
      ]
     },
     "execution_count": 37,
     "metadata": {},
     "output_type": "execute_result"
    }
   ],
   "source": [
    "df.groupby([\"City\", \"Company\"])[\"Price Charged\"].mean()"
   ]
  },
  {
   "cell_type": "markdown",
   "id": "e68d9d85",
   "metadata": {},
   "source": [
    "### Lookin the Correlation between KM Travelled and Price Charge for each company."
   ]
  },
  {
   "cell_type": "markdown",
   "id": "f60e3844",
   "metadata": {},
   "source": [
    "Eventually this will make us to decide which of the companies are best for the XYZ firm to invest."
   ]
  },
  {
   "cell_type": "markdown",
   "id": "2f9ebe49",
   "metadata": {},
   "source": [
    "#### Pink Cab Company"
   ]
  },
  {
   "cell_type": "code",
   "execution_count": 38,
   "id": "3839a877",
   "metadata": {
    "scrolled": false
   },
   "outputs": [
    {
     "data": {
      "image/png": "[encoded data removed]",
      "text/plain": [
       "<Figure size 432x288 with 1 Axes>"
      ]
     },
     "metadata": {
      "needs_background": "light"
     },
     "output_type": "display_data"
    }
   ],
   "source": [
    "plt.scatter(Pink_Cab['KM Travelled'], Pink_Cab['Price Charged']);"
   ]
  },
  {
   "cell_type": "code",
   "execution_count": 39,
   "id": "7a7ef894",
   "metadata": {
    "scrolled": true
   },
   "outputs": [
    {
     "data": {
      "image/png": "[encoded data removed]",
      "text/plain": [
       "<Figure size 432x288 with 1 Axes>"
      ]
     },
     "metadata": {
      "needs_background": "light"
     },
     "output_type": "display_data"
    }
   ],
   "source": [
    "plt.scatter(Pink_Cab['Cost of Trip'], Pink_Cab['Price Charged']);"
   ]
  },
  {
   "cell_type": "markdown",
   "id": "033698db",
   "metadata": {},
   "source": [
    "#### Yellow Cab Company"
   ]
  },
  {
   "cell_type": "code",
   "execution_count": 40,
   "id": "16e0481d",
   "metadata": {
    "scrolled": true
   },
   "outputs": [
    {
     "data": {
      "image/png": "[encoded data removed]",
      "text/plain": [
       "<Figure size 432x288 with 1 Axes>"
      ]
     },
     "metadata": {
      "needs_background": "light"
     },
     "output_type": "display_data"
    }
   ],
   "source": [
    "plt.scatter(Yellow_Cab['KM Travelled'], Yellow_Cab['Price Charged']);"
   ]
  },
  {
   "cell_type": "code",
   "execution_count": 41,
   "id": "1503d150",
   "metadata": {
    "scrolled": false
   },
   "outputs": [
    {
     "data": {
      "image/png": "[encoded data removed]",
      "text/plain": [
       "<Figure size 432x288 with 1 Axes>"
      ]
     },
     "metadata": {
      "needs_background": "light"
     },
     "output_type": "display_data"
    }
   ],
   "source": [
    "plt.scatter(Yellow_Cab['Cost of Trip'], Yellow_Cab['Price Charged']);"
   ]
  },
  {
   "cell_type": "markdown",
   "id": "1e282686",
   "metadata": {},
   "source": [
    "### Analysing each relation the  correlation coeffcient"
   ]
  },
  {
   "cell_type": "code",
   "execution_count": 42,
   "id": "da06c67a",
   "metadata": {},
   "outputs": [],
   "source": [
    "import numpy as np\n",
    "import pandas as pd\n",
    "\n",
    "from numpy import mean\n",
    "from numpy import std\n",
    "from numpy.random import randn\n",
    "from numpy.random import seed\n",
    "from matplotlib import pyplot"
   ]
  },
  {
   "cell_type": "markdown",
   "id": "eb62e7eb",
   "metadata": {},
   "source": [
    "#### Asumming the distribution is normalized we use Pearson"
   ]
  },
  {
   "cell_type": "code",
   "execution_count": 43,
   "id": "814e196c",
   "metadata": {
    "scrolled": false
   },
   "outputs": [
    {
     "data": {
      "text/html": [
       "<div>\n",
       "<style scoped>\n",
       "    .dataframe tbody tr th:only-of-type {\n",
       "        vertical-align: middle;\n",
       "    }\n",
       "\n",
       "    .dataframe tbody tr th {\n",
       "        vertical-align: top;\n",
       "    }\n",
       "\n",
       "    .dataframe thead th {\n",
       "        text-align: right;\n",
       "    }\n",
       "</style>\n",
       "<table border=\"1\" class=\"dataframe\">\n",
       "  <thead>\n",
       "    <tr style=\"text-align: right;\">\n",
       "      <th></th>\n",
       "      <th>KM Travelled</th>\n",
       "      <th>Price Charged</th>\n",
       "      <th>Cost of Trip</th>\n",
       "    </tr>\n",
       "  </thead>\n",
       "  <tbody>\n",
       "    <tr>\n",
       "      <th>KM Travelled</th>\n",
       "      <td>1.000000</td>\n",
       "      <td>0.927765</td>\n",
       "      <td>0.993367</td>\n",
       "    </tr>\n",
       "    <tr>\n",
       "      <th>Price Charged</th>\n",
       "      <td>0.927765</td>\n",
       "      <td>1.000000</td>\n",
       "      <td>0.921896</td>\n",
       "    </tr>\n",
       "    <tr>\n",
       "      <th>Cost of Trip</th>\n",
       "      <td>0.993367</td>\n",
       "      <td>0.921896</td>\n",
       "      <td>1.000000</td>\n",
       "    </tr>\n",
       "  </tbody>\n",
       "</table>\n",
       "</div>"
      ],
      "text/plain": [
       "               KM Travelled  Price Charged  Cost of Trip\n",
       "KM Travelled       1.000000       0.927765      0.993367\n",
       "Price Charged      0.927765       1.000000      0.921896\n",
       "Cost of Trip       0.993367       0.921896      1.000000"
      ]
     },
     "execution_count": 43,
     "metadata": {},
     "output_type": "execute_result"
    }
   ],
   "source": [
    "Pink_Cab[[\"KM Travelled\", \"Price Charged\", \"Cost of Trip\"]].corr(method='pearson')"
   ]
  },
  {
   "cell_type": "code",
   "execution_count": 44,
   "id": "2aec7bfe",
   "metadata": {
    "scrolled": true
   },
   "outputs": [
    {
     "data": {
      "text/html": [
       "<div>\n",
       "<style scoped>\n",
       "    .dataframe tbody tr th:only-of-type {\n",
       "        vertical-align: middle;\n",
       "    }\n",
       "\n",
       "    .dataframe tbody tr th {\n",
       "        vertical-align: top;\n",
       "    }\n",
       "\n",
       "    .dataframe thead th {\n",
       "        text-align: right;\n",
       "    }\n",
       "</style>\n",
       "<table border=\"1\" class=\"dataframe\">\n",
       "  <thead>\n",
       "    <tr style=\"text-align: right;\">\n",
       "      <th></th>\n",
       "      <th>KM Travelled</th>\n",
       "      <th>Price Charged</th>\n",
       "      <th>Cost of Trip</th>\n",
       "    </tr>\n",
       "  </thead>\n",
       "  <tbody>\n",
       "    <tr>\n",
       "      <th>KM Travelled</th>\n",
       "      <td>1.000000</td>\n",
       "      <td>0.859709</td>\n",
       "      <td>0.993390</td>\n",
       "    </tr>\n",
       "    <tr>\n",
       "      <th>Price Charged</th>\n",
       "      <td>0.859709</td>\n",
       "      <td>1.000000</td>\n",
       "      <td>0.853996</td>\n",
       "    </tr>\n",
       "    <tr>\n",
       "      <th>Cost of Trip</th>\n",
       "      <td>0.993390</td>\n",
       "      <td>0.853996</td>\n",
       "      <td>1.000000</td>\n",
       "    </tr>\n",
       "  </tbody>\n",
       "</table>\n",
       "</div>"
      ],
      "text/plain": [
       "               KM Travelled  Price Charged  Cost of Trip\n",
       "KM Travelled       1.000000       0.859709      0.993390\n",
       "Price Charged      0.859709       1.000000      0.853996\n",
       "Cost of Trip       0.993390       0.853996      1.000000"
      ]
     },
     "execution_count": 44,
     "metadata": {},
     "output_type": "execute_result"
    }
   ],
   "source": [
    "Yellow_Cab[[\"KM Travelled\", \"Price Charged\", \"Cost of Trip\"]].corr(method='pearson')"
   ]
  },
  {
   "cell_type": "markdown",
   "id": "b6dd5387",
   "metadata": {},
   "source": [
    "### When it is not assumed that data has normal distribution."
   ]
  },
  {
   "cell_type": "markdown",
   "id": "a5bc4f38",
   "metadata": {},
   "source": [
    "We can use both Spearman or Kendall."
   ]
  },
  {
   "cell_type": "markdown",
   "id": "e0b5d28d",
   "metadata": {},
   "source": [
    "#### Spearman correlation"
   ]
  },
  {
   "cell_type": "code",
   "execution_count": 45,
   "id": "11dbbeb7",
   "metadata": {
    "scrolled": true
   },
   "outputs": [
    {
     "data": {
      "text/html": [
       "<div>\n",
       "<style scoped>\n",
       "    .dataframe tbody tr th:only-of-type {\n",
       "        vertical-align: middle;\n",
       "    }\n",
       "\n",
       "    .dataframe tbody tr th {\n",
       "        vertical-align: top;\n",
       "    }\n",
       "\n",
       "    .dataframe thead th {\n",
       "        text-align: right;\n",
       "    }\n",
       "</style>\n",
       "<table border=\"1\" class=\"dataframe\">\n",
       "  <thead>\n",
       "    <tr style=\"text-align: right;\">\n",
       "      <th></th>\n",
       "      <th>KM Travelled</th>\n",
       "      <th>Price Charged</th>\n",
       "      <th>Cost of Trip</th>\n",
       "    </tr>\n",
       "  </thead>\n",
       "  <tbody>\n",
       "    <tr>\n",
       "      <th>KM Travelled</th>\n",
       "      <td>1.000000</td>\n",
       "      <td>0.951529</td>\n",
       "      <td>0.994437</td>\n",
       "    </tr>\n",
       "    <tr>\n",
       "      <th>Price Charged</th>\n",
       "      <td>0.951529</td>\n",
       "      <td>1.000000</td>\n",
       "      <td>0.947065</td>\n",
       "    </tr>\n",
       "    <tr>\n",
       "      <th>Cost of Trip</th>\n",
       "      <td>0.994437</td>\n",
       "      <td>0.947065</td>\n",
       "      <td>1.000000</td>\n",
       "    </tr>\n",
       "  </tbody>\n",
       "</table>\n",
       "</div>"
      ],
      "text/plain": [
       "               KM Travelled  Price Charged  Cost of Trip\n",
       "KM Travelled       1.000000       0.951529      0.994437\n",
       "Price Charged      0.951529       1.000000      0.947065\n",
       "Cost of Trip       0.994437       0.947065      1.000000"
      ]
     },
     "execution_count": 45,
     "metadata": {},
     "output_type": "execute_result"
    }
   ],
   "source": [
    "Pink_Cab[[\"KM Travelled\", \"Price Charged\", \"Cost of Trip\"]].corr(method='spearman')"
   ]
  },
  {
   "cell_type": "code",
   "execution_count": 46,
   "id": "c70ce49b",
   "metadata": {},
   "outputs": [
    {
     "data": {
      "text/html": [
       "<div>\n",
       "<style scoped>\n",
       "    .dataframe tbody tr th:only-of-type {\n",
       "        vertical-align: middle;\n",
       "    }\n",
       "\n",
       "    .dataframe tbody tr th {\n",
       "        vertical-align: top;\n",
       "    }\n",
       "\n",
       "    .dataframe thead th {\n",
       "        text-align: right;\n",
       "    }\n",
       "</style>\n",
       "<table border=\"1\" class=\"dataframe\">\n",
       "  <thead>\n",
       "    <tr style=\"text-align: right;\">\n",
       "      <th></th>\n",
       "      <th>KM Travelled</th>\n",
       "      <th>Price Charged</th>\n",
       "      <th>Cost of Trip</th>\n",
       "    </tr>\n",
       "  </thead>\n",
       "  <tbody>\n",
       "    <tr>\n",
       "      <th>KM Travelled</th>\n",
       "      <td>1.000000</td>\n",
       "      <td>0.906669</td>\n",
       "      <td>0.994470</td>\n",
       "    </tr>\n",
       "    <tr>\n",
       "      <th>Price Charged</th>\n",
       "      <td>0.906669</td>\n",
       "      <td>1.000000</td>\n",
       "      <td>0.902565</td>\n",
       "    </tr>\n",
       "    <tr>\n",
       "      <th>Cost of Trip</th>\n",
       "      <td>0.994470</td>\n",
       "      <td>0.902565</td>\n",
       "      <td>1.000000</td>\n",
       "    </tr>\n",
       "  </tbody>\n",
       "</table>\n",
       "</div>"
      ],
      "text/plain": [
       "               KM Travelled  Price Charged  Cost of Trip\n",
       "KM Travelled       1.000000       0.906669      0.994470\n",
       "Price Charged      0.906669       1.000000      0.902565\n",
       "Cost of Trip       0.994470       0.902565      1.000000"
      ]
     },
     "execution_count": 46,
     "metadata": {},
     "output_type": "execute_result"
    }
   ],
   "source": [
    "Yellow_Cab[[\"KM Travelled\", \"Price Charged\", \"Cost of Trip\"]].corr(method='spearman')"
   ]
  },
  {
   "cell_type": "markdown",
   "id": "20adc1f8",
   "metadata": {},
   "source": [
    "#### Kendall correlation"
   ]
  },
  {
   "cell_type": "code",
   "execution_count": 47,
   "id": "aab4d4ea",
   "metadata": {},
   "outputs": [
    {
     "data": {
      "text/html": [
       "<div>\n",
       "<style scoped>\n",
       "    .dataframe tbody tr th:only-of-type {\n",
       "        vertical-align: middle;\n",
       "    }\n",
       "\n",
       "    .dataframe tbody tr th {\n",
       "        vertical-align: top;\n",
       "    }\n",
       "\n",
       "    .dataframe thead th {\n",
       "        text-align: right;\n",
       "    }\n",
       "</style>\n",
       "<table border=\"1\" class=\"dataframe\">\n",
       "  <thead>\n",
       "    <tr style=\"text-align: right;\">\n",
       "      <th></th>\n",
       "      <th>KM Travelled</th>\n",
       "      <th>Price Charged</th>\n",
       "      <th>Cost of Trip</th>\n",
       "    </tr>\n",
       "  </thead>\n",
       "  <tbody>\n",
       "    <tr>\n",
       "      <th>KM Travelled</th>\n",
       "      <td>1.000000</td>\n",
       "      <td>0.815367</td>\n",
       "      <td>0.937841</td>\n",
       "    </tr>\n",
       "    <tr>\n",
       "      <th>Price Charged</th>\n",
       "      <td>0.815367</td>\n",
       "      <td>1.000000</td>\n",
       "      <td>0.806019</td>\n",
       "    </tr>\n",
       "    <tr>\n",
       "      <th>Cost of Trip</th>\n",
       "      <td>0.937841</td>\n",
       "      <td>0.806019</td>\n",
       "      <td>1.000000</td>\n",
       "    </tr>\n",
       "  </tbody>\n",
       "</table>\n",
       "</div>"
      ],
      "text/plain": [
       "               KM Travelled  Price Charged  Cost of Trip\n",
       "KM Travelled       1.000000       0.815367      0.937841\n",
       "Price Charged      0.815367       1.000000      0.806019\n",
       "Cost of Trip       0.937841       0.806019      1.000000"
      ]
     },
     "execution_count": 47,
     "metadata": {},
     "output_type": "execute_result"
    }
   ],
   "source": [
    "Pink_Cab[[\"KM Travelled\", \"Price Charged\", \"Cost of Trip\"]].corr(method='kendall')"
   ]
  },
  {
   "cell_type": "code",
   "execution_count": 48,
   "id": "bd1bc8de",
   "metadata": {},
   "outputs": [
    {
     "data": {
      "text/html": [
       "<div>\n",
       "<style scoped>\n",
       "    .dataframe tbody tr th:only-of-type {\n",
       "        vertical-align: middle;\n",
       "    }\n",
       "\n",
       "    .dataframe tbody tr th {\n",
       "        vertical-align: top;\n",
       "    }\n",
       "\n",
       "    .dataframe thead th {\n",
       "        text-align: right;\n",
       "    }\n",
       "</style>\n",
       "<table border=\"1\" class=\"dataframe\">\n",
       "  <thead>\n",
       "    <tr style=\"text-align: right;\">\n",
       "      <th></th>\n",
       "      <th>KM Travelled</th>\n",
       "      <th>Price Charged</th>\n",
       "      <th>Cost of Trip</th>\n",
       "    </tr>\n",
       "  </thead>\n",
       "  <tbody>\n",
       "    <tr>\n",
       "      <th>KM Travelled</th>\n",
       "      <td>1.000000</td>\n",
       "      <td>0.738348</td>\n",
       "      <td>0.938016</td>\n",
       "    </tr>\n",
       "    <tr>\n",
       "      <th>Price Charged</th>\n",
       "      <td>0.738348</td>\n",
       "      <td>1.000000</td>\n",
       "      <td>0.731783</td>\n",
       "    </tr>\n",
       "    <tr>\n",
       "      <th>Cost of Trip</th>\n",
       "      <td>0.938016</td>\n",
       "      <td>0.731783</td>\n",
       "      <td>1.000000</td>\n",
       "    </tr>\n",
       "  </tbody>\n",
       "</table>\n",
       "</div>"
      ],
      "text/plain": [
       "               KM Travelled  Price Charged  Cost of Trip\n",
       "KM Travelled       1.000000       0.738348      0.938016\n",
       "Price Charged      0.738348       1.000000      0.731783\n",
       "Cost of Trip       0.938016       0.731783      1.000000"
      ]
     },
     "execution_count": 48,
     "metadata": {},
     "output_type": "execute_result"
    }
   ],
   "source": [
    "Yellow_Cab[[\"KM Travelled\", \"Price Charged\", \"Cost of Trip\"]].corr(method='kendall')"
   ]
  },
  {
   "cell_type": "code",
   "execution_count": 49,
   "id": "9c4094e3",
   "metadata": {},
   "outputs": [
    {
     "data": {
      "image/png": "[encoded data removed]",
      "text/plain": [
       "<Figure size 1008x576 with 9 Axes>"
      ]
     },
     "metadata": {
      "needs_background": "light"
     },
     "output_type": "display_data"
    }
   ],
   "source": [
    "from pandas.plotting import scatter_matrix\n",
    "\n",
    "scatter_matrix(Yellow_Cab[[\"KM Travelled\", \"Cost of Trip\", \"Price Charged\"]], figsize = (14,8))\n",
    "pyplot.show()"
   ]
  },
  {
   "cell_type": "code",
   "execution_count": 50,
   "id": "3ee9dc11",
   "metadata": {},
   "outputs": [
    {
     "data": {
      "image/png": "[encoded data removed]",
      "text/plain": [
       "<Figure size 1008x576 with 9 Axes>"
      ]
     },
     "metadata": {
      "needs_background": "light"
     },
     "output_type": "display_data"
    }
   ],
   "source": [
    "scatter_matrix(Pink_Cab[[\"KM Travelled\", \"Cost of Trip\", \"Price Charged\"]], figsize = (14,8))\n",
    "pyplot.show()"
   ]
  },
  {
   "cell_type": "markdown",
   "id": "2bfba5c8",
   "metadata": {},
   "source": [
    "### Does margin proportionally increase with increase in number of customers?"
   ]
  },
  {
   "cell_type": "markdown",
   "id": "6b3660a8",
   "metadata": {},
   "source": [
    "As oberved in the scatter plots above the margin of Price Charged increase with the KM travelled and yes also with the users."
   ]
  },
  {
   "cell_type": "markdown",
   "id": "6d373fa7",
   "metadata": {},
   "source": [
    "###  What are the attributes of these customer segments?\n",
    "\n"
   ]
  },
  {
   "cell_type": "code",
   "execution_count": 51,
   "id": "2506b0f6",
   "metadata": {
    "scrolled": true
   },
   "outputs": [
    {
     "data": {
      "text/html": [
       "<div>\n",
       "<style scoped>\n",
       "    .dataframe tbody tr th:only-of-type {\n",
       "        vertical-align: middle;\n",
       "    }\n",
       "\n",
       "    .dataframe tbody tr th {\n",
       "        vertical-align: top;\n",
       "    }\n",
       "\n",
       "    .dataframe thead th {\n",
       "        text-align: right;\n",
       "    }\n",
       "</style>\n",
       "<table border=\"1\" class=\"dataframe\">\n",
       "  <thead>\n",
       "    <tr style=\"text-align: right;\">\n",
       "      <th></th>\n",
       "      <th>KM Travelled</th>\n",
       "      <th>Price Charged</th>\n",
       "      <th>Cost of Trip</th>\n",
       "      <th>Income (USD/Month)</th>\n",
       "    </tr>\n",
       "  </thead>\n",
       "  <tbody>\n",
       "    <tr>\n",
       "      <th>KM Travelled</th>\n",
       "      <td>1.000000</td>\n",
       "      <td>0.951529</td>\n",
       "      <td>0.994437</td>\n",
       "      <td>0.000488</td>\n",
       "    </tr>\n",
       "    <tr>\n",
       "      <th>Price Charged</th>\n",
       "      <td>0.951529</td>\n",
       "      <td>1.000000</td>\n",
       "      <td>0.947065</td>\n",
       "      <td>0.002105</td>\n",
       "    </tr>\n",
       "    <tr>\n",
       "      <th>Cost of Trip</th>\n",
       "      <td>0.994437</td>\n",
       "      <td>0.947065</td>\n",
       "      <td>1.000000</td>\n",
       "      <td>0.000558</td>\n",
       "    </tr>\n",
       "    <tr>\n",
       "      <th>Income (USD/Month)</th>\n",
       "      <td>0.000488</td>\n",
       "      <td>0.002105</td>\n",
       "      <td>0.000558</td>\n",
       "      <td>1.000000</td>\n",
       "    </tr>\n",
       "  </tbody>\n",
       "</table>\n",
       "</div>"
      ],
      "text/plain": [
       "                    KM Travelled  Price Charged  Cost of Trip  \\\n",
       "KM Travelled            1.000000       0.951529      0.994437   \n",
       "Price Charged           0.951529       1.000000      0.947065   \n",
       "Cost of Trip            0.994437       0.947065      1.000000   \n",
       "Income (USD/Month)      0.000488       0.002105      0.000558   \n",
       "\n",
       "                    Income (USD/Month)  \n",
       "KM Travelled                  0.000488  \n",
       "Price Charged                 0.002105  \n",
       "Cost of Trip                  0.000558  \n",
       "Income (USD/Month)            1.000000  "
      ]
     },
     "execution_count": 51,
     "metadata": {},
     "output_type": "execute_result"
    }
   ],
   "source": [
    "Pink_Cab[[\"KM Travelled\", \"Price Charged\", \"Cost of Trip\", \"Income (USD/Month)\"]].corr(method='spearman')"
   ]
  },
  {
   "cell_type": "markdown",
   "id": "ad19fe3d",
   "metadata": {},
   "source": [
    "This is interesting since the Income has positive correlation with Price Charged and Cost of Trip, which means this company has more earnings in the long run, people can travel and the Cost of Trip will always be affordable for people."
   ]
  },
  {
   "cell_type": "code",
   "execution_count": 52,
   "id": "2383a1aa",
   "metadata": {
    "scrolled": true
   },
   "outputs": [
    {
     "data": {
      "text/html": [
       "<div>\n",
       "<style scoped>\n",
       "    .dataframe tbody tr th:only-of-type {\n",
       "        vertical-align: middle;\n",
       "    }\n",
       "\n",
       "    .dataframe tbody tr th {\n",
       "        vertical-align: top;\n",
       "    }\n",
       "\n",
       "    .dataframe thead th {\n",
       "        text-align: right;\n",
       "    }\n",
       "</style>\n",
       "<table border=\"1\" class=\"dataframe\">\n",
       "  <thead>\n",
       "    <tr style=\"text-align: right;\">\n",
       "      <th></th>\n",
       "      <th>KM Travelled</th>\n",
       "      <th>Price Charged</th>\n",
       "      <th>Cost of Trip</th>\n",
       "      <th>Income (USD/Month)</th>\n",
       "    </tr>\n",
       "  </thead>\n",
       "  <tbody>\n",
       "    <tr>\n",
       "      <th>KM Travelled</th>\n",
       "      <td>1.000000</td>\n",
       "      <td>0.906669</td>\n",
       "      <td>0.994470</td>\n",
       "      <td>-0.000684</td>\n",
       "    </tr>\n",
       "    <tr>\n",
       "      <th>Price Charged</th>\n",
       "      <td>0.906669</td>\n",
       "      <td>1.000000</td>\n",
       "      <td>0.902565</td>\n",
       "      <td>0.003480</td>\n",
       "    </tr>\n",
       "    <tr>\n",
       "      <th>Cost of Trip</th>\n",
       "      <td>0.994470</td>\n",
       "      <td>0.902565</td>\n",
       "      <td>1.000000</td>\n",
       "      <td>-0.000662</td>\n",
       "    </tr>\n",
       "    <tr>\n",
       "      <th>Income (USD/Month)</th>\n",
       "      <td>-0.000684</td>\n",
       "      <td>0.003480</td>\n",
       "      <td>-0.000662</td>\n",
       "      <td>1.000000</td>\n",
       "    </tr>\n",
       "  </tbody>\n",
       "</table>\n",
       "</div>"
      ],
      "text/plain": [
       "                    KM Travelled  Price Charged  Cost of Trip  \\\n",
       "KM Travelled            1.000000       0.906669      0.994470   \n",
       "Price Charged           0.906669       1.000000      0.902565   \n",
       "Cost of Trip            0.994470       0.902565      1.000000   \n",
       "Income (USD/Month)     -0.000684       0.003480     -0.000662   \n",
       "\n",
       "                    Income (USD/Month)  \n",
       "KM Travelled                 -0.000684  \n",
       "Price Charged                 0.003480  \n",
       "Cost of Trip                 -0.000662  \n",
       "Income (USD/Month)            1.000000  "
      ]
     },
     "execution_count": 52,
     "metadata": {},
     "output_type": "execute_result"
    }
   ],
   "source": [
    "Yellow_Cab[[\"KM Travelled\", \"Price Charged\", \"Cost of Trip\", \"Income (USD/Month)\"]].corr(method='spearman')"
   ]
  },
  {
   "cell_type": "markdown",
   "id": "3e122042",
   "metadata": {},
   "source": [
    "The Income has positive correlation with Price Charged and negative Cost of Trip, which means this company has no opportunity in the future because in time the Cost of Trip will not be affordable for people."
   ]
  },
  {
   "cell_type": "markdown",
   "id": "9a0782b5",
   "metadata": {},
   "source": [
    "### What is the business problem?"
   ]
  },
  {
   "cell_type": "markdown",
   "id": "957b7f06",
   "metadata": {},
   "source": [
    "We are trying to find out from the datasets (Cabs), which fo the two Companies is better to do an investment, so the XYZ firm in US, use that information to make a choice."
   ]
  },
  {
   "cell_type": "markdown",
   "id": "db249d96",
   "metadata": {},
   "source": [
    "###  What are the properties of the data provided (data intake report)"
   ]
  },
  {
   "cell_type": "markdown",
   "id": "5b4323d1",
   "metadata": {},
   "source": [
    "The datasets provided are different parts of one main dataset, so the obvious thing to do is to merge them together.\n",
    "Performing a scatter plot we can see that the only variables that matter for the analysis are KM Travelled, Cost of Trip, Price Charged."
   ]
  },
  {
   "cell_type": "markdown",
   "id": "4d6611a8",
   "metadata": {},
   "source": [
    "The Yellow Cab Company has around 76% of the total users."
   ]
  },
  {
   "cell_type": "code",
   "execution_count": 53,
   "id": "05f23f42",
   "metadata": {
    "scrolled": false
   },
   "outputs": [
    {
     "data": {
      "text/plain": [
       "0.764293584720862"
      ]
     },
     "execution_count": 53,
     "metadata": {},
     "output_type": "execute_result"
    }
   ],
   "source": [
    "Yellow_Cab.shape[0]/df.shape[0]"
   ]
  },
  {
   "cell_type": "markdown",
   "id": "162d8cad",
   "metadata": {},
   "source": [
    "So the remaining  24% of the total users is for the Pink Cab Company."
   ]
  },
  {
   "cell_type": "code",
   "execution_count": 54,
   "id": "b0c29bb8",
   "metadata": {},
   "outputs": [
    {
     "data": {
      "text/plain": [
       "0.2357064152791381"
      ]
     },
     "execution_count": 54,
     "metadata": {},
     "output_type": "execute_result"
    }
   ],
   "source": [
    "Pink_Cab.shape[0]/df.shape[0]"
   ]
  },
  {
   "cell_type": "markdown",
   "id": "48960e75",
   "metadata": {},
   "source": [
    "### What steps did you take in order to create an applicable data set?"
   ]
  },
  {
   "cell_type": "markdown",
   "id": "42a59632",
   "metadata": {},
   "source": [
    "The steps to gain some inside from the data are the following:\n",
    "\n",
    "* Merge all the datasets.\n",
    "* To Perform a quick review of the dataset with seaborn.\n",
    "* Look for correlation coeffcients among these variables KM Travelled, Cost of Trip, Price Charged.\n",
    "* Show that that correlation is definite positive with the p_value."
   ]
  },
  {
   "cell_type": "markdown",
   "id": "ae9a9579",
   "metadata": {},
   "source": [
    "### What type of analysis did you perform?"
   ]
  },
  {
   "cell_type": "markdown",
   "id": "710ec6bb",
   "metadata": {},
   "source": [
    "We looked for correlation among the variables, and see if they are related, in order to use that to make predictions, the other analysis would be to look for how much does the Users paid for their trips and comparing between the companies so we can see which one charged less."
   ]
  },
  {
   "cell_type": "markdown",
   "id": "05a91cf4",
   "metadata": {},
   "source": [
    "###  What were the results?"
   ]
  },
  {
   "cell_type": "markdown",
   "id": "d29741ac",
   "metadata": {},
   "source": [
    "The main results are\n",
    "\n",
    "> Eventhough most of the users travelled with the Yellow Cab Company more than 70% in comparison with the Pink Cab Company. \n",
    "\n",
    "\n",
    "> We see clearly that the Pink Company charged price is less than the charged made by Yellow Cab Company.\n",
    "\n",
    "> We strongly recommend XYZ firm to make an investment in the Pink Cab company, eventhoug has a minor users now, but in time it would have more users, because always people prefer to pay less and to get the place they want to get, and if they have options and one of them costs less, they would refer it.\n"
   ]
  }
 ],
 "metadata": {
  "kernelspec": {
   "display_name": "Python 3",
   "language": "python",
   "name": "python3"
  },
  "language_info": {
   "codemirror_mode": {
    "name": "ipython",
    "version": 3
   },
   "file_extension": ".py",
   "mimetype": "text/x-python",
   "name": "python",
   "nbconvert_exporter": "python",
   "pygments_lexer": "ipython3",
   "version": "3.8.8"
  }
 },
 "nbformat": 4,
 "nbformat_minor": 5
}
