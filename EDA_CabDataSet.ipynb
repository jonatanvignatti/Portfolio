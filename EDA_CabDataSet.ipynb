{
 "cells": [
  {
   "cell_type": "code",
   "execution_count": 5,
   "id": "10daf766",
   "metadata": {},
   "outputs": [],
   "source": [
    "import pandas as pd\n",
    "import seaborn as sns\n",
    "import matplotlib.pyplot as plt\n",
    "import numpy as np"
   ]
  },
  {
   "cell_type": "markdown",
   "id": "fcafe802",
   "metadata": {},
   "source": [
    "### First we need to reed the datasets."
   ]
  },
  {
   "cell_type": "code",
   "execution_count": 6,
   "id": "502cd9d6",
   "metadata": {},
   "outputs": [
    {
     "data": {
      "text/html": [
       "<div>\n",
       "<style scoped>\n",
       "    .dataframe tbody tr th:only-of-type {\n",
       "        vertical-align: middle;\n",
       "    }\n",
       "\n",
       "    .dataframe tbody tr th {\n",
       "        vertical-align: top;\n",
       "    }\n",
       "\n",
       "    .dataframe thead th {\n",
       "        text-align: right;\n",
       "    }\n",
       "</style>\n",
       "<table border=\"1\" class=\"dataframe\">\n",
       "  <thead>\n",
       "    <tr style=\"text-align: right;\">\n",
       "      <th></th>\n",
       "      <th>Transaction ID</th>\n",
       "      <th>Date of Travel</th>\n",
       "      <th>Company</th>\n",
       "      <th>City</th>\n",
       "      <th>KM Travelled</th>\n",
       "      <th>Price Charged</th>\n",
       "      <th>Cost of Trip</th>\n",
       "    </tr>\n",
       "  </thead>\n",
       "  <tbody>\n",
       "    <tr>\n",
       "      <th>0</th>\n",
       "      <td>10000011</td>\n",
       "      <td>42377</td>\n",
       "      <td>Pink Cab</td>\n",
       "      <td>ATLANTA GA</td>\n",
       "      <td>30.45</td>\n",
       "      <td>370.95</td>\n",
       "      <td>313.635</td>\n",
       "    </tr>\n",
       "    <tr>\n",
       "      <th>1</th>\n",
       "      <td>10000012</td>\n",
       "      <td>42375</td>\n",
       "      <td>Pink Cab</td>\n",
       "      <td>ATLANTA GA</td>\n",
       "      <td>28.62</td>\n",
       "      <td>358.52</td>\n",
       "      <td>334.854</td>\n",
       "    </tr>\n",
       "    <tr>\n",
       "      <th>2</th>\n",
       "      <td>10000013</td>\n",
       "      <td>42371</td>\n",
       "      <td>Pink Cab</td>\n",
       "      <td>ATLANTA GA</td>\n",
       "      <td>9.04</td>\n",
       "      <td>125.20</td>\n",
       "      <td>97.632</td>\n",
       "    </tr>\n",
       "    <tr>\n",
       "      <th>3</th>\n",
       "      <td>10000014</td>\n",
       "      <td>42376</td>\n",
       "      <td>Pink Cab</td>\n",
       "      <td>ATLANTA GA</td>\n",
       "      <td>33.17</td>\n",
       "      <td>377.40</td>\n",
       "      <td>351.602</td>\n",
       "    </tr>\n",
       "    <tr>\n",
       "      <th>4</th>\n",
       "      <td>10000015</td>\n",
       "      <td>42372</td>\n",
       "      <td>Pink Cab</td>\n",
       "      <td>ATLANTA GA</td>\n",
       "      <td>8.73</td>\n",
       "      <td>114.62</td>\n",
       "      <td>97.776</td>\n",
       "    </tr>\n",
       "  </tbody>\n",
       "</table>\n",
       "</div>"
      ],
      "text/plain": [
       "   Transaction ID  Date of Travel   Company        City  KM Travelled  \\\n",
       "0        10000011           42377  Pink Cab  ATLANTA GA         30.45   \n",
       "1        10000012           42375  Pink Cab  ATLANTA GA         28.62   \n",
       "2        10000013           42371  Pink Cab  ATLANTA GA          9.04   \n",
       "3        10000014           42376  Pink Cab  ATLANTA GA         33.17   \n",
       "4        10000015           42372  Pink Cab  ATLANTA GA          8.73   \n",
       "\n",
       "   Price Charged  Cost of Trip  \n",
       "0         370.95       313.635  \n",
       "1         358.52       334.854  \n",
       "2         125.20        97.632  \n",
       "3         377.40       351.602  \n",
       "4         114.62        97.776  "
      ]
     },
     "execution_count": 6,
     "metadata": {},
     "output_type": "execute_result"
    }
   ],
   "source": [
    "df1 = pd.read_csv('Cab_Data.csv')\n",
    "df1.head()"
   ]
  },
  {
   "cell_type": "code",
   "execution_count": 7,
   "id": "7ca9748b",
   "metadata": {},
   "outputs": [
    {
     "data": {
      "text/html": [
       "<div>\n",
       "<style scoped>\n",
       "    .dataframe tbody tr th:only-of-type {\n",
       "        vertical-align: middle;\n",
       "    }\n",
       "\n",
       "    .dataframe tbody tr th {\n",
       "        vertical-align: top;\n",
       "    }\n",
       "\n",
       "    .dataframe thead th {\n",
       "        text-align: right;\n",
       "    }\n",
       "</style>\n",
       "<table border=\"1\" class=\"dataframe\">\n",
       "  <thead>\n",
       "    <tr style=\"text-align: right;\">\n",
       "      <th></th>\n",
       "      <th>City</th>\n",
       "      <th>Population</th>\n",
       "      <th>Users</th>\n",
       "    </tr>\n",
       "  </thead>\n",
       "  <tbody>\n",
       "    <tr>\n",
       "      <th>0</th>\n",
       "      <td>NEW YORK NY</td>\n",
       "      <td>8,405,837</td>\n",
       "      <td>302,149</td>\n",
       "    </tr>\n",
       "    <tr>\n",
       "      <th>1</th>\n",
       "      <td>CHICAGO IL</td>\n",
       "      <td>1,955,130</td>\n",
       "      <td>164,468</td>\n",
       "    </tr>\n",
       "    <tr>\n",
       "      <th>2</th>\n",
       "      <td>LOS ANGELES CA</td>\n",
       "      <td>1,595,037</td>\n",
       "      <td>144,132</td>\n",
       "    </tr>\n",
       "    <tr>\n",
       "      <th>3</th>\n",
       "      <td>MIAMI FL</td>\n",
       "      <td>1,339,155</td>\n",
       "      <td>17,675</td>\n",
       "    </tr>\n",
       "    <tr>\n",
       "      <th>4</th>\n",
       "      <td>SILICON VALLEY</td>\n",
       "      <td>1,177,609</td>\n",
       "      <td>27,247</td>\n",
       "    </tr>\n",
       "  </tbody>\n",
       "</table>\n",
       "</div>"
      ],
      "text/plain": [
       "             City   Population      Users\n",
       "0     NEW YORK NY   8,405,837    302,149 \n",
       "1      CHICAGO IL   1,955,130    164,468 \n",
       "2  LOS ANGELES CA   1,595,037    144,132 \n",
       "3        MIAMI FL   1,339,155     17,675 \n",
       "4  SILICON VALLEY   1,177,609     27,247 "
      ]
     },
     "execution_count": 7,
     "metadata": {},
     "output_type": "execute_result"
    }
   ],
   "source": [
    "df2 = pd.read_csv('City.csv')\n",
    "df2.head()"
   ]
  },
  {
   "cell_type": "code",
   "execution_count": 8,
   "id": "2c64c882",
   "metadata": {},
   "outputs": [
    {
     "data": {
      "text/html": [
       "<div>\n",
       "<style scoped>\n",
       "    .dataframe tbody tr th:only-of-type {\n",
       "        vertical-align: middle;\n",
       "    }\n",
       "\n",
       "    .dataframe tbody tr th {\n",
       "        vertical-align: top;\n",
       "    }\n",
       "\n",
       "    .dataframe thead th {\n",
       "        text-align: right;\n",
       "    }\n",
       "</style>\n",
       "<table border=\"1\" class=\"dataframe\">\n",
       "  <thead>\n",
       "    <tr style=\"text-align: right;\">\n",
       "      <th></th>\n",
       "      <th>Customer ID</th>\n",
       "      <th>Gender</th>\n",
       "      <th>Age</th>\n",
       "      <th>Income (USD/Month)</th>\n",
       "    </tr>\n",
       "  </thead>\n",
       "  <tbody>\n",
       "    <tr>\n",
       "      <th>0</th>\n",
       "      <td>29290</td>\n",
       "      <td>Male</td>\n",
       "      <td>28</td>\n",
       "      <td>10813</td>\n",
       "    </tr>\n",
       "    <tr>\n",
       "      <th>1</th>\n",
       "      <td>27703</td>\n",
       "      <td>Male</td>\n",
       "      <td>27</td>\n",
       "      <td>9237</td>\n",
       "    </tr>\n",
       "    <tr>\n",
       "      <th>2</th>\n",
       "      <td>28712</td>\n",
       "      <td>Male</td>\n",
       "      <td>53</td>\n",
       "      <td>11242</td>\n",
       "    </tr>\n",
       "    <tr>\n",
       "      <th>3</th>\n",
       "      <td>28020</td>\n",
       "      <td>Male</td>\n",
       "      <td>23</td>\n",
       "      <td>23327</td>\n",
       "    </tr>\n",
       "    <tr>\n",
       "      <th>4</th>\n",
       "      <td>27182</td>\n",
       "      <td>Male</td>\n",
       "      <td>33</td>\n",
       "      <td>8536</td>\n",
       "    </tr>\n",
       "  </tbody>\n",
       "</table>\n",
       "</div>"
      ],
      "text/plain": [
       "   Customer ID Gender  Age  Income (USD/Month)\n",
       "0        29290   Male   28               10813\n",
       "1        27703   Male   27                9237\n",
       "2        28712   Male   53               11242\n",
       "3        28020   Male   23               23327\n",
       "4        27182   Male   33                8536"
      ]
     },
     "execution_count": 8,
     "metadata": {},
     "output_type": "execute_result"
    }
   ],
   "source": [
    "df3 = pd.read_csv('Customer_ID.csv')\n",
    "df3.head()"
   ]
  },
  {
   "cell_type": "code",
   "execution_count": 9,
   "id": "f5bacfbd",
   "metadata": {
    "scrolled": true
   },
   "outputs": [
    {
     "data": {
      "text/html": [
       "<div>\n",
       "<style scoped>\n",
       "    .dataframe tbody tr th:only-of-type {\n",
       "        vertical-align: middle;\n",
       "    }\n",
       "\n",
       "    .dataframe tbody tr th {\n",
       "        vertical-align: top;\n",
       "    }\n",
       "\n",
       "    .dataframe thead th {\n",
       "        text-align: right;\n",
       "    }\n",
       "</style>\n",
       "<table border=\"1\" class=\"dataframe\">\n",
       "  <thead>\n",
       "    <tr style=\"text-align: right;\">\n",
       "      <th></th>\n",
       "      <th>Transaction ID</th>\n",
       "      <th>Customer ID</th>\n",
       "      <th>Payment_Mode</th>\n",
       "    </tr>\n",
       "  </thead>\n",
       "  <tbody>\n",
       "    <tr>\n",
       "      <th>0</th>\n",
       "      <td>10000011</td>\n",
       "      <td>29290</td>\n",
       "      <td>Card</td>\n",
       "    </tr>\n",
       "    <tr>\n",
       "      <th>1</th>\n",
       "      <td>10000012</td>\n",
       "      <td>27703</td>\n",
       "      <td>Card</td>\n",
       "    </tr>\n",
       "    <tr>\n",
       "      <th>2</th>\n",
       "      <td>10000013</td>\n",
       "      <td>28712</td>\n",
       "      <td>Cash</td>\n",
       "    </tr>\n",
       "    <tr>\n",
       "      <th>3</th>\n",
       "      <td>10000014</td>\n",
       "      <td>28020</td>\n",
       "      <td>Cash</td>\n",
       "    </tr>\n",
       "    <tr>\n",
       "      <th>4</th>\n",
       "      <td>10000015</td>\n",
       "      <td>27182</td>\n",
       "      <td>Card</td>\n",
       "    </tr>\n",
       "  </tbody>\n",
       "</table>\n",
       "</div>"
      ],
      "text/plain": [
       "   Transaction ID  Customer ID Payment_Mode\n",
       "0        10000011        29290         Card\n",
       "1        10000012        27703         Card\n",
       "2        10000013        28712         Cash\n",
       "3        10000014        28020         Cash\n",
       "4        10000015        27182         Card"
      ]
     },
     "execution_count": 9,
     "metadata": {},
     "output_type": "execute_result"
    }
   ],
   "source": [
    "df4 = pd.read_csv('Transaction_ID.csv')\n",
    "df4.head()"
   ]
  },
  {
   "cell_type": "markdown",
   "id": "8134b5f3",
   "metadata": {},
   "source": [
    "### Merging everything but with order"
   ]
  },
  {
   "cell_type": "code",
   "execution_count": 10,
   "id": "3557df60",
   "metadata": {},
   "outputs": [
    {
     "data": {
      "text/html": [
       "<div>\n",
       "<style scoped>\n",
       "    .dataframe tbody tr th:only-of-type {\n",
       "        vertical-align: middle;\n",
       "    }\n",
       "\n",
       "    .dataframe tbody tr th {\n",
       "        vertical-align: top;\n",
       "    }\n",
       "\n",
       "    .dataframe thead th {\n",
       "        text-align: right;\n",
       "    }\n",
       "</style>\n",
       "<table border=\"1\" class=\"dataframe\">\n",
       "  <thead>\n",
       "    <tr style=\"text-align: right;\">\n",
       "      <th></th>\n",
       "      <th>Customer ID</th>\n",
       "      <th>Gender</th>\n",
       "      <th>Age</th>\n",
       "      <th>Income (USD/Month)</th>\n",
       "      <th>Transaction ID</th>\n",
       "      <th>Payment_Mode</th>\n",
       "    </tr>\n",
       "  </thead>\n",
       "  <tbody>\n",
       "    <tr>\n",
       "      <th>0</th>\n",
       "      <td>29290</td>\n",
       "      <td>Male</td>\n",
       "      <td>28</td>\n",
       "      <td>10813</td>\n",
       "      <td>10000011</td>\n",
       "      <td>Card</td>\n",
       "    </tr>\n",
       "    <tr>\n",
       "      <th>1</th>\n",
       "      <td>29290</td>\n",
       "      <td>Male</td>\n",
       "      <td>28</td>\n",
       "      <td>10813</td>\n",
       "      <td>10351127</td>\n",
       "      <td>Cash</td>\n",
       "    </tr>\n",
       "    <tr>\n",
       "      <th>2</th>\n",
       "      <td>29290</td>\n",
       "      <td>Male</td>\n",
       "      <td>28</td>\n",
       "      <td>10813</td>\n",
       "      <td>10412921</td>\n",
       "      <td>Card</td>\n",
       "    </tr>\n",
       "    <tr>\n",
       "      <th>3</th>\n",
       "      <td>27703</td>\n",
       "      <td>Male</td>\n",
       "      <td>27</td>\n",
       "      <td>9237</td>\n",
       "      <td>10000012</td>\n",
       "      <td>Card</td>\n",
       "    </tr>\n",
       "    <tr>\n",
       "      <th>4</th>\n",
       "      <td>27703</td>\n",
       "      <td>Male</td>\n",
       "      <td>27</td>\n",
       "      <td>9237</td>\n",
       "      <td>10320494</td>\n",
       "      <td>Card</td>\n",
       "    </tr>\n",
       "  </tbody>\n",
       "</table>\n",
       "</div>"
      ],
      "text/plain": [
       "   Customer ID Gender  Age  Income (USD/Month)  Transaction ID Payment_Mode\n",
       "0        29290   Male   28               10813        10000011         Card\n",
       "1        29290   Male   28               10813        10351127         Cash\n",
       "2        29290   Male   28               10813        10412921         Card\n",
       "3        27703   Male   27                9237        10000012         Card\n",
       "4        27703   Male   27                9237        10320494         Card"
      ]
     },
     "execution_count": 10,
     "metadata": {},
     "output_type": "execute_result"
    }
   ],
   "source": [
    "dfa = pd.merge(df3, df4)\n",
    "dfa.head()"
   ]
  },
  {
   "cell_type": "code",
   "execution_count": 11,
   "id": "57a90fc6",
   "metadata": {},
   "outputs": [
    {
     "data": {
      "text/html": [
       "<div>\n",
       "<style scoped>\n",
       "    .dataframe tbody tr th:only-of-type {\n",
       "        vertical-align: middle;\n",
       "    }\n",
       "\n",
       "    .dataframe tbody tr th {\n",
       "        vertical-align: top;\n",
       "    }\n",
       "\n",
       "    .dataframe thead th {\n",
       "        text-align: right;\n",
       "    }\n",
       "</style>\n",
       "<table border=\"1\" class=\"dataframe\">\n",
       "  <thead>\n",
       "    <tr style=\"text-align: right;\">\n",
       "      <th></th>\n",
       "      <th>Transaction ID</th>\n",
       "      <th>Date of Travel</th>\n",
       "      <th>Company</th>\n",
       "      <th>City</th>\n",
       "      <th>KM Travelled</th>\n",
       "      <th>Price Charged</th>\n",
       "      <th>Cost of Trip</th>\n",
       "      <th>Customer ID</th>\n",
       "      <th>Payment_Mode</th>\n",
       "    </tr>\n",
       "  </thead>\n",
       "  <tbody>\n",
       "    <tr>\n",
       "      <th>0</th>\n",
       "      <td>10000011</td>\n",
       "      <td>42377</td>\n",
       "      <td>Pink Cab</td>\n",
       "      <td>ATLANTA GA</td>\n",
       "      <td>30.45</td>\n",
       "      <td>370.95</td>\n",
       "      <td>313.635</td>\n",
       "      <td>29290</td>\n",
       "      <td>Card</td>\n",
       "    </tr>\n",
       "    <tr>\n",
       "      <th>1</th>\n",
       "      <td>10000012</td>\n",
       "      <td>42375</td>\n",
       "      <td>Pink Cab</td>\n",
       "      <td>ATLANTA GA</td>\n",
       "      <td>28.62</td>\n",
       "      <td>358.52</td>\n",
       "      <td>334.854</td>\n",
       "      <td>27703</td>\n",
       "      <td>Card</td>\n",
       "    </tr>\n",
       "    <tr>\n",
       "      <th>2</th>\n",
       "      <td>10000013</td>\n",
       "      <td>42371</td>\n",
       "      <td>Pink Cab</td>\n",
       "      <td>ATLANTA GA</td>\n",
       "      <td>9.04</td>\n",
       "      <td>125.20</td>\n",
       "      <td>97.632</td>\n",
       "      <td>28712</td>\n",
       "      <td>Cash</td>\n",
       "    </tr>\n",
       "    <tr>\n",
       "      <th>3</th>\n",
       "      <td>10000014</td>\n",
       "      <td>42376</td>\n",
       "      <td>Pink Cab</td>\n",
       "      <td>ATLANTA GA</td>\n",
       "      <td>33.17</td>\n",
       "      <td>377.40</td>\n",
       "      <td>351.602</td>\n",
       "      <td>28020</td>\n",
       "      <td>Cash</td>\n",
       "    </tr>\n",
       "    <tr>\n",
       "      <th>4</th>\n",
       "      <td>10000015</td>\n",
       "      <td>42372</td>\n",
       "      <td>Pink Cab</td>\n",
       "      <td>ATLANTA GA</td>\n",
       "      <td>8.73</td>\n",
       "      <td>114.62</td>\n",
       "      <td>97.776</td>\n",
       "      <td>27182</td>\n",
       "      <td>Card</td>\n",
       "    </tr>\n",
       "  </tbody>\n",
       "</table>\n",
       "</div>"
      ],
      "text/plain": [
       "   Transaction ID  Date of Travel   Company        City  KM Travelled  \\\n",
       "0        10000011           42377  Pink Cab  ATLANTA GA         30.45   \n",
       "1        10000012           42375  Pink Cab  ATLANTA GA         28.62   \n",
       "2        10000013           42371  Pink Cab  ATLANTA GA          9.04   \n",
       "3        10000014           42376  Pink Cab  ATLANTA GA         33.17   \n",
       "4        10000015           42372  Pink Cab  ATLANTA GA          8.73   \n",
       "\n",
       "   Price Charged  Cost of Trip  Customer ID Payment_Mode  \n",
       "0         370.95       313.635        29290         Card  \n",
       "1         358.52       334.854        27703         Card  \n",
       "2         125.20        97.632        28712         Cash  \n",
       "3         377.40       351.602        28020         Cash  \n",
       "4         114.62        97.776        27182         Card  "
      ]
     },
     "execution_count": 11,
     "metadata": {},
     "output_type": "execute_result"
    }
   ],
   "source": [
    "dfb = pd.merge(df1, df4)\n",
    "dfb.head()"
   ]
  },
  {
   "cell_type": "code",
   "execution_count": 12,
   "id": "35a8b298",
   "metadata": {
    "scrolled": true
   },
   "outputs": [
    {
     "data": {
      "text/html": [
       "<div>\n",
       "<style scoped>\n",
       "    .dataframe tbody tr th:only-of-type {\n",
       "        vertical-align: middle;\n",
       "    }\n",
       "\n",
       "    .dataframe tbody tr th {\n",
       "        vertical-align: top;\n",
       "    }\n",
       "\n",
       "    .dataframe thead th {\n",
       "        text-align: right;\n",
       "    }\n",
       "</style>\n",
       "<table border=\"1\" class=\"dataframe\">\n",
       "  <thead>\n",
       "    <tr style=\"text-align: right;\">\n",
       "      <th></th>\n",
       "      <th>Customer ID</th>\n",
       "      <th>Gender</th>\n",
       "      <th>Age</th>\n",
       "      <th>Income (USD/Month)</th>\n",
       "      <th>Transaction ID</th>\n",
       "      <th>Payment_Mode</th>\n",
       "      <th>Date of Travel</th>\n",
       "      <th>Company</th>\n",
       "      <th>City</th>\n",
       "      <th>KM Travelled</th>\n",
       "      <th>Price Charged</th>\n",
       "      <th>Cost of Trip</th>\n",
       "    </tr>\n",
       "  </thead>\n",
       "  <tbody>\n",
       "    <tr>\n",
       "      <th>0</th>\n",
       "      <td>29290</td>\n",
       "      <td>Male</td>\n",
       "      <td>28</td>\n",
       "      <td>10813</td>\n",
       "      <td>10000011</td>\n",
       "      <td>Card</td>\n",
       "      <td>42377</td>\n",
       "      <td>Pink Cab</td>\n",
       "      <td>ATLANTA GA</td>\n",
       "      <td>30.45</td>\n",
       "      <td>370.95</td>\n",
       "      <td>313.6350</td>\n",
       "    </tr>\n",
       "    <tr>\n",
       "      <th>1</th>\n",
       "      <td>29290</td>\n",
       "      <td>Male</td>\n",
       "      <td>28</td>\n",
       "      <td>10813</td>\n",
       "      <td>10351127</td>\n",
       "      <td>Cash</td>\n",
       "      <td>43302</td>\n",
       "      <td>Yellow Cab</td>\n",
       "      <td>ATLANTA GA</td>\n",
       "      <td>26.19</td>\n",
       "      <td>598.70</td>\n",
       "      <td>317.4228</td>\n",
       "    </tr>\n",
       "    <tr>\n",
       "      <th>2</th>\n",
       "      <td>29290</td>\n",
       "      <td>Male</td>\n",
       "      <td>28</td>\n",
       "      <td>10813</td>\n",
       "      <td>10412921</td>\n",
       "      <td>Card</td>\n",
       "      <td>43427</td>\n",
       "      <td>Yellow Cab</td>\n",
       "      <td>ATLANTA GA</td>\n",
       "      <td>42.55</td>\n",
       "      <td>792.05</td>\n",
       "      <td>597.4020</td>\n",
       "    </tr>\n",
       "    <tr>\n",
       "      <th>3</th>\n",
       "      <td>27703</td>\n",
       "      <td>Male</td>\n",
       "      <td>27</td>\n",
       "      <td>9237</td>\n",
       "      <td>10000012</td>\n",
       "      <td>Card</td>\n",
       "      <td>42375</td>\n",
       "      <td>Pink Cab</td>\n",
       "      <td>ATLANTA GA</td>\n",
       "      <td>28.62</td>\n",
       "      <td>358.52</td>\n",
       "      <td>334.8540</td>\n",
       "    </tr>\n",
       "    <tr>\n",
       "      <th>4</th>\n",
       "      <td>27703</td>\n",
       "      <td>Male</td>\n",
       "      <td>27</td>\n",
       "      <td>9237</td>\n",
       "      <td>10320494</td>\n",
       "      <td>Card</td>\n",
       "      <td>43211</td>\n",
       "      <td>Yellow Cab</td>\n",
       "      <td>ATLANTA GA</td>\n",
       "      <td>36.38</td>\n",
       "      <td>721.10</td>\n",
       "      <td>467.1192</td>\n",
       "    </tr>\n",
       "  </tbody>\n",
       "</table>\n",
       "</div>"
      ],
      "text/plain": [
       "   Customer ID Gender  Age  Income (USD/Month)  Transaction ID Payment_Mode  \\\n",
       "0        29290   Male   28               10813        10000011         Card   \n",
       "1        29290   Male   28               10813        10351127         Cash   \n",
       "2        29290   Male   28               10813        10412921         Card   \n",
       "3        27703   Male   27                9237        10000012         Card   \n",
       "4        27703   Male   27                9237        10320494         Card   \n",
       "\n",
       "   Date of Travel     Company        City  KM Travelled  Price Charged  \\\n",
       "0           42377    Pink Cab  ATLANTA GA         30.45         370.95   \n",
       "1           43302  Yellow Cab  ATLANTA GA         26.19         598.70   \n",
       "2           43427  Yellow Cab  ATLANTA GA         42.55         792.05   \n",
       "3           42375    Pink Cab  ATLANTA GA         28.62         358.52   \n",
       "4           43211  Yellow Cab  ATLANTA GA         36.38         721.10   \n",
       "\n",
       "   Cost of Trip  \n",
       "0      313.6350  \n",
       "1      317.4228  \n",
       "2      597.4020  \n",
       "3      334.8540  \n",
       "4      467.1192  "
      ]
     },
     "execution_count": 12,
     "metadata": {},
     "output_type": "execute_result"
    }
   ],
   "source": [
    "new_df = pd.merge(dfa, dfb)\n",
    "new_df.head()"
   ]
  },
  {
   "cell_type": "code",
   "execution_count": 147,
   "id": "802c1571",
   "metadata": {
    "scrolled": true
   },
   "outputs": [
    {
     "data": {
      "text/html": [
       "<div>\n",
       "<style scoped>\n",
       "    .dataframe tbody tr th:only-of-type {\n",
       "        vertical-align: middle;\n",
       "    }\n",
       "\n",
       "    .dataframe tbody tr th {\n",
       "        vertical-align: top;\n",
       "    }\n",
       "\n",
       "    .dataframe thead th {\n",
       "        text-align: right;\n",
       "    }\n",
       "</style>\n",
       "<table border=\"1\" class=\"dataframe\">\n",
       "  <thead>\n",
       "    <tr style=\"text-align: right;\">\n",
       "      <th></th>\n",
       "      <th>Customer ID</th>\n",
       "      <th>Gender</th>\n",
       "      <th>Age</th>\n",
       "      <th>Income (USD/Month)</th>\n",
       "      <th>Transaction ID</th>\n",
       "      <th>Payment_Mode</th>\n",
       "      <th>Date of Travel</th>\n",
       "      <th>Company</th>\n",
       "      <th>City</th>\n",
       "      <th>KM Travelled</th>\n",
       "      <th>Price Charged</th>\n",
       "      <th>Cost of Trip</th>\n",
       "      <th>Population</th>\n",
       "      <th>Users</th>\n",
       "    </tr>\n",
       "  </thead>\n",
       "  <tbody>\n",
       "    <tr>\n",
       "      <th>0</th>\n",
       "      <td>29290</td>\n",
       "      <td>Male</td>\n",
       "      <td>28</td>\n",
       "      <td>10813</td>\n",
       "      <td>10000011</td>\n",
       "      <td>Card</td>\n",
       "      <td>42377</td>\n",
       "      <td>Pink Cab</td>\n",
       "      <td>ATLANTA GA</td>\n",
       "      <td>30.45</td>\n",
       "      <td>370.95</td>\n",
       "      <td>313.6350</td>\n",
       "      <td>814,885</td>\n",
       "      <td>24,701</td>\n",
       "    </tr>\n",
       "    <tr>\n",
       "      <th>1</th>\n",
       "      <td>29290</td>\n",
       "      <td>Male</td>\n",
       "      <td>28</td>\n",
       "      <td>10813</td>\n",
       "      <td>10351127</td>\n",
       "      <td>Cash</td>\n",
       "      <td>43302</td>\n",
       "      <td>Yellow Cab</td>\n",
       "      <td>ATLANTA GA</td>\n",
       "      <td>26.19</td>\n",
       "      <td>598.70</td>\n",
       "      <td>317.4228</td>\n",
       "      <td>814,885</td>\n",
       "      <td>24,701</td>\n",
       "    </tr>\n",
       "    <tr>\n",
       "      <th>2</th>\n",
       "      <td>29290</td>\n",
       "      <td>Male</td>\n",
       "      <td>28</td>\n",
       "      <td>10813</td>\n",
       "      <td>10412921</td>\n",
       "      <td>Card</td>\n",
       "      <td>43427</td>\n",
       "      <td>Yellow Cab</td>\n",
       "      <td>ATLANTA GA</td>\n",
       "      <td>42.55</td>\n",
       "      <td>792.05</td>\n",
       "      <td>597.4020</td>\n",
       "      <td>814,885</td>\n",
       "      <td>24,701</td>\n",
       "    </tr>\n",
       "    <tr>\n",
       "      <th>3</th>\n",
       "      <td>27703</td>\n",
       "      <td>Male</td>\n",
       "      <td>27</td>\n",
       "      <td>9237</td>\n",
       "      <td>10000012</td>\n",
       "      <td>Card</td>\n",
       "      <td>42375</td>\n",
       "      <td>Pink Cab</td>\n",
       "      <td>ATLANTA GA</td>\n",
       "      <td>28.62</td>\n",
       "      <td>358.52</td>\n",
       "      <td>334.8540</td>\n",
       "      <td>814,885</td>\n",
       "      <td>24,701</td>\n",
       "    </tr>\n",
       "    <tr>\n",
       "      <th>4</th>\n",
       "      <td>27703</td>\n",
       "      <td>Male</td>\n",
       "      <td>27</td>\n",
       "      <td>9237</td>\n",
       "      <td>10320494</td>\n",
       "      <td>Card</td>\n",
       "      <td>43211</td>\n",
       "      <td>Yellow Cab</td>\n",
       "      <td>ATLANTA GA</td>\n",
       "      <td>36.38</td>\n",
       "      <td>721.10</td>\n",
       "      <td>467.1192</td>\n",
       "      <td>814,885</td>\n",
       "      <td>24,701</td>\n",
       "    </tr>\n",
       "  </tbody>\n",
       "</table>\n",
       "</div>"
      ],
      "text/plain": [
       "   Customer ID Gender  Age  Income (USD/Month)  Transaction ID Payment_Mode  \\\n",
       "0        29290   Male   28               10813        10000011         Card   \n",
       "1        29290   Male   28               10813        10351127         Cash   \n",
       "2        29290   Male   28               10813        10412921         Card   \n",
       "3        27703   Male   27                9237        10000012         Card   \n",
       "4        27703   Male   27                9237        10320494         Card   \n",
       "\n",
       "   Date of Travel     Company        City  KM Travelled  Price Charged  \\\n",
       "0           42377    Pink Cab  ATLANTA GA         30.45         370.95   \n",
       "1           43302  Yellow Cab  ATLANTA GA         26.19         598.70   \n",
       "2           43427  Yellow Cab  ATLANTA GA         42.55         792.05   \n",
       "3           42375    Pink Cab  ATLANTA GA         28.62         358.52   \n",
       "4           43211  Yellow Cab  ATLANTA GA         36.38         721.10   \n",
       "\n",
       "   Cost of Trip Population     Users  \n",
       "0      313.6350   814,885    24,701   \n",
       "1      317.4228   814,885    24,701   \n",
       "2      597.4020   814,885    24,701   \n",
       "3      334.8540   814,885    24,701   \n",
       "4      467.1192   814,885    24,701   "
      ]
     },
     "execution_count": 147,
     "metadata": {},
     "output_type": "execute_result"
    }
   ],
   "source": [
    "df = pd.merge(new_df, df2)\n",
    "df.head()"
   ]
  },
  {
   "cell_type": "code",
   "execution_count": 148,
   "id": "339144a7",
   "metadata": {},
   "outputs": [
    {
     "data": {
      "text/plain": [
       "(359392, 14)"
      ]
     },
     "execution_count": 148,
     "metadata": {},
     "output_type": "execute_result"
    }
   ],
   "source": [
    "df.shape"
   ]
  },
  {
   "cell_type": "code",
   "execution_count": 149,
   "id": "16a3301b",
   "metadata": {
    "scrolled": true
   },
   "outputs": [
    {
     "name": "stdout",
     "output_type": "stream",
     "text": [
      "<class 'pandas.core.frame.DataFrame'>\n",
      "Int64Index: 359392 entries, 0 to 359391\n",
      "Data columns (total 14 columns):\n",
      " #   Column              Non-Null Count   Dtype  \n",
      "---  ------              --------------   -----  \n",
      " 0   Customer ID         359392 non-null  int64  \n",
      " 1   Gender              359392 non-null  object \n",
      " 2   Age                 359392 non-null  int64  \n",
      " 3   Income (USD/Month)  359392 non-null  int64  \n",
      " 4   Transaction ID      359392 non-null  int64  \n",
      " 5   Payment_Mode        359392 non-null  object \n",
      " 6   Date of Travel      359392 non-null  int64  \n",
      " 7   Company             359392 non-null  object \n",
      " 8   City                359392 non-null  object \n",
      " 9   KM Travelled        359392 non-null  float64\n",
      " 10  Price Charged       359392 non-null  float64\n",
      " 11  Cost of Trip        359392 non-null  float64\n",
      " 12  Population          359392 non-null  object \n",
      " 13  Users               359392 non-null  object \n",
      "dtypes: float64(3), int64(5), object(6)\n",
      "memory usage: 41.1+ MB\n"
     ]
    }
   ],
   "source": [
    "df.info()"
   ]
  },
  {
   "cell_type": "markdown",
   "id": "92592a82",
   "metadata": {},
   "source": [
    "### Some Statistics"
   ]
  },
  {
   "cell_type": "code",
   "execution_count": 150,
   "id": "23ee5761",
   "metadata": {},
   "outputs": [
    {
     "data": {
      "text/html": [
       "<div>\n",
       "<style scoped>\n",
       "    .dataframe tbody tr th:only-of-type {\n",
       "        vertical-align: middle;\n",
       "    }\n",
       "\n",
       "    .dataframe tbody tr th {\n",
       "        vertical-align: top;\n",
       "    }\n",
       "\n",
       "    .dataframe thead th {\n",
       "        text-align: right;\n",
       "    }\n",
       "</style>\n",
       "<table border=\"1\" class=\"dataframe\">\n",
       "  <thead>\n",
       "    <tr style=\"text-align: right;\">\n",
       "      <th></th>\n",
       "      <th>Customer ID</th>\n",
       "      <th>Age</th>\n",
       "      <th>Income (USD/Month)</th>\n",
       "      <th>Transaction ID</th>\n",
       "      <th>Date of Travel</th>\n",
       "      <th>KM Travelled</th>\n",
       "      <th>Price Charged</th>\n",
       "      <th>Cost of Trip</th>\n",
       "    </tr>\n",
       "  </thead>\n",
       "  <tbody>\n",
       "    <tr>\n",
       "      <th>count</th>\n",
       "      <td>359392.000000</td>\n",
       "      <td>359392.000000</td>\n",
       "      <td>359392.000000</td>\n",
       "      <td>3.593920e+05</td>\n",
       "      <td>359392.000000</td>\n",
       "      <td>359392.000000</td>\n",
       "      <td>359392.000000</td>\n",
       "      <td>359392.000000</td>\n",
       "    </tr>\n",
       "    <tr>\n",
       "      <th>mean</th>\n",
       "      <td>19191.652115</td>\n",
       "      <td>35.336705</td>\n",
       "      <td>15048.822937</td>\n",
       "      <td>1.022076e+07</td>\n",
       "      <td>42964.067998</td>\n",
       "      <td>22.567254</td>\n",
       "      <td>423.443311</td>\n",
       "      <td>286.190113</td>\n",
       "    </tr>\n",
       "    <tr>\n",
       "      <th>std</th>\n",
       "      <td>21012.412463</td>\n",
       "      <td>12.594234</td>\n",
       "      <td>7969.409482</td>\n",
       "      <td>1.268058e+05</td>\n",
       "      <td>307.467197</td>\n",
       "      <td>12.233526</td>\n",
       "      <td>274.378911</td>\n",
       "      <td>157.993661</td>\n",
       "    </tr>\n",
       "    <tr>\n",
       "      <th>min</th>\n",
       "      <td>1.000000</td>\n",
       "      <td>18.000000</td>\n",
       "      <td>2000.000000</td>\n",
       "      <td>1.000001e+07</td>\n",
       "      <td>42371.000000</td>\n",
       "      <td>1.900000</td>\n",
       "      <td>15.600000</td>\n",
       "      <td>19.000000</td>\n",
       "    </tr>\n",
       "    <tr>\n",
       "      <th>25%</th>\n",
       "      <td>2705.000000</td>\n",
       "      <td>25.000000</td>\n",
       "      <td>8424.000000</td>\n",
       "      <td>1.011081e+07</td>\n",
       "      <td>42697.000000</td>\n",
       "      <td>12.000000</td>\n",
       "      <td>206.437500</td>\n",
       "      <td>151.200000</td>\n",
       "    </tr>\n",
       "    <tr>\n",
       "      <th>50%</th>\n",
       "      <td>7459.000000</td>\n",
       "      <td>33.000000</td>\n",
       "      <td>14685.000000</td>\n",
       "      <td>1.022104e+07</td>\n",
       "      <td>42988.000000</td>\n",
       "      <td>22.440000</td>\n",
       "      <td>386.360000</td>\n",
       "      <td>282.480000</td>\n",
       "    </tr>\n",
       "    <tr>\n",
       "      <th>75%</th>\n",
       "      <td>36078.000000</td>\n",
       "      <td>42.000000</td>\n",
       "      <td>21035.000000</td>\n",
       "      <td>1.033094e+07</td>\n",
       "      <td>43232.000000</td>\n",
       "      <td>32.960000</td>\n",
       "      <td>583.660000</td>\n",
       "      <td>413.683200</td>\n",
       "    </tr>\n",
       "    <tr>\n",
       "      <th>max</th>\n",
       "      <td>60000.000000</td>\n",
       "      <td>65.000000</td>\n",
       "      <td>35000.000000</td>\n",
       "      <td>1.044011e+07</td>\n",
       "      <td>43465.000000</td>\n",
       "      <td>48.000000</td>\n",
       "      <td>2048.030000</td>\n",
       "      <td>691.200000</td>\n",
       "    </tr>\n",
       "  </tbody>\n",
       "</table>\n",
       "</div>"
      ],
      "text/plain": [
       "         Customer ID            Age  Income (USD/Month)  Transaction ID  \\\n",
       "count  359392.000000  359392.000000       359392.000000    3.593920e+05   \n",
       "mean    19191.652115      35.336705        15048.822937    1.022076e+07   \n",
       "std     21012.412463      12.594234         7969.409482    1.268058e+05   \n",
       "min         1.000000      18.000000         2000.000000    1.000001e+07   \n",
       "25%      2705.000000      25.000000         8424.000000    1.011081e+07   \n",
       "50%      7459.000000      33.000000        14685.000000    1.022104e+07   \n",
       "75%     36078.000000      42.000000        21035.000000    1.033094e+07   \n",
       "max     60000.000000      65.000000        35000.000000    1.044011e+07   \n",
       "\n",
       "       Date of Travel   KM Travelled  Price Charged   Cost of Trip  \n",
       "count   359392.000000  359392.000000  359392.000000  359392.000000  \n",
       "mean     42964.067998      22.567254     423.443311     286.190113  \n",
       "std        307.467197      12.233526     274.378911     157.993661  \n",
       "min      42371.000000       1.900000      15.600000      19.000000  \n",
       "25%      42697.000000      12.000000     206.437500     151.200000  \n",
       "50%      42988.000000      22.440000     386.360000     282.480000  \n",
       "75%      43232.000000      32.960000     583.660000     413.683200  \n",
       "max      43465.000000      48.000000    2048.030000     691.200000  "
      ]
     },
     "execution_count": 150,
     "metadata": {},
     "output_type": "execute_result"
    }
   ],
   "source": [
    "df.describe()"
   ]
  },
  {
   "cell_type": "markdown",
   "id": "0c60e597",
   "metadata": {},
   "source": [
    "We look for null variables"
   ]
  },
  {
   "cell_type": "code",
   "execution_count": 325,
   "id": "5612c61f",
   "metadata": {},
   "outputs": [
    {
     "data": {
      "text/plain": [
       "Customer ID           0.0\n",
       "Gender                  0\n",
       "Age                   0.0\n",
       "Income (USD/Month)    0.0\n",
       "Transaction ID        0.0\n",
       "Payment_Mode            0\n",
       "Date of Travel        0.0\n",
       "Company                 0\n",
       "City                    0\n",
       "KM Travelled          0.0\n",
       "Price Charged         0.0\n",
       "Cost of Trip          0.0\n",
       "Population              0\n",
       "Users                   0\n",
       "dtype: object"
      ]
     },
     "execution_count": 325,
     "metadata": {},
     "output_type": "execute_result"
    }
   ],
   "source": [
    "df[df.isnull()].sum()"
   ]
  },
  {
   "cell_type": "markdown",
   "id": "3a7c0db3",
   "metadata": {},
   "source": [
    "Looking for duplicated varables."
   ]
  },
  {
   "cell_type": "code",
   "execution_count": 257,
   "id": "de896566",
   "metadata": {},
   "outputs": [
    {
     "data": {
      "text/plain": [
       "0"
      ]
     },
     "execution_count": 257,
     "metadata": {},
     "output_type": "execute_result"
    }
   ],
   "source": [
    "sum(df.duplicated())"
   ]
  },
  {
   "cell_type": "markdown",
   "id": "54d77563",
   "metadata": {},
   "source": [
    "### Splitting up Companies"
   ]
  },
  {
   "cell_type": "markdown",
   "id": "3b8e3551",
   "metadata": {},
   "source": [
    "#### Pink Cab Company"
   ]
  },
  {
   "cell_type": "code",
   "execution_count": 151,
   "id": "181550b5",
   "metadata": {},
   "outputs": [
    {
     "data": {
      "text/html": [
       "<div>\n",
       "<style scoped>\n",
       "    .dataframe tbody tr th:only-of-type {\n",
       "        vertical-align: middle;\n",
       "    }\n",
       "\n",
       "    .dataframe tbody tr th {\n",
       "        vertical-align: top;\n",
       "    }\n",
       "\n",
       "    .dataframe thead th {\n",
       "        text-align: right;\n",
       "    }\n",
       "</style>\n",
       "<table border=\"1\" class=\"dataframe\">\n",
       "  <thead>\n",
       "    <tr style=\"text-align: right;\">\n",
       "      <th></th>\n",
       "      <th>Customer ID</th>\n",
       "      <th>Gender</th>\n",
       "      <th>Age</th>\n",
       "      <th>Income (USD/Month)</th>\n",
       "      <th>Transaction ID</th>\n",
       "      <th>Payment_Mode</th>\n",
       "      <th>Date of Travel</th>\n",
       "      <th>Company</th>\n",
       "      <th>City</th>\n",
       "      <th>KM Travelled</th>\n",
       "      <th>Price Charged</th>\n",
       "      <th>Cost of Trip</th>\n",
       "      <th>Population</th>\n",
       "      <th>Users</th>\n",
       "    </tr>\n",
       "  </thead>\n",
       "  <tbody>\n",
       "    <tr>\n",
       "      <th>0</th>\n",
       "      <td>29290</td>\n",
       "      <td>Male</td>\n",
       "      <td>28</td>\n",
       "      <td>10813</td>\n",
       "      <td>10000011</td>\n",
       "      <td>Card</td>\n",
       "      <td>42377</td>\n",
       "      <td>Pink Cab</td>\n",
       "      <td>ATLANTA GA</td>\n",
       "      <td>30.45</td>\n",
       "      <td>370.95</td>\n",
       "      <td>313.635</td>\n",
       "      <td>814,885</td>\n",
       "      <td>24,701</td>\n",
       "    </tr>\n",
       "    <tr>\n",
       "      <th>3</th>\n",
       "      <td>27703</td>\n",
       "      <td>Male</td>\n",
       "      <td>27</td>\n",
       "      <td>9237</td>\n",
       "      <td>10000012</td>\n",
       "      <td>Card</td>\n",
       "      <td>42375</td>\n",
       "      <td>Pink Cab</td>\n",
       "      <td>ATLANTA GA</td>\n",
       "      <td>28.62</td>\n",
       "      <td>358.52</td>\n",
       "      <td>334.854</td>\n",
       "      <td>814,885</td>\n",
       "      <td>24,701</td>\n",
       "    </tr>\n",
       "    <tr>\n",
       "      <th>6</th>\n",
       "      <td>27703</td>\n",
       "      <td>Male</td>\n",
       "      <td>27</td>\n",
       "      <td>9237</td>\n",
       "      <td>10395626</td>\n",
       "      <td>Card</td>\n",
       "      <td>43400</td>\n",
       "      <td>Pink Cab</td>\n",
       "      <td>ATLANTA GA</td>\n",
       "      <td>13.39</td>\n",
       "      <td>167.03</td>\n",
       "      <td>141.934</td>\n",
       "      <td>814,885</td>\n",
       "      <td>24,701</td>\n",
       "    </tr>\n",
       "    <tr>\n",
       "      <th>7</th>\n",
       "      <td>28712</td>\n",
       "      <td>Male</td>\n",
       "      <td>53</td>\n",
       "      <td>11242</td>\n",
       "      <td>10000013</td>\n",
       "      <td>Cash</td>\n",
       "      <td>42371</td>\n",
       "      <td>Pink Cab</td>\n",
       "      <td>ATLANTA GA</td>\n",
       "      <td>9.04</td>\n",
       "      <td>125.20</td>\n",
       "      <td>97.632</td>\n",
       "      <td>814,885</td>\n",
       "      <td>24,701</td>\n",
       "    </tr>\n",
       "    <tr>\n",
       "      <th>11</th>\n",
       "      <td>28020</td>\n",
       "      <td>Male</td>\n",
       "      <td>23</td>\n",
       "      <td>23327</td>\n",
       "      <td>10000014</td>\n",
       "      <td>Cash</td>\n",
       "      <td>42376</td>\n",
       "      <td>Pink Cab</td>\n",
       "      <td>ATLANTA GA</td>\n",
       "      <td>33.17</td>\n",
       "      <td>377.40</td>\n",
       "      <td>351.602</td>\n",
       "      <td>814,885</td>\n",
       "      <td>24,701</td>\n",
       "    </tr>\n",
       "  </tbody>\n",
       "</table>\n",
       "</div>"
      ],
      "text/plain": [
       "    Customer ID Gender  Age  Income (USD/Month)  Transaction ID Payment_Mode  \\\n",
       "0         29290   Male   28               10813        10000011         Card   \n",
       "3         27703   Male   27                9237        10000012         Card   \n",
       "6         27703   Male   27                9237        10395626         Card   \n",
       "7         28712   Male   53               11242        10000013         Cash   \n",
       "11        28020   Male   23               23327        10000014         Cash   \n",
       "\n",
       "    Date of Travel   Company        City  KM Travelled  Price Charged  \\\n",
       "0            42377  Pink Cab  ATLANTA GA         30.45         370.95   \n",
       "3            42375  Pink Cab  ATLANTA GA         28.62         358.52   \n",
       "6            43400  Pink Cab  ATLANTA GA         13.39         167.03   \n",
       "7            42371  Pink Cab  ATLANTA GA          9.04         125.20   \n",
       "11           42376  Pink Cab  ATLANTA GA         33.17         377.40   \n",
       "\n",
       "    Cost of Trip Population     Users  \n",
       "0        313.635   814,885    24,701   \n",
       "3        334.854   814,885    24,701   \n",
       "6        141.934   814,885    24,701   \n",
       "7         97.632   814,885    24,701   \n",
       "11       351.602   814,885    24,701   "
      ]
     },
     "execution_count": 151,
     "metadata": {},
     "output_type": "execute_result"
    }
   ],
   "source": [
    "Pink_Cab = df[df['Company']=='Pink Cab']\n",
    "Pink_Cab.head()"
   ]
  },
  {
   "cell_type": "markdown",
   "id": "1aef99cb",
   "metadata": {},
   "source": [
    "#### Yellow Cab Company"
   ]
  },
  {
   "cell_type": "code",
   "execution_count": 152,
   "id": "1b1d41c2",
   "metadata": {
    "scrolled": true
   },
   "outputs": [
    {
     "data": {
      "text/html": [
       "<div>\n",
       "<style scoped>\n",
       "    .dataframe tbody tr th:only-of-type {\n",
       "        vertical-align: middle;\n",
       "    }\n",
       "\n",
       "    .dataframe tbody tr th {\n",
       "        vertical-align: top;\n",
       "    }\n",
       "\n",
       "    .dataframe thead th {\n",
       "        text-align: right;\n",
       "    }\n",
       "</style>\n",
       "<table border=\"1\" class=\"dataframe\">\n",
       "  <thead>\n",
       "    <tr style=\"text-align: right;\">\n",
       "      <th></th>\n",
       "      <th>Customer ID</th>\n",
       "      <th>Gender</th>\n",
       "      <th>Age</th>\n",
       "      <th>Income (USD/Month)</th>\n",
       "      <th>Transaction ID</th>\n",
       "      <th>Payment_Mode</th>\n",
       "      <th>Date of Travel</th>\n",
       "      <th>Company</th>\n",
       "      <th>City</th>\n",
       "      <th>KM Travelled</th>\n",
       "      <th>Price Charged</th>\n",
       "      <th>Cost of Trip</th>\n",
       "      <th>Population</th>\n",
       "      <th>Users</th>\n",
       "    </tr>\n",
       "  </thead>\n",
       "  <tbody>\n",
       "    <tr>\n",
       "      <th>1</th>\n",
       "      <td>29290</td>\n",
       "      <td>Male</td>\n",
       "      <td>28</td>\n",
       "      <td>10813</td>\n",
       "      <td>10351127</td>\n",
       "      <td>Cash</td>\n",
       "      <td>43302</td>\n",
       "      <td>Yellow Cab</td>\n",
       "      <td>ATLANTA GA</td>\n",
       "      <td>26.19</td>\n",
       "      <td>598.70</td>\n",
       "      <td>317.4228</td>\n",
       "      <td>814,885</td>\n",
       "      <td>24,701</td>\n",
       "    </tr>\n",
       "    <tr>\n",
       "      <th>2</th>\n",
       "      <td>29290</td>\n",
       "      <td>Male</td>\n",
       "      <td>28</td>\n",
       "      <td>10813</td>\n",
       "      <td>10412921</td>\n",
       "      <td>Card</td>\n",
       "      <td>43427</td>\n",
       "      <td>Yellow Cab</td>\n",
       "      <td>ATLANTA GA</td>\n",
       "      <td>42.55</td>\n",
       "      <td>792.05</td>\n",
       "      <td>597.4020</td>\n",
       "      <td>814,885</td>\n",
       "      <td>24,701</td>\n",
       "    </tr>\n",
       "    <tr>\n",
       "      <th>4</th>\n",
       "      <td>27703</td>\n",
       "      <td>Male</td>\n",
       "      <td>27</td>\n",
       "      <td>9237</td>\n",
       "      <td>10320494</td>\n",
       "      <td>Card</td>\n",
       "      <td>43211</td>\n",
       "      <td>Yellow Cab</td>\n",
       "      <td>ATLANTA GA</td>\n",
       "      <td>36.38</td>\n",
       "      <td>721.10</td>\n",
       "      <td>467.1192</td>\n",
       "      <td>814,885</td>\n",
       "      <td>24,701</td>\n",
       "    </tr>\n",
       "    <tr>\n",
       "      <th>5</th>\n",
       "      <td>27703</td>\n",
       "      <td>Male</td>\n",
       "      <td>27</td>\n",
       "      <td>9237</td>\n",
       "      <td>10324737</td>\n",
       "      <td>Cash</td>\n",
       "      <td>43224</td>\n",
       "      <td>Yellow Cab</td>\n",
       "      <td>ATLANTA GA</td>\n",
       "      <td>6.18</td>\n",
       "      <td>138.40</td>\n",
       "      <td>87.5088</td>\n",
       "      <td>814,885</td>\n",
       "      <td>24,701</td>\n",
       "    </tr>\n",
       "    <tr>\n",
       "      <th>8</th>\n",
       "      <td>28712</td>\n",
       "      <td>Male</td>\n",
       "      <td>53</td>\n",
       "      <td>11242</td>\n",
       "      <td>10079404</td>\n",
       "      <td>Card</td>\n",
       "      <td>42634</td>\n",
       "      <td>Yellow Cab</td>\n",
       "      <td>ATLANTA GA</td>\n",
       "      <td>39.60</td>\n",
       "      <td>704.30</td>\n",
       "      <td>494.2080</td>\n",
       "      <td>814,885</td>\n",
       "      <td>24,701</td>\n",
       "    </tr>\n",
       "  </tbody>\n",
       "</table>\n",
       "</div>"
      ],
      "text/plain": [
       "   Customer ID Gender  Age  Income (USD/Month)  Transaction ID Payment_Mode  \\\n",
       "1        29290   Male   28               10813        10351127         Cash   \n",
       "2        29290   Male   28               10813        10412921         Card   \n",
       "4        27703   Male   27                9237        10320494         Card   \n",
       "5        27703   Male   27                9237        10324737         Cash   \n",
       "8        28712   Male   53               11242        10079404         Card   \n",
       "\n",
       "   Date of Travel     Company        City  KM Travelled  Price Charged  \\\n",
       "1           43302  Yellow Cab  ATLANTA GA         26.19         598.70   \n",
       "2           43427  Yellow Cab  ATLANTA GA         42.55         792.05   \n",
       "4           43211  Yellow Cab  ATLANTA GA         36.38         721.10   \n",
       "5           43224  Yellow Cab  ATLANTA GA          6.18         138.40   \n",
       "8           42634  Yellow Cab  ATLANTA GA         39.60         704.30   \n",
       "\n",
       "   Cost of Trip Population     Users  \n",
       "1      317.4228   814,885    24,701   \n",
       "2      597.4020   814,885    24,701   \n",
       "4      467.1192   814,885    24,701   \n",
       "5       87.5088   814,885    24,701   \n",
       "8      494.2080   814,885    24,701   "
      ]
     },
     "execution_count": 152,
     "metadata": {},
     "output_type": "execute_result"
    }
   ],
   "source": [
    "Yellow_Cab = df[df['Company']=='Yellow Cab']\n",
    "Yellow_Cab.head()"
   ]
  },
  {
   "cell_type": "markdown",
   "id": "bce0cab0",
   "metadata": {},
   "source": [
    "### Analysis of the price charged by both companies in roder to see which charged less."
   ]
  },
  {
   "cell_type": "markdown",
   "id": "fa80a9eb",
   "metadata": {},
   "source": [
    "We also see the that the numbers of Users in Pink Cab Company are 84711 and for Yellow Company are the majority of Users, 274681."
   ]
  },
  {
   "cell_type": "code",
   "execution_count": 267,
   "id": "a82876e2",
   "metadata": {
    "scrolled": true
   },
   "outputs": [
    {
     "data": {
      "text/plain": [
       "84711"
      ]
     },
     "execution_count": 267,
     "metadata": {},
     "output_type": "execute_result"
    }
   ],
   "source": [
    "Pink_price = (Pink_Cab['Price Charged']/Pink_Cab['KM Travelled'])\n",
    "Pink_price.shape[0]"
   ]
  },
  {
   "cell_type": "code",
   "execution_count": 259,
   "id": "d9f074b5",
   "metadata": {},
   "outputs": [
    {
     "data": {
      "text/plain": [
       "274681"
      ]
     },
     "execution_count": 259,
     "metadata": {},
     "output_type": "execute_result"
    }
   ],
   "source": [
    "Yellow_price = (Yellow_Cab['Price Charged']/Yellow_Cab['KM Travelled'])\n",
    "Yellow_price.shape[0]"
   ]
  },
  {
   "cell_type": "markdown",
   "id": "1574bee8",
   "metadata": {},
   "source": [
    "### Distribution of the price for each company."
   ]
  },
  {
   "cell_type": "code",
   "execution_count": 265,
   "id": "037a7e42",
   "metadata": {
    "scrolled": true
   },
   "outputs": [
    {
     "data": {
      "image/png": "[encoded data removed]",
      "text/plain": [
       "<Figure size 432x288 with 1 Axes>"
      ]
     },
     "metadata": {
      "needs_background": "light"
     },
     "output_type": "display_data"
    }
   ],
   "source": [
    "plt.hist(Pink_price);"
   ]
  },
  {
   "cell_type": "code",
   "execution_count": 266,
   "id": "73dab955",
   "metadata": {
    "scrolled": false
   },
   "outputs": [
    {
     "data": {
      "image/png": "[encoded data removed]",
      "text/plain": [
       "<Figure size 432x288 with 1 Axes>"
      ]
     },
     "metadata": {
      "needs_background": "light"
     },
     "output_type": "display_data"
    }
   ],
   "source": [
    "plt.hist(Yellow_price);"
   ]
  },
  {
   "cell_type": "markdown",
   "id": "0f3a05ca",
   "metadata": {},
   "source": [
    "### One of the most important characteristic of this data is"
   ]
  },
  {
   "cell_type": "markdown",
   "id": "76da712e",
   "metadata": {},
   "source": [
    "Because of them we can see that Pink Cab company charged less than Yellow Cab company, this could be crusial for the investment in this company. "
   ]
  },
  {
   "cell_type": "code",
   "execution_count": 273,
   "id": "ceef14a0",
   "metadata": {},
   "outputs": [
    {
     "data": {
      "text/plain": [
       "13.768510007062694"
      ]
     },
     "execution_count": 273,
     "metadata": {},
     "output_type": "execute_result"
    }
   ],
   "source": [
    "Pink_price.mean()"
   ]
  },
  {
   "cell_type": "code",
   "execution_count": 274,
   "id": "01839340",
   "metadata": {},
   "outputs": [
    {
     "data": {
      "text/plain": [
       "20.3060726817884"
      ]
     },
     "execution_count": 274,
     "metadata": {},
     "output_type": "execute_result"
    }
   ],
   "source": [
    "Yellow_price.mean()"
   ]
  },
  {
   "cell_type": "markdown",
   "id": "0603139f",
   "metadata": {},
   "source": [
    "### Correlation between prices charged of Pink Cab and Yellow Cab companies."
   ]
  },
  {
   "cell_type": "code",
   "execution_count": 158,
   "id": "bf300574",
   "metadata": {
    "scrolled": false
   },
   "outputs": [
    {
     "data": {
      "text/plain": [
       "<matplotlib.collections.PathCollection at 0x7f9f800d4880>"
      ]
     },
     "execution_count": 158,
     "metadata": {},
     "output_type": "execute_result"
    },
    {
     "data": {
      "image/png": "[encoded data removed]",
      "text/plain": [
       "<Figure size 432x288 with 1 Axes>"
      ]
     },
     "metadata": {
      "needs_background": "light"
     },
     "output_type": "display_data"
    }
   ],
   "source": [
    "plt.scatter(Pink_price.head(84711), Yellow_price.head(84711))"
   ]
  },
  {
   "cell_type": "code",
   "execution_count": 268,
   "id": "145837f1",
   "metadata": {},
   "outputs": [],
   "source": [
    "#import seaborn as sn\n",
    "#sn.pairplot(Yellow_Cab, kind='scatter')\n"
   ]
  },
  {
   "cell_type": "code",
   "execution_count": 269,
   "id": "c49499ad",
   "metadata": {
    "scrolled": true
   },
   "outputs": [],
   "source": [
    "#sn.pairplot(Pink_Cab, kind='scatter')"
   ]
  },
  {
   "cell_type": "markdown",
   "id": "64daa5bb",
   "metadata": {},
   "source": [
    "### Comparing the Payment Mode between both companies."
   ]
  },
  {
   "cell_type": "code",
   "execution_count": 270,
   "id": "1e511e45",
   "metadata": {
    "scrolled": true
   },
   "outputs": [
    {
     "data": {
      "image/png": "[encoded data removed]",
      "text/plain": [
       "<Figure size 449x360 with 1 Axes>"
      ]
     },
     "metadata": {
      "needs_background": "light"
     },
     "output_type": "display_data"
    }
   ],
   "source": [
    "import seaborn as sns\n",
    "sns.catplot(x=\"Payment_Mode\", y=\"Price Charged\", hue=\"Company\", kind=\"bar\", data=df);"
   ]
  },
  {
   "cell_type": "code",
   "execution_count": 271,
   "id": "e11796be",
   "metadata": {
    "scrolled": false
   },
   "outputs": [
    {
     "data": {
      "image/png": "[encoded data removed]",
      "text/plain": [
       "<Figure size 449x360 with 1 Axes>"
      ]
     },
     "metadata": {
      "needs_background": "light"
     },
     "output_type": "display_data"
    }
   ],
   "source": [
    "import seaborn as sns\n",
    "sns.catplot(x=\"Payment_Mode\", y=\"Cost of Trip\", hue=\"Company\", kind=\"bar\", data=df);"
   ]
  },
  {
   "cell_type": "markdown",
   "id": "a3ade791",
   "metadata": {},
   "source": [
    "We see that the companies have proportionally divided the number of card and cash when charged."
   ]
  },
  {
   "cell_type": "markdown",
   "id": "0d37851e",
   "metadata": {},
   "source": [
    "But we oberve that this is not the same tendency when each company charged, they have charged around 1.5 more by Card than is for Cash."
   ]
  },
  {
   "cell_type": "code",
   "execution_count": 288,
   "id": "55239d29",
   "metadata": {},
   "outputs": [
    {
     "data": {
      "text/plain": [
       "1.4994631287762976"
      ]
     },
     "execution_count": 288,
     "metadata": {},
     "output_type": "execute_result"
    }
   ],
   "source": [
    "Yellow_Cab[Yellow_Cab['Payment_Mode']=='Card'].shape[0]/Yellow_Cab[Yellow_Cab['Payment_Mode']=='Cash'].shape[0]"
   ]
  },
  {
   "cell_type": "code",
   "execution_count": 289,
   "id": "30719689",
   "metadata": {
    "scrolled": true
   },
   "outputs": [
    {
     "data": {
      "text/plain": [
       "1.4920863732642975"
      ]
     },
     "execution_count": 289,
     "metadata": {},
     "output_type": "execute_result"
    }
   ],
   "source": [
    "Pink_Cab[Pink_Cab['Payment_Mode']=='Card'].shape[0]/Pink_Cab[Pink_Cab['Payment_Mode']=='Cash'].shape[0]"
   ]
  },
  {
   "cell_type": "markdown",
   "id": "1252057b",
   "metadata": {},
   "source": [
    "### Distribution between male and female"
   ]
  },
  {
   "cell_type": "markdown",
   "id": "bd5d9940",
   "metadata": {},
   "source": [
    "We see that both male and female have the same distribution from the point of view of the Price Charged for each company."
   ]
  },
  {
   "cell_type": "code",
   "execution_count": 290,
   "id": "5a7dd05f",
   "metadata": {},
   "outputs": [
    {
     "data": {
      "text/plain": [
       "<seaborn.axisgrid.FacetGrid at 0x7f9f74ad50d0>"
      ]
     },
     "execution_count": 290,
     "metadata": {},
     "output_type": "execute_result"
    },
    {
     "data": {
      "image/png": "[encoded data removed]",
      "text/plain": [
       "<Figure size 483.25x360 with 1 Axes>"
      ]
     },
     "metadata": {
      "needs_background": "light"
     },
     "output_type": "display_data"
    }
   ],
   "source": [
    "import seaborn as sns\n",
    "sns.catplot(x=\"Gender\", y=\"Price Charged\", hue=\"City\", kind=\"bar\", data=Pink_Cab)"
   ]
  },
  {
   "cell_type": "code",
   "execution_count": 170,
   "id": "16890899",
   "metadata": {
    "scrolled": true
   },
   "outputs": [
    {
     "data": {
      "text/plain": [
       "<seaborn.axisgrid.FacetGrid at 0x7f9f47fdd8b0>"
      ]
     },
     "execution_count": 170,
     "metadata": {},
     "output_type": "execute_result"
    },
    {
     "data": {
      "image/png": "[encoded data removed]",
      "text/plain": [
       "<Figure size 483.25x360 with 1 Axes>"
      ]
     },
     "metadata": {
      "needs_background": "light"
     },
     "output_type": "display_data"
    }
   ],
   "source": [
    "import seaborn as sns\n",
    "sns.catplot(x=\"Gender\", y=\"Price Charged\", hue=\"City\", kind=\"bar\", data=Yellow_Cab)"
   ]
  },
  {
   "cell_type": "markdown",
   "id": "27bcd7fd",
   "metadata": {},
   "source": [
    "Both male and female have same Income (USD/Month)"
   ]
  },
  {
   "cell_type": "code",
   "execution_count": 291,
   "id": "7b5e0f9b",
   "metadata": {
    "scrolled": true
   },
   "outputs": [
    {
     "data": {
      "text/plain": [
       "<seaborn.axisgrid.FacetGrid at 0x7f9f33c85d60>"
      ]
     },
     "execution_count": 291,
     "metadata": {},
     "output_type": "execute_result"
    },
    {
     "data": {
      "image/png": "[encoded data removed]",
      "text/plain": [
       "<Figure size 443.625x360 with 1 Axes>"
      ]
     },
     "metadata": {
      "needs_background": "light"
     },
     "output_type": "display_data"
    }
   ],
   "source": [
    "sns.catplot(x=\"Gender\", y=\"Income (USD/Month)\", hue=\"Payment_Mode\", kind=\"bar\", data=df)"
   ]
  },
  {
   "cell_type": "markdown",
   "id": "3d251bb5",
   "metadata": {},
   "source": [
    "The number of male and female in the dataset"
   ]
  },
  {
   "cell_type": "code",
   "execution_count": 292,
   "id": "e6eb0fc4",
   "metadata": {},
   "outputs": [
    {
     "data": {
      "text/plain": [
       "205912"
      ]
     },
     "execution_count": 292,
     "metadata": {},
     "output_type": "execute_result"
    }
   ],
   "source": [
    "male =  df['Gender']=='Male'\n",
    "sum(male)"
   ]
  },
  {
   "cell_type": "code",
   "execution_count": 293,
   "id": "a158af4a",
   "metadata": {},
   "outputs": [
    {
     "data": {
      "text/plain": [
       "153480"
      ]
     },
     "execution_count": 293,
     "metadata": {},
     "output_type": "execute_result"
    }
   ],
   "source": [
    "female =  df['Gender']=='Female'\n",
    "sum(female)"
   ]
  },
  {
   "cell_type": "markdown",
   "id": "6684ebf5",
   "metadata": {},
   "source": [
    "## Making some numbers"
   ]
  },
  {
   "cell_type": "markdown",
   "id": "dec4e1ef",
   "metadata": {},
   "source": [
    "#### The 59.9%  paid with card"
   ]
  },
  {
   "cell_type": "code",
   "execution_count": 176,
   "id": "ff1cf0fa",
   "metadata": {},
   "outputs": [
    {
     "data": {
      "text/plain": [
       "0.5996349390081026"
      ]
     },
     "execution_count": 176,
     "metadata": {},
     "output_type": "execute_result"
    }
   ],
   "source": [
    "sum(card)/new_df.shape[0]"
   ]
  },
  {
   "cell_type": "markdown",
   "id": "5da945cf",
   "metadata": {},
   "source": [
    "#### The 40.03% paid with cash"
   ]
  },
  {
   "cell_type": "code",
   "execution_count": 177,
   "id": "c5a7a998",
   "metadata": {},
   "outputs": [
    {
     "data": {
      "text/plain": [
       "0.40036506099189745"
      ]
     },
     "execution_count": 177,
     "metadata": {},
     "output_type": "execute_result"
    }
   ],
   "source": [
    "sum(cash)/new_df.shape[0]"
   ]
  },
  {
   "cell_type": "markdown",
   "id": "fdd68fc7",
   "metadata": {},
   "source": [
    "#### 57.3% are male"
   ]
  },
  {
   "cell_type": "code",
   "execution_count": 178,
   "id": "6836ed11",
   "metadata": {},
   "outputs": [
    {
     "data": {
      "text/plain": [
       "0.572945418929748"
      ]
     },
     "execution_count": 178,
     "metadata": {},
     "output_type": "execute_result"
    }
   ],
   "source": [
    "sum(male)/new_df.shape[0]"
   ]
  },
  {
   "cell_type": "markdown",
   "id": "a3e7cba1",
   "metadata": {},
   "source": [
    "#### 42.7% are female"
   ]
  },
  {
   "cell_type": "code",
   "execution_count": 179,
   "id": "c1838836",
   "metadata": {
    "scrolled": true
   },
   "outputs": [
    {
     "data": {
      "text/plain": [
       "0.42705458107025196"
      ]
     },
     "execution_count": 179,
     "metadata": {},
     "output_type": "execute_result"
    }
   ],
   "source": [
    "sum(female)/new_df.shape[0]"
   ]
  },
  {
   "cell_type": "markdown",
   "id": "57809104",
   "metadata": {},
   "source": [
    "### The mean Price Charged for each company and for city"
   ]
  },
  {
   "cell_type": "code",
   "execution_count": 305,
   "id": "3f5af369",
   "metadata": {
    "scrolled": true
   },
   "outputs": [
    {
     "data": {
      "text/plain": [
       "City            Company   \n",
       "ATLANTA GA      Pink Cab      302.131555\n",
       "                Yellow Cab    422.413446\n",
       "AUSTIN TX       Pink Cab      320.435070\n",
       "                Yellow Cab    422.248940\n",
       "BOSTON MA       Pink Cab      300.551489\n",
       "                Yellow Cab    359.140431\n",
       "CHICAGO IL      Pink Cab      281.613731\n",
       "                Yellow Cab    364.021927\n",
       "DALLAS TX       Pink Cab      260.025652\n",
       "                Yellow Cab    493.807790\n",
       "DENVER CO       Pink Cab      276.202453\n",
       "                Yellow Cab    443.235413\n",
       "LOS ANGELES CA  Pink Cab      305.624252\n",
       "                Yellow Cab    416.231136\n",
       "MIAMI FL        Pink Cab      326.006309\n",
       "                Yellow Cab    432.944872\n",
       "NASHVILLE TN    Pink Cab      282.062493\n",
       "                Yellow Cab    376.245577\n",
       "NEW YORK NY     Pink Cab      357.074129\n",
       "                Yellow Cab    604.841911\n",
       "ORANGE COUNTY   Pink Cab      312.026874\n",
       "                Yellow Cab    438.548623\n",
       "PHOENIX AZ      Pink Cab      280.321458\n",
       "                Yellow Cab    428.737417\n",
       "PITTSBURGH PA   Pink Cab      273.879355\n",
       "                Yellow Cab    405.313661\n",
       "SACRAMENTO CA   Pink Cab      290.110810\n",
       "                Yellow Cab    362.637106\n",
       "SAN DIEGO CA    Pink Cab      307.938193\n",
       "                Yellow Cab    392.223328\n",
       "SEATTLE WA      Pink Cab      291.223898\n",
       "                Yellow Cab    391.014733\n",
       "SILICON VALLEY  Pink Cab      340.377008\n",
       "                Yellow Cab    506.499502\n",
       "TUCSON AZ       Pink Cab      323.213554\n",
       "                Yellow Cab    366.018224\n",
       "WASHINGTON DC   Pink Cab      299.974561\n",
       "                Yellow Cab    381.051261\n",
       "Name: Price Charged, dtype: float64"
      ]
     },
     "execution_count": 305,
     "metadata": {},
     "output_type": "execute_result"
    }
   ],
   "source": [
    "df.groupby([\"City\", \"Company\"])[\"Price Charged\"].mean()"
   ]
  },
  {
   "cell_type": "markdown",
   "id": "81e8d0ff",
   "metadata": {},
   "source": [
    "### Lookin the Correlation between KM Travelled and Price Charge for each company."
   ]
  },
  {
   "cell_type": "markdown",
   "id": "6ea83425",
   "metadata": {},
   "source": [
    "Eventually this will make us to decide which of the companies are best for the XYZ firm to invest."
   ]
  },
  {
   "cell_type": "markdown",
   "id": "d2b0c327",
   "metadata": {},
   "source": [
    "#### Pink Cab Company"
   ]
  },
  {
   "cell_type": "code",
   "execution_count": 63,
   "id": "3cfad7d7",
   "metadata": {
    "scrolled": false
   },
   "outputs": [
    {
     "data": {
      "image/png": "[encoded data removed]",
      "text/plain": [
       "<Figure size 432x288 with 1 Axes>"
      ]
     },
     "metadata": {
      "needs_background": "light"
     },
     "output_type": "display_data"
    }
   ],
   "source": [
    "plt.scatter(Pink_Cab['KM Travelled'], Pink_Cab['Price Charged']);"
   ]
  },
  {
   "cell_type": "code",
   "execution_count": 69,
   "id": "c0442011",
   "metadata": {
    "scrolled": true
   },
   "outputs": [
    {
     "data": {
      "image/png": "[encoded data removed]",
      "text/plain": [
       "<Figure size 432x288 with 1 Axes>"
      ]
     },
     "metadata": {
      "needs_background": "light"
     },
     "output_type": "display_data"
    }
   ],
   "source": [
    "plt.scatter(Pink_Cab['Cost of Trip'], Pink_Cab['Price Charged']);"
   ]
  },
  {
   "cell_type": "markdown",
   "id": "330d5f22",
   "metadata": {},
   "source": [
    "#### Yellow Cab Company"
   ]
  },
  {
   "cell_type": "code",
   "execution_count": 64,
   "id": "ea11f0c8",
   "metadata": {
    "scrolled": true
   },
   "outputs": [
    {
     "data": {
      "image/png": "[encoded data removed]",
      "text/plain": [
       "<Figure size 432x288 with 1 Axes>"
      ]
     },
     "metadata": {
      "needs_background": "light"
     },
     "output_type": "display_data"
    }
   ],
   "source": [
    "plt.scatter(Yellow_Cab['KM Travelled'], Yellow_Cab['Price Charged']);"
   ]
  },
  {
   "cell_type": "code",
   "execution_count": 70,
   "id": "047516d5",
   "metadata": {
    "scrolled": false
   },
   "outputs": [
    {
     "data": {
      "image/png": "[encoded data removed]",
      "text/plain": [
       "<Figure size 432x288 with 1 Axes>"
      ]
     },
     "metadata": {
      "needs_background": "light"
     },
     "output_type": "display_data"
    }
   ],
   "source": [
    "plt.scatter(Yellow_Cab['Cost of Trip'], Yellow_Cab['Price Charged']);"
   ]
  },
  {
   "cell_type": "markdown",
   "id": "eb660c71",
   "metadata": {},
   "source": [
    "### Analysing each relation with the p_value and correlation coeffcient"
   ]
  },
  {
   "cell_type": "code",
   "execution_count": 74,
   "id": "a83ab46a",
   "metadata": {},
   "outputs": [],
   "source": [
    "import numpy as np\n",
    "import pandas as pd\n",
    "\n",
    "from numpy import mean\n",
    "from numpy import std\n",
    "from numpy.random import randn\n",
    "from numpy.random import seed\n",
    "from matplotlib import pyplot"
   ]
  },
  {
   "cell_type": "markdown",
   "id": "7ee68ccc",
   "metadata": {},
   "source": [
    "#### Asumming the distribution is normalized we use Pearson"
   ]
  },
  {
   "cell_type": "code",
   "execution_count": 82,
   "id": "3a6326d2",
   "metadata": {
    "scrolled": false
   },
   "outputs": [
    {
     "data": {
      "text/html": [
       "<div>\n",
       "<style scoped>\n",
       "    .dataframe tbody tr th:only-of-type {\n",
       "        vertical-align: middle;\n",
       "    }\n",
       "\n",
       "    .dataframe tbody tr th {\n",
       "        vertical-align: top;\n",
       "    }\n",
       "\n",
       "    .dataframe thead th {\n",
       "        text-align: right;\n",
       "    }\n",
       "</style>\n",
       "<table border=\"1\" class=\"dataframe\">\n",
       "  <thead>\n",
       "    <tr style=\"text-align: right;\">\n",
       "      <th></th>\n",
       "      <th>KM Travelled</th>\n",
       "      <th>Price Charged</th>\n",
       "      <th>Cost of Trip</th>\n",
       "    </tr>\n",
       "  </thead>\n",
       "  <tbody>\n",
       "    <tr>\n",
       "      <th>KM Travelled</th>\n",
       "      <td>1.000000</td>\n",
       "      <td>0.927765</td>\n",
       "      <td>0.993367</td>\n",
       "    </tr>\n",
       "    <tr>\n",
       "      <th>Price Charged</th>\n",
       "      <td>0.927765</td>\n",
       "      <td>1.000000</td>\n",
       "      <td>0.921896</td>\n",
       "    </tr>\n",
       "    <tr>\n",
       "      <th>Cost of Trip</th>\n",
       "      <td>0.993367</td>\n",
       "      <td>0.921896</td>\n",
       "      <td>1.000000</td>\n",
       "    </tr>\n",
       "  </tbody>\n",
       "</table>\n",
       "</div>"
      ],
      "text/plain": [
       "               KM Travelled  Price Charged  Cost of Trip\n",
       "KM Travelled       1.000000       0.927765      0.993367\n",
       "Price Charged      0.927765       1.000000      0.921896\n",
       "Cost of Trip       0.993367       0.921896      1.000000"
      ]
     },
     "execution_count": 82,
     "metadata": {},
     "output_type": "execute_result"
    }
   ],
   "source": [
    "Pink_Cab[[\"KM Travelled\", \"Price Charged\", \"Cost of Trip\"]].corr(method='pearson')"
   ]
  },
  {
   "cell_type": "code",
   "execution_count": 191,
   "id": "5eb2bdf2",
   "metadata": {
    "scrolled": true
   },
   "outputs": [
    {
     "data": {
      "text/html": [
       "<div>\n",
       "<style scoped>\n",
       "    .dataframe tbody tr th:only-of-type {\n",
       "        vertical-align: middle;\n",
       "    }\n",
       "\n",
       "    .dataframe tbody tr th {\n",
       "        vertical-align: top;\n",
       "    }\n",
       "\n",
       "    .dataframe thead th {\n",
       "        text-align: right;\n",
       "    }\n",
       "</style>\n",
       "<table border=\"1\" class=\"dataframe\">\n",
       "  <thead>\n",
       "    <tr style=\"text-align: right;\">\n",
       "      <th></th>\n",
       "      <th>KM Travelled</th>\n",
       "      <th>Price Charged</th>\n",
       "      <th>Cost of Trip</th>\n",
       "    </tr>\n",
       "  </thead>\n",
       "  <tbody>\n",
       "    <tr>\n",
       "      <th>KM Travelled</th>\n",
       "      <td>1.000000</td>\n",
       "      <td>0.859709</td>\n",
       "      <td>0.993390</td>\n",
       "    </tr>\n",
       "    <tr>\n",
       "      <th>Price Charged</th>\n",
       "      <td>0.859709</td>\n",
       "      <td>1.000000</td>\n",
       "      <td>0.853996</td>\n",
       "    </tr>\n",
       "    <tr>\n",
       "      <th>Cost of Trip</th>\n",
       "      <td>0.993390</td>\n",
       "      <td>0.853996</td>\n",
       "      <td>1.000000</td>\n",
       "    </tr>\n",
       "  </tbody>\n",
       "</table>\n",
       "</div>"
      ],
      "text/plain": [
       "               KM Travelled  Price Charged  Cost of Trip\n",
       "KM Travelled       1.000000       0.859709      0.993390\n",
       "Price Charged      0.859709       1.000000      0.853996\n",
       "Cost of Trip       0.993390       0.853996      1.000000"
      ]
     },
     "execution_count": 191,
     "metadata": {},
     "output_type": "execute_result"
    }
   ],
   "source": [
    "Yellow_Cab[[\"KM Travelled\", \"Price Charged\", \"Cost of Trip\"]].corr(method='pearson')"
   ]
  },
  {
   "cell_type": "markdown",
   "id": "e0ba176f",
   "metadata": {},
   "source": [
    "### When it is not assumed that data has normal distribution."
   ]
  },
  {
   "cell_type": "markdown",
   "id": "879d1781",
   "metadata": {},
   "source": [
    "We can use both Spearman or Kendall."
   ]
  },
  {
   "cell_type": "markdown",
   "id": "8ab05835",
   "metadata": {},
   "source": [
    "#### Spearman correlation"
   ]
  },
  {
   "cell_type": "code",
   "execution_count": 84,
   "id": "8eabea76",
   "metadata": {
    "scrolled": true
   },
   "outputs": [
    {
     "data": {
      "text/html": [
       "<div>\n",
       "<style scoped>\n",
       "    .dataframe tbody tr th:only-of-type {\n",
       "        vertical-align: middle;\n",
       "    }\n",
       "\n",
       "    .dataframe tbody tr th {\n",
       "        vertical-align: top;\n",
       "    }\n",
       "\n",
       "    .dataframe thead th {\n",
       "        text-align: right;\n",
       "    }\n",
       "</style>\n",
       "<table border=\"1\" class=\"dataframe\">\n",
       "  <thead>\n",
       "    <tr style=\"text-align: right;\">\n",
       "      <th></th>\n",
       "      <th>KM Travelled</th>\n",
       "      <th>Price Charged</th>\n",
       "      <th>Cost of Trip</th>\n",
       "    </tr>\n",
       "  </thead>\n",
       "  <tbody>\n",
       "    <tr>\n",
       "      <th>KM Travelled</th>\n",
       "      <td>1.000000</td>\n",
       "      <td>0.951529</td>\n",
       "      <td>0.994437</td>\n",
       "    </tr>\n",
       "    <tr>\n",
       "      <th>Price Charged</th>\n",
       "      <td>0.951529</td>\n",
       "      <td>1.000000</td>\n",
       "      <td>0.947065</td>\n",
       "    </tr>\n",
       "    <tr>\n",
       "      <th>Cost of Trip</th>\n",
       "      <td>0.994437</td>\n",
       "      <td>0.947065</td>\n",
       "      <td>1.000000</td>\n",
       "    </tr>\n",
       "  </tbody>\n",
       "</table>\n",
       "</div>"
      ],
      "text/plain": [
       "               KM Travelled  Price Charged  Cost of Trip\n",
       "KM Travelled       1.000000       0.951529      0.994437\n",
       "Price Charged      0.951529       1.000000      0.947065\n",
       "Cost of Trip       0.994437       0.947065      1.000000"
      ]
     },
     "execution_count": 84,
     "metadata": {},
     "output_type": "execute_result"
    }
   ],
   "source": [
    "Pink_Cab[[\"KM Travelled\", \"Price Charged\", \"Cost of Trip\"]].corr(method='spearman')"
   ]
  },
  {
   "cell_type": "code",
   "execution_count": 83,
   "id": "58c65f16",
   "metadata": {},
   "outputs": [
    {
     "data": {
      "text/html": [
       "<div>\n",
       "<style scoped>\n",
       "    .dataframe tbody tr th:only-of-type {\n",
       "        vertical-align: middle;\n",
       "    }\n",
       "\n",
       "    .dataframe tbody tr th {\n",
       "        vertical-align: top;\n",
       "    }\n",
       "\n",
       "    .dataframe thead th {\n",
       "        text-align: right;\n",
       "    }\n",
       "</style>\n",
       "<table border=\"1\" class=\"dataframe\">\n",
       "  <thead>\n",
       "    <tr style=\"text-align: right;\">\n",
       "      <th></th>\n",
       "      <th>KM Travelled</th>\n",
       "      <th>Price Charged</th>\n",
       "      <th>Cost of Trip</th>\n",
       "    </tr>\n",
       "  </thead>\n",
       "  <tbody>\n",
       "    <tr>\n",
       "      <th>KM Travelled</th>\n",
       "      <td>1.000000</td>\n",
       "      <td>0.906669</td>\n",
       "      <td>0.994470</td>\n",
       "    </tr>\n",
       "    <tr>\n",
       "      <th>Price Charged</th>\n",
       "      <td>0.906669</td>\n",
       "      <td>1.000000</td>\n",
       "      <td>0.902565</td>\n",
       "    </tr>\n",
       "    <tr>\n",
       "      <th>Cost of Trip</th>\n",
       "      <td>0.994470</td>\n",
       "      <td>0.902565</td>\n",
       "      <td>1.000000</td>\n",
       "    </tr>\n",
       "  </tbody>\n",
       "</table>\n",
       "</div>"
      ],
      "text/plain": [
       "               KM Travelled  Price Charged  Cost of Trip\n",
       "KM Travelled       1.000000       0.906669      0.994470\n",
       "Price Charged      0.906669       1.000000      0.902565\n",
       "Cost of Trip       0.994470       0.902565      1.000000"
      ]
     },
     "execution_count": 83,
     "metadata": {},
     "output_type": "execute_result"
    }
   ],
   "source": [
    "Yellow_Cab[[\"KM Travelled\", \"Price Charged\", \"Cost of Trip\"]].corr(method='spearman')"
   ]
  },
  {
   "cell_type": "markdown",
   "id": "acd62f27",
   "metadata": {},
   "source": [
    "#### Kendall correlation"
   ]
  },
  {
   "cell_type": "code",
   "execution_count": 86,
   "id": "d1b2f8fa",
   "metadata": {},
   "outputs": [
    {
     "data": {
      "text/html": [
       "<div>\n",
       "<style scoped>\n",
       "    .dataframe tbody tr th:only-of-type {\n",
       "        vertical-align: middle;\n",
       "    }\n",
       "\n",
       "    .dataframe tbody tr th {\n",
       "        vertical-align: top;\n",
       "    }\n",
       "\n",
       "    .dataframe thead th {\n",
       "        text-align: right;\n",
       "    }\n",
       "</style>\n",
       "<table border=\"1\" class=\"dataframe\">\n",
       "  <thead>\n",
       "    <tr style=\"text-align: right;\">\n",
       "      <th></th>\n",
       "      <th>KM Travelled</th>\n",
       "      <th>Price Charged</th>\n",
       "      <th>Cost of Trip</th>\n",
       "    </tr>\n",
       "  </thead>\n",
       "  <tbody>\n",
       "    <tr>\n",
       "      <th>KM Travelled</th>\n",
       "      <td>1.000000</td>\n",
       "      <td>0.815367</td>\n",
       "      <td>0.937841</td>\n",
       "    </tr>\n",
       "    <tr>\n",
       "      <th>Price Charged</th>\n",
       "      <td>0.815367</td>\n",
       "      <td>1.000000</td>\n",
       "      <td>0.806019</td>\n",
       "    </tr>\n",
       "    <tr>\n",
       "      <th>Cost of Trip</th>\n",
       "      <td>0.937841</td>\n",
       "      <td>0.806019</td>\n",
       "      <td>1.000000</td>\n",
       "    </tr>\n",
       "  </tbody>\n",
       "</table>\n",
       "</div>"
      ],
      "text/plain": [
       "               KM Travelled  Price Charged  Cost of Trip\n",
       "KM Travelled       1.000000       0.815367      0.937841\n",
       "Price Charged      0.815367       1.000000      0.806019\n",
       "Cost of Trip       0.937841       0.806019      1.000000"
      ]
     },
     "execution_count": 86,
     "metadata": {},
     "output_type": "execute_result"
    }
   ],
   "source": [
    "Pink_Cab[[\"KM Travelled\", \"Price Charged\", \"Cost of Trip\"]].corr(method='kendall')"
   ]
  },
  {
   "cell_type": "code",
   "execution_count": 85,
   "id": "2067a2a8",
   "metadata": {},
   "outputs": [
    {
     "data": {
      "text/html": [
       "<div>\n",
       "<style scoped>\n",
       "    .dataframe tbody tr th:only-of-type {\n",
       "        vertical-align: middle;\n",
       "    }\n",
       "\n",
       "    .dataframe tbody tr th {\n",
       "        vertical-align: top;\n",
       "    }\n",
       "\n",
       "    .dataframe thead th {\n",
       "        text-align: right;\n",
       "    }\n",
       "</style>\n",
       "<table border=\"1\" class=\"dataframe\">\n",
       "  <thead>\n",
       "    <tr style=\"text-align: right;\">\n",
       "      <th></th>\n",
       "      <th>KM Travelled</th>\n",
       "      <th>Price Charged</th>\n",
       "      <th>Cost of Trip</th>\n",
       "    </tr>\n",
       "  </thead>\n",
       "  <tbody>\n",
       "    <tr>\n",
       "      <th>KM Travelled</th>\n",
       "      <td>1.000000</td>\n",
       "      <td>0.738348</td>\n",
       "      <td>0.938016</td>\n",
       "    </tr>\n",
       "    <tr>\n",
       "      <th>Price Charged</th>\n",
       "      <td>0.738348</td>\n",
       "      <td>1.000000</td>\n",
       "      <td>0.731783</td>\n",
       "    </tr>\n",
       "    <tr>\n",
       "      <th>Cost of Trip</th>\n",
       "      <td>0.938016</td>\n",
       "      <td>0.731783</td>\n",
       "      <td>1.000000</td>\n",
       "    </tr>\n",
       "  </tbody>\n",
       "</table>\n",
       "</div>"
      ],
      "text/plain": [
       "               KM Travelled  Price Charged  Cost of Trip\n",
       "KM Travelled       1.000000       0.738348      0.938016\n",
       "Price Charged      0.738348       1.000000      0.731783\n",
       "Cost of Trip       0.938016       0.731783      1.000000"
      ]
     },
     "execution_count": 85,
     "metadata": {},
     "output_type": "execute_result"
    }
   ],
   "source": [
    "Yellow_Cab[[\"KM Travelled\", \"Price Charged\", \"Cost of Trip\"]].corr(method='kendall')"
   ]
  },
  {
   "cell_type": "code",
   "execution_count": 106,
   "id": "e6a611d1",
   "metadata": {},
   "outputs": [
    {
     "data": {
      "image/png": "[encoded data removed]",
      "text/plain": [
       "<Figure size 1008x576 with 9 Axes>"
      ]
     },
     "metadata": {
      "needs_background": "light"
     },
     "output_type": "display_data"
    }
   ],
   "source": [
    "from pandas.plotting import scatter_matrix\n",
    "\n",
    "scatter_matrix(Yellow_Cab[[\"KM Travelled\", \"Cost of Trip\", \"Price Charged\"]], figsize = (14,8))\n",
    "pyplot.show()"
   ]
  },
  {
   "cell_type": "code",
   "execution_count": 107,
   "id": "0c5b6863",
   "metadata": {},
   "outputs": [
    {
     "data": {
      "image/png": "[encoded data removed]",
      "text/plain": [
       "<Figure size 1008x576 with 9 Axes>"
      ]
     },
     "metadata": {
      "needs_background": "light"
     },
     "output_type": "display_data"
    }
   ],
   "source": [
    "scatter_matrix(Pink_Cab[[\"KM Travelled\", \"Cost of Trip\", \"Price Charged\"]], figsize = (14,8))\n",
    "pyplot.show()"
   ]
  },
  {
   "cell_type": "markdown",
   "id": "579a97a8",
   "metadata": {},
   "source": [
    "### Does margin proportionally increase with increase in number of customers?"
   ]
  },
  {
   "cell_type": "markdown",
   "id": "80848aca",
   "metadata": {},
   "source": [
    "###  What are the attributes of these customer segments?\n",
    "\n"
   ]
  },
  {
   "cell_type": "markdown",
   "id": "44bffbc9",
   "metadata": {},
   "source": [
    "### Is there any seasonality in number of customers using the cab service?”"
   ]
  },
  {
   "cell_type": "markdown",
   "id": "cc602279",
   "metadata": {},
   "source": [
    "No"
   ]
  },
  {
   "cell_type": "markdown",
   "id": "0a12aa15",
   "metadata": {},
   "source": [
    "### Which company has maximum cab users at a particular time period?"
   ]
  },
  {
   "cell_type": "code",
   "execution_count": 205,
   "id": "8df8c110",
   "metadata": {
    "scrolled": true
   },
   "outputs": [
    {
     "data": {
      "text/html": [
       "<div>\n",
       "<style scoped>\n",
       "    .dataframe tbody tr th:only-of-type {\n",
       "        vertical-align: middle;\n",
       "    }\n",
       "\n",
       "    .dataframe tbody tr th {\n",
       "        vertical-align: top;\n",
       "    }\n",
       "\n",
       "    .dataframe thead th {\n",
       "        text-align: right;\n",
       "    }\n",
       "</style>\n",
       "<table border=\"1\" class=\"dataframe\">\n",
       "  <thead>\n",
       "    <tr style=\"text-align: right;\">\n",
       "      <th></th>\n",
       "      <th>Customer ID</th>\n",
       "      <th>Gender</th>\n",
       "      <th>Age</th>\n",
       "      <th>Income (USD/Month)</th>\n",
       "      <th>Transaction ID</th>\n",
       "      <th>Payment_Mode</th>\n",
       "      <th>Date of Travel</th>\n",
       "      <th>Company</th>\n",
       "      <th>City</th>\n",
       "      <th>KM Travelled</th>\n",
       "      <th>Price Charged</th>\n",
       "      <th>Cost of Trip</th>\n",
       "      <th>Population</th>\n",
       "      <th>Users</th>\n",
       "    </tr>\n",
       "  </thead>\n",
       "  <tbody>\n",
       "    <tr>\n",
       "      <th>1</th>\n",
       "      <td>29290</td>\n",
       "      <td>Male</td>\n",
       "      <td>28</td>\n",
       "      <td>10813</td>\n",
       "      <td>10351127</td>\n",
       "      <td>Cash</td>\n",
       "      <td>43302</td>\n",
       "      <td>Yellow Cab</td>\n",
       "      <td>ATLANTA GA</td>\n",
       "      <td>26.19</td>\n",
       "      <td>598.70</td>\n",
       "      <td>317.4228</td>\n",
       "      <td>814,885</td>\n",
       "      <td>24,701</td>\n",
       "    </tr>\n",
       "    <tr>\n",
       "      <th>2</th>\n",
       "      <td>29290</td>\n",
       "      <td>Male</td>\n",
       "      <td>28</td>\n",
       "      <td>10813</td>\n",
       "      <td>10412921</td>\n",
       "      <td>Card</td>\n",
       "      <td>43427</td>\n",
       "      <td>Yellow Cab</td>\n",
       "      <td>ATLANTA GA</td>\n",
       "      <td>42.55</td>\n",
       "      <td>792.05</td>\n",
       "      <td>597.4020</td>\n",
       "      <td>814,885</td>\n",
       "      <td>24,701</td>\n",
       "    </tr>\n",
       "    <tr>\n",
       "      <th>4</th>\n",
       "      <td>27703</td>\n",
       "      <td>Male</td>\n",
       "      <td>27</td>\n",
       "      <td>9237</td>\n",
       "      <td>10320494</td>\n",
       "      <td>Card</td>\n",
       "      <td>43211</td>\n",
       "      <td>Yellow Cab</td>\n",
       "      <td>ATLANTA GA</td>\n",
       "      <td>36.38</td>\n",
       "      <td>721.10</td>\n",
       "      <td>467.1192</td>\n",
       "      <td>814,885</td>\n",
       "      <td>24,701</td>\n",
       "    </tr>\n",
       "    <tr>\n",
       "      <th>5</th>\n",
       "      <td>27703</td>\n",
       "      <td>Male</td>\n",
       "      <td>27</td>\n",
       "      <td>9237</td>\n",
       "      <td>10324737</td>\n",
       "      <td>Cash</td>\n",
       "      <td>43224</td>\n",
       "      <td>Yellow Cab</td>\n",
       "      <td>ATLANTA GA</td>\n",
       "      <td>6.18</td>\n",
       "      <td>138.40</td>\n",
       "      <td>87.5088</td>\n",
       "      <td>814,885</td>\n",
       "      <td>24,701</td>\n",
       "    </tr>\n",
       "    <tr>\n",
       "      <th>8</th>\n",
       "      <td>28712</td>\n",
       "      <td>Male</td>\n",
       "      <td>53</td>\n",
       "      <td>11242</td>\n",
       "      <td>10079404</td>\n",
       "      <td>Card</td>\n",
       "      <td>42634</td>\n",
       "      <td>Yellow Cab</td>\n",
       "      <td>ATLANTA GA</td>\n",
       "      <td>39.60</td>\n",
       "      <td>704.30</td>\n",
       "      <td>494.2080</td>\n",
       "      <td>814,885</td>\n",
       "      <td>24,701</td>\n",
       "    </tr>\n",
       "  </tbody>\n",
       "</table>\n",
       "</div>"
      ],
      "text/plain": [
       "   Customer ID Gender  Age  Income (USD/Month)  Transaction ID Payment_Mode  \\\n",
       "1        29290   Male   28               10813        10351127         Cash   \n",
       "2        29290   Male   28               10813        10412921         Card   \n",
       "4        27703   Male   27                9237        10320494         Card   \n",
       "5        27703   Male   27                9237        10324737         Cash   \n",
       "8        28712   Male   53               11242        10079404         Card   \n",
       "\n",
       "   Date of Travel     Company        City  KM Travelled  Price Charged  \\\n",
       "1           43302  Yellow Cab  ATLANTA GA         26.19         598.70   \n",
       "2           43427  Yellow Cab  ATLANTA GA         42.55         792.05   \n",
       "4           43211  Yellow Cab  ATLANTA GA         36.38         721.10   \n",
       "5           43224  Yellow Cab  ATLANTA GA          6.18         138.40   \n",
       "8           42634  Yellow Cab  ATLANTA GA         39.60         704.30   \n",
       "\n",
       "   Cost of Trip Population     Users  \n",
       "1      317.4228   814,885    24,701   \n",
       "2      597.4020   814,885    24,701   \n",
       "4      467.1192   814,885    24,701   \n",
       "5       87.5088   814,885    24,701   \n",
       "8      494.2080   814,885    24,701   "
      ]
     },
     "execution_count": 205,
     "metadata": {},
     "output_type": "execute_result"
    }
   ],
   "source": [
    "Yellow_Cab.head()"
   ]
  },
  {
   "cell_type": "code",
   "execution_count": 222,
   "id": "8960c1bf",
   "metadata": {
    "scrolled": true
   },
   "outputs": [
    {
     "data": {
      "image/png": "[encoded data removed]",
      "text/plain": [
       "<Figure size 432x288 with 1 Axes>"
      ]
     },
     "metadata": {
      "needs_background": "light"
     },
     "output_type": "display_data"
    }
   ],
   "source": [
    "plt.hist(Pink_Cab[\"Date of Travel\"].head(1200));"
   ]
  },
  {
   "cell_type": "code",
   "execution_count": 223,
   "id": "1891d5ca",
   "metadata": {},
   "outputs": [
    {
     "data": {
      "image/png": "[encoded data removed]",
      "text/plain": [
       "<Figure size 432x288 with 1 Axes>"
      ]
     },
     "metadata": {
      "needs_background": "light"
     },
     "output_type": "display_data"
    }
   ],
   "source": [
    "plt.hist(Yellow_Cab[\"Date of Travel\"].head(1200));"
   ]
  },
  {
   "cell_type": "code",
   "execution_count": 217,
   "id": "c452dfbc",
   "metadata": {
    "scrolled": true
   },
   "outputs": [
    {
     "data": {
      "image/png": "[encoded data removed]",
      "text/plain": [
       "<Figure size 432x288 with 1 Axes>"
      ]
     },
     "metadata": {
      "needs_background": "light"
     },
     "output_type": "display_data"
    }
   ],
   "source": [
    "plt.hist(Pink_Cab[\"Users\"]);"
   ]
  },
  {
   "cell_type": "code",
   "execution_count": 218,
   "id": "7b455e0b",
   "metadata": {},
   "outputs": [
    {
     "data": {
      "image/png": "[encoded data removed]",
      "text/plain": [
       "<Figure size 432x288 with 1 Axes>"
      ]
     },
     "metadata": {
      "needs_background": "light"
     },
     "output_type": "display_data"
    }
   ],
   "source": [
    "plt.hist(Pink_Cab[\"Population\"]);"
   ]
  },
  {
   "cell_type": "code",
   "execution_count": 238,
   "id": "37baf71d",
   "metadata": {
    "scrolled": true
   },
   "outputs": [
    {
     "data": {
      "text/plain": [
       "274681"
      ]
     },
     "execution_count": 238,
     "metadata": {},
     "output_type": "execute_result"
    }
   ],
   "source": [
    "Yellow_Cab.shape[0]"
   ]
  },
  {
   "cell_type": "code",
   "execution_count": 244,
   "id": "5ab76db1",
   "metadata": {},
   "outputs": [
    {
     "data": {
      "text/plain": [
       "84711"
      ]
     },
     "execution_count": 244,
     "metadata": {},
     "output_type": "execute_result"
    }
   ],
   "source": [
    "Pink_Cab.shape[0]"
   ]
  },
  {
   "cell_type": "code",
   "execution_count": 245,
   "id": "89ef8a6c",
   "metadata": {},
   "outputs": [
    {
     "data": {
      "text/plain": [
       "359392"
      ]
     },
     "execution_count": 245,
     "metadata": {},
     "output_type": "execute_result"
    }
   ],
   "source": [
    "df.shape[0]"
   ]
  },
  {
   "cell_type": "markdown",
   "id": "2e8345c8",
   "metadata": {},
   "source": [
    "### What is the business problem?"
   ]
  },
  {
   "cell_type": "markdown",
   "id": "3ca03374",
   "metadata": {},
   "source": [
    "We are trying to find out from the datasets (Cabs), which fo the two Companies is better to do an investment, so the XYZ firm in US, use that information to make a choice."
   ]
  },
  {
   "cell_type": "markdown",
   "id": "3ae518c6",
   "metadata": {},
   "source": [
    "###  What are the properties of the data provided (data intake report)"
   ]
  },
  {
   "cell_type": "markdown",
   "id": "be9a5489",
   "metadata": {},
   "source": [
    "The datasets provided are different parts of one main dataset, so the obvious thing to do is to merge them together.\n",
    "Performing a scatter plot we can see that the only variables that matter for the analysis are KM Travelled, Cost of Trip, Price Charged."
   ]
  },
  {
   "cell_type": "markdown",
   "id": "54f2158c",
   "metadata": {},
   "source": [
    "The Yellow Cab Company has around 76% of the total users."
   ]
  },
  {
   "cell_type": "code",
   "execution_count": 246,
   "id": "a4094ee7",
   "metadata": {
    "scrolled": false
   },
   "outputs": [
    {
     "data": {
      "text/plain": [
       "0.764293584720862"
      ]
     },
     "execution_count": 246,
     "metadata": {},
     "output_type": "execute_result"
    }
   ],
   "source": [
    "Yellow_Cab.shape[0]/df.shape[0]"
   ]
  },
  {
   "cell_type": "markdown",
   "id": "82e944ec",
   "metadata": {},
   "source": [
    "So the remaining  24% of the total users is for the Pink Cab Company."
   ]
  },
  {
   "cell_type": "code",
   "execution_count": 248,
   "id": "b9f42585",
   "metadata": {},
   "outputs": [
    {
     "data": {
      "text/plain": [
       "0.2357064152791381"
      ]
     },
     "execution_count": 248,
     "metadata": {},
     "output_type": "execute_result"
    }
   ],
   "source": [
    "Pink_Cab.shape[0]/df.shape[0]"
   ]
  },
  {
   "cell_type": "markdown",
   "id": "31692fe5",
   "metadata": {},
   "source": [
    "### What steps did you take in order to create an applicable data set?"
   ]
  },
  {
   "cell_type": "markdown",
   "id": "19c5499c",
   "metadata": {},
   "source": [
    "The steps to gain some inside from the data are the following:\n",
    "\n",
    "* Merge all the datasets.\n",
    "* To Perform a quick review of the dataset with seaborn.\n",
    "* Look for correlation coeffcients among these variables KM Travelled, Cost of Trip, Price Charged.\n",
    "* Show that that correlation is definite positive with the p_value."
   ]
  },
  {
   "cell_type": "markdown",
   "id": "c044525e",
   "metadata": {},
   "source": [
    "### How did you prepare and perform your analysis?"
   ]
  },
  {
   "cell_type": "markdown",
   "id": "4ceb5447",
   "metadata": {},
   "source": [
    "### What type of analysis did you perform?"
   ]
  },
  {
   "cell_type": "markdown",
   "id": "9c81f453",
   "metadata": {},
   "source": [
    "We looked for correlation among the variables, and see if they are related, in order to use that to make predictions, the other analysis would be to look for how much does the Users paid for their trips and comparing between the companies so we can see which one charged less."
   ]
  },
  {
   "cell_type": "markdown",
   "id": "9a581795",
   "metadata": {},
   "source": [
    "###  What were the results?"
   ]
  },
  {
   "cell_type": "markdown",
   "id": "4d19e487",
   "metadata": {},
   "source": [
    "The main results are\n",
    "\n",
    "> Eventhough most of the users travelled with the Yellow Cab Company more than 70% in comparison with the Pink Cab Company. \n",
    "\n",
    "\n",
    "> We see clearly that the Pink Company charged price is less than the charged made by Yellow Cab Company.\n",
    "\n",
    "> We strongly recommend XYZ firm to make an investment in the Pink Cab company, eventhoug has a minor users now, but in time it would have more users, because always people prefer to pay less and to get the place they want to get, and if they have options and one of them costs less, they would refer it.\n"
   ]
  },
  {
   "cell_type": "code",
   "execution_count": null,
   "id": "777deb31",
   "metadata": {},
   "outputs": [],
   "source": []
  }
 ],
 "metadata": {
  "kernelspec": {
   "display_name": "Python 3",
   "language": "python",
   "name": "python3"
  },
  "language_info": {
   "codemirror_mode": {
    "name": "ipython",
    "version": 3
   },
   "file_extension": ".py",
   "mimetype": "text/x-python",
   "name": "python",
   "nbconvert_exporter": "python",
   "pygments_lexer": "ipython3",
   "version": "3.8.8"
  }
 },
 "nbformat": 4,
 "nbformat_minor": 5
}
